{
  "cells": [
    {
      "cell_type": "markdown",
      "metadata": {},
      "source": [
        "# Ejecutar script en Azure ML"
      ]
    },
    {
      "cell_type": "markdown",
      "metadata": {},
      "source": [
        "## Conectar a workspace"
      ]
    },
    {
      "cell_type": "code",
      "execution_count": null,
      "metadata": {},
      "outputs": [],
      "source": [
        "! pip show azure-ai-ml"
      ]
    },
    {
      "cell_type": "code",
      "execution_count": null,
      "metadata": {
        "gather": {
          "logged": 1663753569264
        }
      },
      "outputs": [],
      "source": [
        "# conectar al workspace\n",
        "from azure.ai.ml import MLClient\n",
        "from azure.identity import DefaultAzureCredential\n",
        "\n",
        "ml_client = MLClient.from_config(credential=DefaultAzureCredential())\n",
        "\n",
        "print(f\"Conectado al Workspace: {ml_client.workspace_name}\")"
      ]
    },
    {
      "attachments": {},
      "cell_type": "markdown",
      "metadata": {},
      "source": [
        "## Usar el SDK de Python para entrenar un modelo"
      ]
    },
    {
      "cell_type": "code",
      "execution_count": null,
      "metadata": {},
      "outputs": [
        {
          "name": "stdout",
          "output_type": "stream",
          "text": [
            "Overwriting /home/azureuser/cloudfiles/code/Users/formacion/azure-machine-learning/1.Introduccion_AML_Pipelines/labs/src/diabetes-training.py\n"
          ]
        }
      ],
      "source": [
        "%%writefile src/diabetes-training.py\n",
        "\n",
        "# import libraries\n",
        "import pandas as pd\n",
        "import numpy as np\n",
        "from sklearn.model_selection import train_test_split\n",
        "from sklearn.linear_model import LogisticRegression\n",
        "from sklearn.metrics import roc_auc_score\n",
        "from sklearn.metrics import roc_curve\n",
        "\n",
        "# load the diabetes dataset\n",
        "print(\"Loading Data...\")\n",
        "diabetes = pd.read_csv('diabetes.csv')\n",
        "\n",
        "# separate features and labels\n",
        "X, y = diabetes[['Pregnancies','PlasmaGlucose','DiastolicBloodPressure','TricepsThickness','SerumInsulin','BMI','DiabetesPedigree','Age']].values, diabetes['Diabetic'].values\n",
        "\n",
        "# split data into training set and test set\n",
        "X_train, X_test, y_train, y_test = train_test_split(X, y, test_size=0.30, random_state=0)\n",
        "\n",
        "# set regularization hyperparameter\n",
        "reg = 0.01\n",
        "\n",
        "# train a logistic regression model\n",
        "print('Training a logistic regression model with regularization rate of', reg)\n",
        "model = LogisticRegression(C=1/reg, solver=\"liblinear\").fit(X_train, y_train)\n",
        "\n",
        "# calculate accuracy\n",
        "y_hat = model.predict(X_test)\n",
        "acc = np.average(y_hat == y_test)\n",
        "print('Accuracy:', acc)\n",
        "\n",
        "# calculate AUC\n",
        "y_scores = model.predict_proba(X_test)\n",
        "auc = roc_auc_score(y_test,y_scores[:,1])\n",
        "print('AUC: ' + str(auc))\n"
      ]
    },
    {
      "attachments": {},
      "cell_type": "markdown",
      "metadata": {},
      "source": [
        "## Generar el job"
      ]
    },
    {
      "cell_type": "code",
      "execution_count": null,
      "metadata": {},
      "outputs": [
        {
          "name": "stderr",
          "output_type": "stream",
          "text": [
            "Uploading src (0.52 MBs): 100%|██████████| 518911/518911 [00:00<00:00, 4056938.61it/s]\n",
            "\n",
            "\n"
          ]
        },
        {
          "name": "stdout",
          "output_type": "stream",
          "text": [
            "Experimento enviado: type: command\n",
            "outputs:\n",
            "  default:\n",
            "    mode: rw_mount\n",
            "    type: uri_folder\n",
            "    path: azureml://datastores/workspaceartifactstore/ExperimentRun/dcid.icy_endive_pwz49yv043\n",
            "environment: azureml://registries/azureml/environments/sklearn-1.1/versions/4\n",
            "resources:\n",
            "  instance_count: 1\n",
            "  shm_size: 2g\n",
            "component:\n",
            "  name: icy_endive_pwz49yv043\n",
            "  display_name: diabetes-training-ric\n",
            "  type: command\n",
            "  outputs:\n",
            "    default:\n",
            "      type: uri_folder\n",
            "      mode: rw_mount\n",
            "  command: python diabetes-training.py\n",
            "  environment: azureml://registries/azureml/environments/sklearn-1.1/versions/4\n",
            "  code: azureml:/subscriptions/7decb7a4-f615-4cc3-9d7d-5de10998373f/resourceGroups/naturgy/providers/Microsoft.MachineLearningServices/workspaces/naturgyml4/codes/59f44e09-9bfc-449e-9718-4d6a8eb21205/versions/1\n",
            "  creation_context:\n",
            "    created_at: '2025-05-08T08:37:30.340287+00:00'\n",
            "    created_by: Ricardo Ahumada\n",
            "    created_by_type: User\n",
            "  is_deterministic: true\n",
            "compute: azureml:ricardoenm\n",
            "properties:\n",
            "  _azureml.ComputeTargetType: amlcdsi\n",
            "  _azureml.ClusterName: ricardoenm\n",
            "  ContentSnapshotId: 3263d9b0-48e2-4246-9720-f14929608191\n",
            "queue_settings:\n",
            "  job_tier: 'null'\n",
            "services:\n",
            "  Tracking:\n",
            "    endpoint: azureml://northcentralus.api.azureml.ms/mlflow/v1.0/subscriptions/7decb7a4-f615-4cc3-9d7d-5de10998373f/resourceGroups/naturgy/providers/Microsoft.MachineLearningServices/workspaces/naturgyml4?\n",
            "    type: Tracking\n",
            "  Studio:\n",
            "    endpoint: https://ml.azure.com/runs/icy_endive_pwz49yv043?wsid=/subscriptions/7decb7a4-f615-4cc3-9d7d-5de10998373f/resourcegroups/naturgy/workspaces/naturgyml4&tid=8b85184d-f6f0-4ace-80dd-c3bda5a6c156\n",
            "    type: Studio\n",
            "\n"
          ]
        }
      ],
      "source": [
        "from azure.ai.ml import command, MLClient\n",
        "from azure.ai.ml.entities import Environment\n",
        "\n",
        "# Definir un comando para el experimento\n",
        "job = command(\n",
        "    code=\"./src\",  # Carpeta con el código\n",
        "    command=\"python diabetes-training.py\",\n",
        "    environment=\"azureml://registries/azureml/environments/sklearn-1.1/versions/4\",\n",
        "    compute=\"ricardoenm\",\n",
        "    display_name=\"diabetes-training-ric\"\n",
        ")\n",
        "\n",
        "# Enviar el experimento\n",
        "returned_job = ml_client.jobs.create_or_update(job)\n",
        "print(f\"Experimento enviado: {returned_job}\")\n",
        "\n"
      ]
    }
  ],
  "metadata": {
    "kernel_info": {
      "name": "python38-azureml"
    },
    "kernelspec": {
      "display_name": "Python 3.10 - SDK v2",
      "language": "python",
      "name": "python310-sdkv2"
    },
    "language_info": {
      "codemirror_mode": {
        "name": "ipython",
        "version": 3
      },
      "file_extension": ".py",
      "mimetype": "text/x-python",
      "name": "python",
      "nbconvert_exporter": "python",
      "pygments_lexer": "ipython3",
      "version": "3.10.16"
    },
    "microsoft": {
      "host": {
        "AzureML": {
          "notebookHasBeenCompleted": true
        }
      }
    },
    "nteract": {
      "version": "nteract-front-end@1.0.0"
    }
  },
  "nbformat": 4,
  "nbformat_minor": 2
}
