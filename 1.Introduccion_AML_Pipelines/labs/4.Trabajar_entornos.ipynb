{
  "cells": [
    {
      "attachments": {},
      "cell_type": "markdown",
      "metadata": {
        "nteract": {
          "transient": {
            "deleting": false
          }
        }
      },
      "source": [
        "# Trabajar con entornos (environments)"
      ]
    },
    {
      "cell_type": "code",
      "execution_count": null,
      "metadata": {
        "gather": {
          "logged": 1665745893251
        }
      },
      "outputs": [],
      "source": [
        "# mostrar info de azure-ai-ml\n",
        "\n",
        "! pip show azure-ai-ml"
      ]
    },
    {
      "cell_type": "markdown",
      "metadata": {},
      "source": [
        "## Conectar a workspace"
      ]
    },
    {
      "cell_type": "code",
      "execution_count": null,
      "metadata": {},
      "outputs": [],
      "source": [
        "# conectar\n",
        "from azure.ai.ml import MLClient\n",
        "from azure.identity import DefaultAzureCredential\n",
        "\n",
        "ml_client = MLClient.from_config(credential=DefaultAzureCredential())\n",
        "\n",
        "print(f\"Conectado al Workspace: {ml_client.workspace_name}\")\n"
      ]
    },
    {
      "attachments": {},
      "cell_type": "markdown",
      "metadata": {},
      "source": [
        "## Ejecutar un script como job"
      ]
    },
    {
      "cell_type": "code",
      "execution_count": null,
      "metadata": {},
      "outputs": [],
      "source": [
        "%%writefile src/diabetes-training.py\n",
        "# import libraries\n",
        "import pandas as pd\n",
        "import numpy as np\n",
        "from sklearn.model_selection import train_test_split\n",
        "from sklearn.linear_model import LogisticRegression\n",
        "from sklearn.metrics import roc_auc_score\n",
        "from sklearn.metrics import roc_curve\n",
        "\n",
        "# load the diabetes dataset\n",
        "print(\"Loading Data...\")\n",
        "diabetes = pd.read_csv('diabetes.csv')\n",
        "\n",
        "# separate features and labels\n",
        "X, y = diabetes[['Pregnancies','PlasmaGlucose','DiastolicBloodPressure','TricepsThickness','SerumInsulin','BMI','DiabetesPedigree','Age']].values, diabetes['Diabetic'].values\n",
        "\n",
        "# split data into training set and test set\n",
        "X_train, X_test, y_train, y_test = train_test_split(X, y, test_size=0.30, random_state=0)\n",
        "\n",
        "# set regularization hyperparameter\n",
        "reg = 0.01\n",
        "\n",
        "# train a logistic regression model\n",
        "print('Training a logistic regression model with regularization rate of', reg)\n",
        "model = LogisticRegression(C=1/reg, solver=\"liblinear\").fit(X_train, y_train)\n",
        "\n",
        "# calculate accuracy\n",
        "y_hat = model.predict(X_test)\n",
        "acc = np.average(y_hat == y_test)\n",
        "print('Accuracy:', acc)\n",
        "\n",
        "# calculate AUC\n",
        "y_scores = model.predict_proba(X_test)\n",
        "auc = roc_auc_score(y_test,y_scores[:,1])\n",
        "print('AUC: ' + str(auc))"
      ]
    },
    {
      "attachments": {},
      "cell_type": "markdown",
      "metadata": {},
      "source": [
        "Después de crear el script, puede ejecutar el script como un trabajo.El script utiliza bibliotecas comunes.Por lo tanto, puede usar un entorno curado que incluya pandas, numpy y scikit-learn, entre otros.\n",
        "\n",
        "El trabajo utiliza la última versión del entorno curado: `AzureML-sklearn-0.24-ubuntu18.04-py37-cpu`."
      ]
    },
    {
      "cell_type": "code",
      "execution_count": null,
      "metadata": {},
      "outputs": [],
      "source": [
        "from azure.ai.ml import command\n",
        "\n",
        "# configure job\n",
        "job = command(\n",
        "    code=\"./src\",\n",
        "    command=\"python diabetes-training.py\",\n",
        "    environment=\"AzureML-sklearn-0.24-ubuntu18.04-py37-cpu@latest\",\n",
        "    compute=\"<vm o cluster>\",\n",
        "    display_name=\"diabetes-train-curated-env\",\n",
        "    experiment_name=\"diabetes-training\"\n",
        ")\n",
        "\n",
        "# submit job\n",
        "returned_job = ml_client.create_or_update(job)\n",
        "aml_url = returned_job.studio_url\n",
        "print(\"Monitor your job at\", aml_url)"
      ]
    },
    {
      "attachments": {},
      "cell_type": "markdown",
      "metadata": {},
      "source": [
        "## Listar environments"
      ]
    },
    {
      "cell_type": "code",
      "execution_count": null,
      "metadata": {},
      "outputs": [],
      "source": [
        "# listar los entornos\n",
        "\n",
        "# para enumerar los entornos usando el SDK de Python:\n",
        "\n",
        "envs = ml_client.environments.list()\n",
        "for env in envs:\n",
        "    print(env.name)\n",
        "\n"
      ]
    },
    {
      "cell_type": "code",
      "execution_count": null,
      "metadata": {},
      "outputs": [],
      "source": [
        "# para revisar los detalles de un entorno específico, puede recuperar el entorno por su nombre registrado:\n",
        "\n",
        "env = ml_client.environments.get(name=\"AzureML-tensorflow-2.4-ubuntu18.04-py37-cuda11-gpu\", version=\"1\")\n",
        "print(env)"
      ]
    },
    {
      "attachments": {},
      "cell_type": "markdown",
      "metadata": {},
      "source": [
        "Tener en cuenta que todos los entornos curados tienen nombres que comienzan **AzureML-** (No se puede usar este prefijo para sus propios entornos).\n",
        "\n",
        "Para revisar un entorno específico, puede recuperar un entorno por su nombre y versión.Por ejemplo, puede recuperar la *descripción* y *etiquetas* del entorno curado que utilizó para el trabajo anterior:"
      ]
    },
    {
      "cell_type": "code",
      "execution_count": null,
      "metadata": {},
      "outputs": [],
      "source": [
        "env = ml_client.environments.get(\"AzureML-sklearn-0.24-ubuntu18.04-py37-cpu\", version=44)\n",
        "print(env.description, env.tags)"
      ]
    },
    {
      "attachments": {},
      "cell_type": "markdown",
      "metadata": {},
      "source": [
        "## Crear y usar un entorno personalizado\n",
        "\n",
        "- Si un entorno curado no incluye todos los paquetes de Python que necesita para ejecutar tu script, se puede crear un entorno personalizado.\n",
        "- Al enumerar todos los paquetes necesarios en un entorno, se puede volver a ejecutar fácilmente los scripts.\n",
        "- Todas las dependencias se almacenan en el entorno que luego se puede especificar en la configuración del job, independientemente del cómputo que se utilice.\n",
        "\n",
        "Por ejemplo, se puede crear un entorno a partir de una imagen de Docker."
      ]
    },
    {
      "cell_type": "code",
      "execution_count": null,
      "metadata": {},
      "outputs": [],
      "source": [
        "# Crear entorno\n",
        "from azure.ai.ml.entities import Environment\n",
        "\n",
        "env_docker_image = Environment(\n",
        "    image=\"mcr.microsoft.com/azureml/curated/sklearn-1.5:26\",\n",
        "    name=\"sklearn-env-ric\",\n",
        "    description=\"Environment created from a Azure ML Docker image.\",\n",
        "    version=\"3\"\n",
        ")\n",
        "\n",
        "ml_client.environments.create_or_update(env_docker_image)"
      ]
    },
    {
      "attachments": {},
      "cell_type": "markdown",
      "metadata": {},
      "source": [
        "El entorno ahora está registrado en el espacio de trabajo y se puede hacer referencia a él cuando ejecuta un script como un job:"
      ]
    },
    {
      "cell_type": "code",
      "execution_count": null,
      "metadata": {},
      "outputs": [],
      "source": [
        "from azure.ai.ml import command\n",
        "\n",
        "# configure job\n",
        "job = command(\n",
        "    code=\"/home/azureuser/cloudfiles/code/Users/formacion/azure-machine-learning/1.Introduccion_AML_Pipelines/labs/src\",\n",
        "    command=\"python diabetes-training.py\",\n",
        "    environment=\"sklearn-env-ric:3\",\n",
        "    compute=\"ricardoenm\",\n",
        "    display_name=\"diabetes-train-custom-env-ric\",\n",
        "    experiment_name=\"diabetes-train-custom-env-ric\"\n",
        ")\n",
        "\n",
        "# submit job\n",
        "returned_job = ml_client.create_or_update(job)\n",
        "aml_url = returned_job.studio_url\n",
        "print(\"Monitorear el job en\", aml_url)"
      ]
    },
    {
      "attachments": {},
      "cell_type": "markdown",
      "metadata": {},
      "source": [
        "<p style=\"color:red;font-size:120%;background-color:yellow;font-weight:bold\"> ¡El job fallará rápidamente!Revise el mensaje de error. </p>\n",
        "\n",
        "El mensaje de error le dirá que no hay un módulo llamado pandas.Hay dos causas posibles para tal error:\n",
        "\n",
        "- El script usa pandas pero no importó la librería (`import pandas as pd`). \n",
        "- El script importa la librería en la parte superior del script, pero el proceso no tenía la librería instalada (`pip install pandas`).\n",
        "\n",
        "Crearemos un entorno nuevo, utilizando la imagen base Docker utilizada en el trabajo anterior.\n",
        "- Generemos una especificación para asegurarnos de que se instalarán los paquetes necesarios."
      ]
    },
    {
      "cell_type": "code",
      "execution_count": null,
      "metadata": {},
      "outputs": [],
      "source": [
        "# Añadir especificaciones al entorno\n",
        "%%writefile /home/azureuser/cloudfiles/code/Users/formacion/azure-machine-learning/1.Introduccion_AML_Pipelines/labs/src/conda-env.yml\n",
        "\n",
        "name: basic-env-cpu\n",
        "channels:\n",
        "    - conda-forge\n",
        "dependencies:\n",
        "    - python=3.11\n",
        "    - scikit-learn\n",
        "    - pandas\n",
        "    - numpy\n",
        "    - matplotlib\n",
        "    pip:\n",
        "        - mltable"
      ]
    },
    {
      "attachments": {},
      "cell_type": "markdown",
      "metadata": {},
      "source": [
        "Tener en cuenta que todas las dependencias necesarias se incluyen en el archivo de especificación de Conda para que el script se ejecute correctamente.\n",
        "\n",
        "- Crear un nuevo entorno utilizando la imagen base Docker **y** el archivo de especificación de conda para agregar las dependencias necesarias.\n",
        "- Azure Machine Learning construirá el entorno Conda sobre la imagen de Docker definida."
      ]
    },
    {
      "cell_type": "code",
      "execution_count": 22,
      "metadata": {},
      "outputs": [
        {
          "data": {
            "text/plain": [
              "Environment({'arm_type': 'environment_version', 'latest_version': None, 'image': 'mcr.microsoft.com/azureml/curated/sklearn-1.5:26', 'intellectual_property': None, 'is_anonymous': False, 'auto_increment_version': False, 'auto_delete_setting': None, 'name': 'sklearn-env-ric', 'description': 'Environment created from a Azure ML Docker image.', 'tags': {}, 'properties': {'azureml.labels': 'latest'}, 'print_as_yaml': False, 'id': '/subscriptions/7decb7a4-f615-4cc3-9d7d-5de10998373f/resourceGroups/naturgy/providers/Microsoft.MachineLearningServices/workspaces/naturgyml4/environments/sklearn-env-ric/versions/4', 'Resource__source_path': '', 'base_path': '/mnt/batch/tasks/shared/LS_root/mounts/clusters/ricardoenm/code', 'creation_context': <azure.ai.ml.entities._system_data.SystemData object at 0x73189d5c7970>, 'serialize': <msrest.serialization.Serializer object at 0x73189d5c60b0>, 'version': '4', 'conda_file': {'channels': ['conda-forge'], 'dependencies': ['python=3.11', 'scikit-learn', 'pandas', 'numpy', 'matplotlib', 'mltable'], 'name': 'basic-env-cpu'}, 'build': None, 'inference_config': None, 'os_type': 'Linux', 'conda_file_path': None, 'path': None, 'datastore': None, 'upload_hash': None, 'translated_conda_file': '{\\n  \"channels\": [\\n    \"conda-forge\"\\n  ],\\n  \"dependencies\": [\\n    \"python=3.11\",\\n    \"scikit-learn\",\\n    \"pandas\",\\n    \"numpy\",\\n    \"matplotlib\",\\n    \"mltable\"\\n  ],\\n  \"name\": \"basic-env-cpu\"\\n}'})"
            ]
          },
          "execution_count": 22,
          "metadata": {},
          "output_type": "execute_result"
        }
      ],
      "source": [
        "# Crear nuevo entorno\n",
        "from azure.ai.ml.entities import Environment\n",
        "\n",
        "env_docker_image = Environment(\n",
        "    image=\"mcr.microsoft.com/azureml/curated/sklearn-1.5:26\",\n",
        "    conda_file=\"/home/azureuser/cloudfiles/code/Users/formacion/azure-machine-learning/1.Introduccion_AML_Pipelines/labs/src/conda-env.yml\",\n",
        "    name=\"sklearn-env-ric\",\n",
        "    description=\"Environment created from a Azure ML Docker image.\",\n",
        "    version=\"4\"\n",
        ")\n",
        "\n",
        "ml_client.environments.create_or_update(env_docker_image)"
      ]
    },
    {
      "attachments": {},
      "cell_type": "markdown",
      "metadata": {},
      "source": [
        "Ahora, se puede enviar un job con el nuevo entorno para ejecutar el script:"
      ]
    },
    {
      "cell_type": "code",
      "execution_count": 23,
      "metadata": {},
      "outputs": [
        {
          "name": "stderr",
          "output_type": "stream",
          "text": [
            "Uploading src (0.52 MBs): 100%|██████████| 520449/520449 [00:00<00:00, 4195392.25it/s]\n",
            "\n",
            "\n"
          ]
        },
        {
          "name": "stdout",
          "output_type": "stream",
          "text": [
            "Monitorear el job en https://ml.azure.com/runs/maroon_flag_8t86vs8tf7?wsid=/subscriptions/7decb7a4-f615-4cc3-9d7d-5de10998373f/resourcegroups/naturgy/workspaces/naturgyml4&tid=8b85184d-f6f0-4ace-80dd-c3bda5a6c156\n"
          ]
        }
      ],
      "source": [
        "from azure.ai.ml import command\n",
        "\n",
        "# configure job\n",
        "job = command(\n",
        "    code=\"/home/azureuser/cloudfiles/code/Users/formacion/azure-machine-learning/1.Introduccion_AML_Pipelines/labs/src\",\n",
        "    command=\"python diabetes-training.py\",\n",
        "    environment=\"sklearn-env-ric:4\",\n",
        "    compute=\"ricardoenm\",\n",
        "    display_name=\"diabetes-train-custom-env-ric\",\n",
        "    experiment_name=\"diabetes-train-custom-env-ric\"\n",
        ")\n",
        "\n",
        "# submit job\n",
        "returned_job = ml_client.create_or_update(job)\n",
        "aml_url = returned_job.studio_url\n",
        "print(\"Monitorear el job en\", aml_url)"
      ]
    }
  ],
  "metadata": {
    "kernel_info": {
      "name": "python38-azureml"
    },
    "kernelspec": {
      "display_name": "Python 3.10 - SDK v2",
      "language": "python",
      "name": "python310-sdkv2"
    },
    "microsoft": {
      "host": {
        "AzureML": {
          "notebookHasBeenCompleted": true
        }
      }
    },
    "nteract": {
      "version": "nteract-front-end@1.0.0"
    }
  },
  "nbformat": 4,
  "nbformat_minor": 2
}
