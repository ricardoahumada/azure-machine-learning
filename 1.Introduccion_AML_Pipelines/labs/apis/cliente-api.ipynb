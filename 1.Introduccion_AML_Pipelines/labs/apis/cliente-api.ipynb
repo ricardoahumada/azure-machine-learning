{
 "cells": [
  {
   "cell_type": "markdown",
   "id": "c4aba458",
   "metadata": {},
   "source": [
    "# Cliente api"
   ]
  },
  {
   "cell_type": "code",
   "execution_count": 5,
   "id": "03a6ca4d",
   "metadata": {},
   "outputs": [
    {
     "name": "stdout",
     "output_type": "stream",
     "text": [
      "{'prediction': 0}\n"
     ]
    }
   ],
   "source": [
    "import requests\n",
    "\n",
    "# URL de la API\n",
    "url = \"http://127.0.0.1:5000/predict\"\n",
    "\n",
    "# Datos de entrada\n",
    "data = {\"features\": [1.1, 2.5, 1.1, 1.2]}\n",
    "\n",
    "# Enviar solicitud POST\n",
    "response = requests.post(url, json=data)\n",
    "\n",
    "# Mostrar la respuesta\n",
    "print(response.json())"
   ]
  }
 ],
 "metadata": {
  "kernelspec": {
   "display_name": "Python 3.10 - SDK v2",
   "language": "python",
   "name": "python310-sdkv2"
  },
  "language_info": {
   "codemirror_mode": {
    "name": "ipython",
    "version": 3
   },
   "file_extension": ".py",
   "mimetype": "text/x-python",
   "name": "python",
   "nbconvert_exporter": "python",
   "pygments_lexer": "ipython3",
   "version": "3.10.16"
  }
 },
 "nbformat": 4,
 "nbformat_minor": 5
}
