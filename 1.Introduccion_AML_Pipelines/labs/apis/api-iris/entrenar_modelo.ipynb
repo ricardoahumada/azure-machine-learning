{
 "cells": [
  {
   "cell_type": "markdown",
   "id": "9893bcd5",
   "metadata": {},
   "source": [
    "# Entrenar modelo"
   ]
  },
  {
   "cell_type": "code",
   "execution_count": null,
   "id": "f31884b0",
   "metadata": {},
   "outputs": [
    {
     "name": "stdout",
     "output_type": "stream",
     "text": [
      "Modelo guardado como 'model.joblib'\n"
     ]
    }
   ],
   "source": [
    "from sklearn.datasets import load_iris\n",
    "from sklearn.linear_model import LogisticRegression\n",
    "import joblib\n",
    "\n",
    "# Cargar datos\n",
    "X, y = load_iris(return_X_y=True)\n",
    "\n",
    "# Entrenar modelo\n",
    "model = LogisticRegression(max_iter=200)\n",
    "model.fit(X, y)\n",
    "\n",
    "# Guardar el modelo en un archivo usando joblib\n",
    "joblib.dump(model, \"model.joblib\")\n",
    "print(\"Modelo guardado como 'model.joblib'\")"
   ]
  }
 ],
 "metadata": {
  "kernelspec": {
   "display_name": "Python 3.10 - SDK v2",
   "language": "python",
   "name": "python310-sdkv2"
  },
  "language_info": {
   "codemirror_mode": {
    "name": "ipython",
    "version": 3
   },
   "file_extension": ".py",
   "mimetype": "text/x-python",
   "name": "python",
   "nbconvert_exporter": "python",
   "pygments_lexer": "ipython3",
   "version": "3.10.16"
  }
 },
 "nbformat": 4,
 "nbformat_minor": 5
}
