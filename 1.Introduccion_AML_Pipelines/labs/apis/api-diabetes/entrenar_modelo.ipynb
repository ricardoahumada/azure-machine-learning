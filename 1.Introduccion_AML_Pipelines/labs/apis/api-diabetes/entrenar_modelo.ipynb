{
 "cells": [
  {
   "cell_type": "markdown",
   "id": "9893bcd5",
   "metadata": {},
   "source": [
    "# Entrenar modelo"
   ]
  },
  {
   "cell_type": "code",
   "execution_count": 1,
   "id": "f31884b0",
   "metadata": {},
   "outputs": [],
   "source": [
    "import pandas as pd\n",
    "import numpy as np\n",
    "from sklearn.model_selection import train_test_split\n",
    "from sklearn.linear_model import LogisticRegression\n",
    "from sklearn.metrics import roc_auc_score\n",
    "from sklearn.metrics import roc_curve\n",
    "import matplotlib.pyplot as plt\n",
    "import joblib"
   ]
  },
  {
   "cell_type": "code",
   "execution_count": 5,
   "id": "bf866515",
   "metadata": {},
   "outputs": [],
   "source": [
    "from libs.my_utils import get_data, split_data, train_model, eval_model, save_model"
   ]
  },
  {
   "cell_type": "code",
   "execution_count": null,
   "id": "ddb02c37",
   "metadata": {},
   "outputs": [],
   "source": [
    "\n",
    "# # function that reads the data\n",
    "# def get_data(data_path):\n",
    "#     print(\"Reading data...\")\n",
    "    \n",
    "#     df = pd.read_csv(data_path)\n",
    "    \n",
    "#     return df\n",
    "\n",
    "# # function that splits the data\n",
    "# def split_data(df):\n",
    "#     print(\"Splitting data...\")\n",
    "#     X, y = df[['Pregnancies','PlasmaGlucose','DiastolicBloodPressure','TricepsThickness',\n",
    "#     'SerumInsulin','BMI','DiabetesPedigree','Age']].values, df['Diabetic'].values\n",
    "\n",
    "#     X_train, X_test, y_train, y_test = train_test_split(X, y, test_size=0.30, random_state=0)\n",
    "\n",
    "#     return X_train, X_test, y_train, y_test\n",
    "\n",
    "# # function that trains the model\n",
    "# def train_model(reg_rate, X_train, X_test, y_train, y_test):\n",
    "#     print(\"Training model...\")\n",
    "#     model = LogisticRegression(C=1/reg_rate, solver=\"liblinear\").fit(X_train, y_train)\n",
    "\n",
    "#     return model\n",
    "\n",
    "# # function that evaluates the model\n",
    "# def eval_model(model, X_test, y_test):\n",
    "#     # calculate accuracy\n",
    "#     y_hat = model.predict(X_test)\n",
    "#     acc = np.average(y_hat == y_test)\n",
    "#     print('Accuracy:', acc)\n",
    "\n",
    "# # function that saves the model\n",
    "# def save_model(model, path):\n",
    "#     joblib.dump(model, path)\n",
    "#     print(\"Saved model: 'model.joblib'\")"
   ]
  },
  {
   "cell_type": "code",
   "execution_count": 6,
   "id": "342b409d",
   "metadata": {},
   "outputs": [
    {
     "name": "stdout",
     "output_type": "stream",
     "text": [
      "Reading data...\n",
      "Splitting data...\n",
      "Training model...\n",
      "Accuracy: 0.774\n",
      "Saved model: 'model.joblib'\n"
     ]
    }
   ],
   "source": [
    "# read data\n",
    "df = get_data('../../../../data/diabetes/diabetes.csv')\n",
    "\n",
    "# split data\n",
    "X_train, X_test, y_train, y_test = split_data(df)\n",
    "\n",
    "# train model\n",
    "model = train_model(0.01, X_train, X_test, y_train, y_test)\n",
    "\n",
    "# eval model\n",
    "eval_model(model, X_test, y_test)\n",
    "\n",
    "# save model\n",
    "save_model(model, './app/model.joblib')\n"
   ]
  }
 ],
 "metadata": {
  "kernelspec": {
   "display_name": "Python 3",
   "language": "python",
   "name": "python3"
  },
  "language_info": {
   "codemirror_mode": {
    "name": "ipython",
    "version": 3
   },
   "file_extension": ".py",
   "mimetype": "text/x-python",
   "name": "python",
   "nbconvert_exporter": "python",
   "pygments_lexer": "ipython3",
   "version": "3.12.4"
  }
 },
 "nbformat": 4,
 "nbformat_minor": 5
}
