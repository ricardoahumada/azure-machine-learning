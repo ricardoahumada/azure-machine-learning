{
 "cells": [
  {
   "cell_type": "markdown",
   "id": "c4aba458",
   "metadata": {},
   "source": [
    "# Cliente api"
   ]
  },
  {
   "cell_type": "code",
   "execution_count": 50,
   "id": "03a6ca4d",
   "metadata": {},
   "outputs": [],
   "source": [
    "import requests\n",
    "import pandas as pd\n",
    "import numpy as np\n",
    "\n",
    "# URL de la API\n",
    "url = \"http://127.0.0.1:5000/predict\"\n",
    "\n",
    "# pedir predicción\n",
    "def get_prediction(data, url):\n",
    "    \"\"\"Envía una solicitud POST a la API y devuelve la respuesta JSON.\"\"\"\n",
    "    try:\n",
    "        response = requests.post(url, json=data)\n",
    "        response.raise_for_status()  # Lanza un error si la respuesta no es 200\n",
    "        return response.json()\n",
    "    except requests.exceptions.RequestException as e:\n",
    "        print(f\"Error al realizar la solicitud: {e}\")\n",
    "        return None\n",
    "    \n",
    "# leer los datos\n",
    "def get_data(data_path):\n",
    "    df = pd.read_csv(data_path)\n",
    "    \n",
    "    return df"
   ]
  },
  {
   "cell_type": "markdown",
   "id": "133f1035",
   "metadata": {},
   "source": [
    "## Datos de entrada\n",
    "PatientID, Pregnancies, PlasmaGlucose, DiastolicBloodPressure, TricepsThickness, SerumInsulin, BMI, DiabetesPedigree, Age"
   ]
  },
  {
   "cell_type": "markdown",
   "id": "d478aa19",
   "metadata": {},
   "source": [
    "### Datos para predicción 0"
   ]
  },
  {
   "cell_type": "code",
   "execution_count": null,
   "id": "b2c5b4d7",
   "metadata": {},
   "outputs": [
    {
     "name": "stdout",
     "output_type": "stream",
     "text": [
      "{'prediction': 0}\n"
     ]
    }
   ],
   "source": [
    "data = {\"features\": [0,171,80,34,23,43.50972593,1.213191354,21]}\n",
    "response = get_prediction(data, url)\n",
    "print(response)"
   ]
  },
  {
   "cell_type": "markdown",
   "id": "cbbc352a",
   "metadata": {},
   "source": [
    "### Datos para predicción 1"
   ]
  },
  {
   "cell_type": "code",
   "execution_count": 10,
   "id": "9a2932f9",
   "metadata": {},
   "outputs": [
    {
     "name": "stdout",
     "output_type": "stream",
     "text": [
      "{'prediction': 1}\n"
     ]
    }
   ],
   "source": [
    "data = {\"features\": [8,80,95,33,24,26.62492885,0.443947388,53]}\n",
    "response = get_prediction(data, url)\n",
    "print(response)"
   ]
  },
  {
   "cell_type": "markdown",
   "id": "498f7e4c",
   "metadata": {},
   "source": [
    "## Evaluar api"
   ]
  },
  {
   "cell_type": "code",
   "execution_count": 51,
   "id": "65eaab09",
   "metadata": {},
   "outputs": [
    {
     "name": "stdout",
     "output_type": "stream",
     "text": [
      "predictions: [0, 0, 1, 1, 0, 1, 1, 0, 0, 0]\n",
      "accuracy: 0.8\n"
     ]
    }
   ],
   "source": [
    "# read data\n",
    "df = get_data('../../../../data/diabetes/diabetes.csv')\n",
    "\n",
    "df_sample = df.sample(10)\n",
    "\n",
    "df_features = df_sample.drop(columns=['PatientID', 'Diabetic'])\n",
    "target = df_sample['Diabetic']\n",
    "\n",
    "predictions = []\n",
    "\n",
    "for index, row in df_features.iterrows():\n",
    "    data = {\"features\": row.values.tolist()}\n",
    "    response = get_prediction(data, url)\n",
    "    predictions.append(response['prediction'])\n",
    "\n",
    "print('predictions:', predictions)\n",
    "\n",
    "correct = (np.array(predictions) == np.array(target.values.tolist()))\n",
    "accuracy = correct.sum() / correct.size\n",
    "print('accuracy:', accuracy)"
   ]
  }
 ],
 "metadata": {
  "kernelspec": {
   "display_name": "Python 3",
   "language": "python",
   "name": "python3"
  },
  "language_info": {
   "codemirror_mode": {
    "name": "ipython",
    "version": 3
   },
   "file_extension": ".py",
   "mimetype": "text/x-python",
   "name": "python",
   "nbconvert_exporter": "python",
   "pygments_lexer": "ipython3",
   "version": "3.12.4"
  }
 },
 "nbformat": 4,
 "nbformat_minor": 5
}
