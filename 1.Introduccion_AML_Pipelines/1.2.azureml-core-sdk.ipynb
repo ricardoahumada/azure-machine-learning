{
 "cells": [
  {
   "cell_type": "markdown",
   "id": "47db0cc8",
   "metadata": {},
   "source": [
    "# **Conceptos Fundamentales de azureml-core SDK v1**"
   ]
  },
  {
   "cell_type": "markdown",
   "id": "5b4af88c",
   "metadata": {},
   "source": [
    "\n",
    "## **1. `azureml-core`**\n",
    "- `azureml-core` es el componente central del SDK de Azure Machine Learning. \n",
    "- Proporciona herramientas para gestionar áreas de trabajo, experimentos, pipelines y recursos computacionales. \n",
    "- Es esencial para interactuar con Azure ML desde un entorno de desarrollo local o remoto.\n",
    "\n",
    "> https://learn.microsoft.com/en-us/python/api/azureml-core/azureml.core?view=azure-ml-py\n",
    "\n",
    "### Instalación\n",
    "Antes de comenzar, asegúrate de instalar el SDK:\n"
   ]
  },
  {
   "cell_type": "code",
   "execution_count": 3,
   "id": "663b40b0",
   "metadata": {},
   "outputs": [],
   "source": [
    "# ! pip install azureml-core"
   ]
  },
  {
   "cell_type": "markdown",
   "id": "57e4a068",
   "metadata": {},
   "source": [
    "## **2. Configuración Inicial**\n",
    "\n",
    "### Crear un área de trabajo\n",
    "El área de trabajo (`Workspace`) es el recurso central que organiza todos los recursos de Azure ML. Puedes crear una nueva área de trabajo o conectarte a una existente."
   ]
  },
  {
   "cell_type": "code",
   "execution_count": null,
   "id": "4c3ac75d",
   "metadata": {},
   "outputs": [],
   "source": [
    "from azureml.core import Workspace\n",
    "\n",
    "# Crear un área de trabajo\n",
    "ws = Workspace.create(name='mi-area-trabajo',\n",
    "                      subscription_id='TU_SUBSCRIPTION_ID',  # Reemplaza con tu ID de suscripción\n",
    "                      resource_group='mi-grupo-recursos',    # Reemplaza con tu grupo de recursos\n",
    "                      create_resource_group=True,\n",
    "                      location='eastus')                     # Reemplaza con tu región\n",
    "\n",
    "# Guardar la configuración en un archivo config.json\n",
    "ws.write_config()\n",
    "print(f\"Área de trabajo creada: {ws.name}\")\n"
   ]
  },
  {
   "cell_type": "markdown",
   "id": "191005e9",
   "metadata": {},
   "source": [
    "\n",
    "### Conectarse a un área de trabajo existente\n",
    "Si ya tienes un área de trabajo, puedes conectarte a ella utilizando el archivo `config.json` generado previamente.\n"
   ]
  },
  {
   "cell_type": "code",
   "execution_count": null,
   "id": "702c40f7",
   "metadata": {},
   "outputs": [],
   "source": [
    "from azureml.core import Workspace\n",
    "\n",
    "# Conectarse a un área de trabajo existente\n",
    "ws = Workspace.from_config()\n",
    "print(f\"Conectado al área de trabajo: {ws.name}\")\n"
   ]
  },
  {
   "cell_type": "markdown",
   "id": "c918edce",
   "metadata": {},
   "source": [
    "O indicando los datos de conexión:"
   ]
  },
  {
   "cell_type": "code",
   "execution_count": null,
   "id": "ac33c632",
   "metadata": {},
   "outputs": [],
   "source": [
    "from azureml.core import Workspace\n",
    "\n",
    "# Configuración manual del Workspace\n",
    "subscription_id = \"TU_SUBSCRIPTION_ID\"\n",
    "resource_group = \"TU_GRUPO_DE_RECURSOS\"\n",
    "workspace_name = \"TU_WORKSPACE\"\n",
    "\n",
    "# Conectarse al Workspace\n",
    "ws = Workspace.get(\n",
    "    name=workspace_name,\n",
    "    subscription_id=subscription_id,\n",
    "    resource_group=resource_group\n",
    ")\n",
    "\n",
    "# Verificar la conexión\n",
    "print(f\"Conectado al Workspace: {ws.name}\")\n",
    "print(f\"Grupo de Recursos: {ws.resource_group}\")\n",
    "print(f\"Suscripción: {ws.subscription_id}\")"
   ]
  },
  {
   "cell_type": "markdown",
   "id": "53390860",
   "metadata": {},
   "source": [
    "## **3. Experimentos**\n",
    "\n",
    "### ¿Qué son los experimentos?\n",
    "Un experimento (`Experiment`) es una colección de ejecuciones (runs) que permiten realizar pruebas y comparaciones entre diferentes modelos o configuraciones.\n",
    "\n",
    "#### Ejemplo: Crear y ejecutar un experimento\n"
   ]
  },
  {
   "cell_type": "code",
   "execution_count": null,
   "id": "9bda648b",
   "metadata": {},
   "outputs": [],
   "source": [
    "from azureml.core import Experiment\n",
    "\n",
    "# Crear un experimento\n",
    "experiment = Experiment(workspace=ws, name=\"mi-primer-experimento\")\n",
    "\n",
    "# Iniciar una ejecución\n",
    "run = experiment.start_logging()\n",
    "\n",
    "# Registrar métricas\n",
    "run.log(\"precisión\", 0.95)\n",
    "run.log(\"pérdida\", 0.05)\n",
    "\n",
    "# Finalizar la ejecución\n",
    "run.complete()\n",
    "print(f\"Ejecución completada: {run.id}\")"
   ]
  },
  {
   "cell_type": "markdown",
   "id": "540febe3",
   "metadata": {},
   "source": [
    "## **4. Datos**\n",
    "\n",
    "### Conjuntos de datos (`Dataset`)\n",
    "Azure ML permite trabajar con conjuntos de datos (`Dataset`) para cargar y procesar datos de manera eficiente.\n",
    "\n",
    "#### Ejemplo: Crear un conjunto de datos desde un archivo local\n"
   ]
  },
  {
   "cell_type": "code",
   "execution_count": null,
   "id": "4b948565",
   "metadata": {},
   "outputs": [],
   "source": [
    "from azureml.core import Dataset\n",
    "\n",
    "# Subir un archivo local al área de trabajo\n",
    "datastore = ws.get_default_datastore()\n",
    "datastore.upload(src_dir='./datos', target_path='datos')\n",
    "\n",
    "# Crear un conjunto de datos\n",
    "dataset = Dataset.Tabular.from_delimited_files(path=(datastore, 'datos/mi-dataset.csv'))\n",
    "\n",
    "# Mostrar las primeras filas del conjunto de datos\n",
    "df = dataset.to_pandas_dataframe()\n",
    "print(df.head())"
   ]
  },
  {
   "cell_type": "markdown",
   "id": "db4d9199",
   "metadata": {},
   "source": [
    "## **5. Computación**\n",
    "\n",
    "### Destinos de proceso (`ComputeTarget`)\n",
    "Un destino de proceso (`ComputeTarget`) define dónde se ejecutan tus experimentos. Puede ser una máquina local, una máquina virtual o un clúster de GPU en la nube.\n",
    "\n",
    "#### Ejemplo: Crear un clúster de proceso\n"
   ]
  },
  {
   "cell_type": "code",
   "execution_count": null,
   "id": "16ccd26f",
   "metadata": {},
   "outputs": [],
   "source": [
    "from azureml.core.compute import AmlCompute\n",
    "from azureml.core.compute_target import ComputeTargetException\n",
    "\n",
    "# Nombre del clúster\n",
    "compute_name = \"mi-cluster\"\n",
    "\n",
    "try:\n",
    "    # Verificar si el clúster ya existe\n",
    "    compute_target = AmlCompute(workspace=ws, name=compute_name)\n",
    "    print(\"Clúster ya existe.\")\n",
    "except ComputeTargetException:\n",
    "    # Crear un nuevo clúster\n",
    "    compute_config = AmlCompute.provisioning_configuration(\n",
    "        vm_size=\"STANDARD_D2_V2\",  # Tipo de máquina virtual\n",
    "        max_nodes=4                # Número máximo de nodos\n",
    "    )\n",
    "    compute_target = AmlCompute.create(ws, compute_name, compute_config)\n",
    "    compute_target.wait_for_completion(show_output=True)\n",
    "\n",
    "print(f\"Clúster creado: {compute_target.name}\")"
   ]
  },
  {
   "cell_type": "markdown",
   "id": "95f83b47",
   "metadata": {},
   "source": [
    "## **6. Entrenamiento de Modelos**\n",
    "\n",
    "### Scripts de entrenamiento\n",
    "Puedes usar scripts de Python para entrenar modelos y registrarlos en Azure ML.\n",
    "\n",
    "#### Ejemplo: Entrenar un modelo simple\n",
    "1. Crea un script de entrenamiento (`train.py`) con el siguiente contenido:\n"
   ]
  },
  {
   "cell_type": "code",
   "execution_count": null,
   "id": "9b1d229c",
   "metadata": {},
   "outputs": [],
   "source": [
    "# train.py\n",
    "from sklearn.datasets import load_iris\n",
    "from sklearn.linear_model import LogisticRegression\n",
    "import joblib\n",
    "\n",
    "# Cargar datos\n",
    "X, y = load_iris(return_X_y=True)\n",
    "\n",
    "# Entrenar modelo\n",
    "model = LogisticRegression()\n",
    "model.fit(X, y)\n",
    "\n",
    "# Guardar modelo\n",
    "joblib.dump(model, \"model.pkl\")\n"
   ]
  },
  {
   "cell_type": "markdown",
   "id": "c5350c90",
   "metadata": {},
   "source": [
    "2. Envía el script al clúster de proceso:\n"
   ]
  },
  {
   "cell_type": "code",
   "execution_count": null,
   "id": "482c9dc0",
   "metadata": {},
   "outputs": [],
   "source": [
    "from azureml.core import ScriptRunConfig\n",
    "\n",
    "# Configurar el script de entrenamiento\n",
    "src = ScriptRunConfig(\n",
    "    source_directory=\"./scripts\",\n",
    "    script=\"train.py\",\n",
    "    compute_target=compute_target,\n",
    "    environment=None  # Usa el entorno predeterminado\n",
    ")\n",
    "\n",
    "# Enviar el experimento\n",
    "run = experiment.submit(src)\n",
    "run.wait_for_completion(show_output=True)\n",
    "\n",
    "print(f\"Modelo entrenado: {run.id}\")"
   ]
  },
  {
   "cell_type": "markdown",
   "id": "f043ddd9",
   "metadata": {},
   "source": [
    "## **7. Registro de Modelos**\n",
    "\n",
    "### Registrar un modelo\n",
    "Una vez entrenado, puedes registrar el modelo en Azure ML para su posterior uso.\n",
    "\n"
   ]
  },
  {
   "cell_type": "code",
   "execution_count": null,
   "id": "2b1e7185",
   "metadata": {},
   "outputs": [],
   "source": [
    "# Registrar el modelo\n",
    "model = run.register_model(\n",
    "    model_name=\"mi-modelo\",\n",
    "    model_path=\"model.pkl\"\n",
    ")\n",
    "\n",
    "print(f\"Modelo registrado: {model.name}, versión: {model.version}\")"
   ]
  },
  {
   "cell_type": "markdown",
   "id": "b3624261",
   "metadata": {},
   "source": [
    "## **8. Despliegue de Modelos**\n",
    "\n",
    "### Desplegar un modelo como servicio web\n",
    "Puedes desplegar tu modelo como un servicio web en Azure Container Instances (ACI) o Azure Kubernetes Service (AKS).\n",
    "\n",
    "#### Ejemplo: Desplegar en ACI\n"
   ]
  },
  {
   "cell_type": "code",
   "execution_count": null,
   "id": "7bf2b86d",
   "metadata": {},
   "outputs": [],
   "source": [
    "from azureml.core.webservice import AciWebservice\n",
    "from azureml.core.model import InferenceConfig\n",
    "\n",
    "# Configurar el entorno de inferencia\n",
    "inference_config = InferenceConfig(\n",
    "    entry_script=\"score.py\",  # Script de puntuación\n",
    "    environment=None          # Usa el entorno predeterminado\n",
    ")\n",
    "\n",
    "# Configurar el servicio web\n",
    "deployment_config = AciWebservice.deploy_configuration(cpu_cores=1, memory_gb=1)\n",
    "\n",
    "# Desplegar el modelo\n",
    "service = Model.deploy(\n",
    "    workspace=ws,\n",
    "    name=\"mi-servicio\",\n",
    "    models=[model],\n",
    "    inference_config=inference_config,\n",
    "    deployment_config=deployment_config\n",
    ")\n",
    "\n",
    "service.wait_for_deployment(show_output=True)\n",
    "print(f\"Servicio desplegado: {service.scoring_uri}\")"
   ]
  },
  {
   "cell_type": "markdown",
   "id": "74882a64",
   "metadata": {},
   "source": [
    "## **9. Referencias**\n",
    "\n",
    "Para obtener más información sobre `azureml-core` y sus funcionalidades, consulta la documentación oficial:\n",
    "\n",
    "- [Documentación oficial de azureml-core](https://learn.microsoft.com/en-us/python/api/overview/azure/ml/?view=azure-ml-py)\n",
    "- [Guía de inicio rápido de Azure Machine Learning](https://learn.microsoft.com/en-us/azure/machine-learning/quickstart-create-resources)\n",
    "- [SDK de Azure Machine Learning en GitHub](https://github.com/Azure/azureml-sdk-for-python)\n"
   ]
  }
 ],
 "metadata": {
  "kernelspec": {
   "display_name": "Python 3",
   "language": "python",
   "name": "python3"
  },
  "language_info": {
   "codemirror_mode": {
    "name": "ipython",
    "version": 3
   },
   "file_extension": ".py",
   "mimetype": "text/x-python",
   "name": "python",
   "nbconvert_exporter": "python",
   "pygments_lexer": "ipython3",
   "version": "3.12.4"
  }
 },
 "nbformat": 4,
 "nbformat_minor": 5
}
