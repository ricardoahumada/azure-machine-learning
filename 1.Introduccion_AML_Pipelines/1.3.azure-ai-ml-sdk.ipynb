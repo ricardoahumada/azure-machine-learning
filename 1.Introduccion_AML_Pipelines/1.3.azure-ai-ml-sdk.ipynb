{
 "cells": [
  {
   "cell_type": "markdown",
   "id": "046c7629",
   "metadata": {},
   "source": [
    "# **Conceptos Fundamentales de azure-ai-ml SDK v2**"
   ]
  },
  {
   "cell_type": "markdown",
   "id": "d6ffb174",
   "metadata": {},
   "source": [
    "## **1. `azure.ai.ml`**\n",
    " - SDK (Software Development Kit) moderno y oficial de Azure Machine Learning, diseñado para interactuar con recursos de Azure ML mediante programación. \n",
    " - Proporciona una interfaz simplificada para gestionar experimentos, datos, computación, modelos y pipelines, facilitando la creación y operacionalización de soluciones de machine learning en la nube.\n",
    "\n",
    " https://learn.microsoft.com/en-us/python/api/overview/azure/ai-ml-readme?view=azure-python"
   ]
  },
  {
   "cell_type": "markdown",
   "id": "bcd932cd",
   "metadata": {},
   "source": [
    "## **2. Instalación**\n",
    "Para comenzar a usar `azure.ai.ml`, instala el paquete utilizando `pip`:"
   ]
  },
  {
   "cell_type": "code",
   "execution_count": 1,
   "id": "b5850c07",
   "metadata": {},
   "outputs": [],
   "source": [
    "# ! pip install azure-ai-ml"
   ]
  },
  {
   "cell_type": "markdown",
   "id": "d5902a41",
   "metadata": {},
   "source": [
    "También es recomendable instalar las dependencias adicionales necesarias, como `azure-identity` para autenticación:"
   ]
  },
  {
   "cell_type": "code",
   "execution_count": null,
   "id": "4b240954",
   "metadata": {},
   "outputs": [],
   "source": [
    "# ! pip install azure-identity"
   ]
  },
  {
   "cell_type": "markdown",
   "id": "2540d0a3",
   "metadata": {},
   "source": [
    "## **3. Configuración Inicial**\n",
    "\n",
    "### Crear un Workspace\n",
    "Un **Workspace** es el recurso central que organiza todos los recursos de Azure ML. Puedes crearlo desde Azure Portal o mediante la CLI de Azure:\n",
    "\n",
    "```bash\n",
    "az ml workspace create --name <workspace_name> --resource-group <resource_group> --location <location>\n",
    "```"
   ]
  },
  {
   "cell_type": "markdown",
   "id": "2958363f",
   "metadata": {},
   "source": [
    "### Conectarse al Workspace\n",
    "Usa el SDK para conectarte al Workspace mediante autenticación (`DefaultAzureCredential`) y un archivo de configuración (`config.json`):"
   ]
  },
  {
   "cell_type": "code",
   "execution_count": null,
   "id": "6632d6d9",
   "metadata": {},
   "outputs": [],
   "source": [
    "from azure.ai.ml import MLClient\n",
    "from azure.identity import DefaultAzureCredential\n",
    "\n",
    "# Conexión usando config.json\n",
    "ml_client = MLClient.from_config(credential=DefaultAzureCredential())\n",
    "\n",
    "# O especificando manualmente los parámetros\n",
    "ml_client = MLClient(\n",
    "    credential=DefaultAzureCredential(),\n",
    "    subscription_id=\"<subscription_id>\",\n",
    "    resource_group_name=\"<resource_group>\",\n",
    "    workspace_name=\"<workspace_name>\"\n",
    ")\n",
    "\n",
    "print(f\"Conectado al Workspace: {ml_client.workspace_name}\")\n"
   ]
  },
  {
   "cell_type": "markdown",
   "id": "003fb2d4",
   "metadata": {},
   "source": [
    "## **4. Experimentos**\n",
    "Los **experimentos** son colecciones de ejecuciones (runs) que agrupan pruebas o entrenamientos de modelos. Puedes registrar métricas y artefactos durante cada ejecución.\n",
    "\n",
    "### Ejemplo: Ejecutar un Experimento\n"
   ]
  },
  {
   "cell_type": "code",
   "execution_count": null,
   "id": "00f8d4d3",
   "metadata": {},
   "outputs": [],
   "source": [
    "from azure.ai.ml import command, MLClient\n",
    "from azure.ai.ml.entities import Environment\n",
    "\n",
    "# Definir un comando para el experimento\n",
    "job = command(\n",
    "    code=\"./src\",  # Carpeta con el código\n",
    "    command=\"python train.py\",\n",
    "    environment=\"AzureML-sklearn-0.24-ubuntu18.04-py37-cpu@latest\",\n",
    "    compute=\"my-cluster\",\n",
    "    display_name=\"mi-experimento\"\n",
    ")\n",
    "\n",
    "# Enviar el experimento\n",
    "returned_job = ml_client.jobs.create_or_update(job)\n",
    "print(f\"Experimento enviado: {returned_job.name}\")\n"
   ]
  },
  {
   "cell_type": "markdown",
   "id": "e6b300a9",
   "metadata": {},
   "source": [
    "## **5. Datos**\n",
    "Los **datos** se gestionan mediante conjuntos de datos (`Data`) registrados en el Workspace. Pueden ser tabulares, archivos u otros formatos.\n",
    "\n",
    "### Ejemplo: Registrar un Dataset\n"
   ]
  },
  {
   "cell_type": "code",
   "execution_count": null,
   "id": "a2014d41",
   "metadata": {},
   "outputs": [],
   "source": [
    "from azure.ai.ml.entities import Data\n",
    "from azure.ai.ml.constants import AssetTypes\n",
    "\n",
    "# Crear un dataset\n",
    "my_data = Data(\n",
    "    path=\"azureml://datastores/my_datastore/paths/dataset.csv\",\n",
    "    type=AssetTypes.URI_FILE,\n",
    "    description=\"Dataset de ejemplo\",\n",
    "    name=\"mi-dataset\"\n",
    ")\n",
    "\n",
    "# Registrar el dataset\n",
    "ml_client.data.create_or_update(my_data)\n",
    "print(f\"Dataset registrado: {my_data.name}\")"
   ]
  },
  {
   "cell_type": "markdown",
   "id": "f8121e2c",
   "metadata": {},
   "source": [
    "## **6. Computación**\n",
    "La **computación** define los recursos utilizados para ejecutar trabajos, como clústeres de CPU/GPU o Kubernetes.\n",
    "\n",
    "### Ejemplo: Crear un Clúster de Computación\n"
   ]
  },
  {
   "cell_type": "code",
   "execution_count": null,
   "id": "d1eda454",
   "metadata": {},
   "outputs": [],
   "source": [
    "from azure.ai.ml.entities import AmlCompute\n",
    "\n",
    "# Crear un clúster de computación\n",
    "compute_cluster = AmlCompute(\n",
    "    name=\"mi-cluster\",\n",
    "    type=\"amlcompute\",\n",
    "    size=\"Standard_D2_v2\",\n",
    "    min_instances=0,\n",
    "    max_instances=4\n",
    ")\n",
    "\n",
    "# Registrar el clúster\n",
    "ml_client.compute.begin_create_or_update(compute_cluster)\n",
    "print(f\"Clúster creado: {compute_cluster.name}\")"
   ]
  },
  {
   "cell_type": "markdown",
   "id": "6a4f0809",
   "metadata": {},
   "source": [
    "## **7. Entrenamiento de Modelos**\n",
    "El entrenamiento de modelos se realiza mediante trabajos (`jobs`) que ejecutan scripts de entrenamiento en recursos computacionales.\n",
    "\n",
    "### Ejemplo: Entrenar un Modelo"
   ]
  },
  {
   "cell_type": "code",
   "execution_count": null,
   "id": "46ab739c",
   "metadata": {},
   "outputs": [],
   "source": [
    "from azure.ai.ml import command\n",
    "\n",
    "# Definir el trabajo de entrenamiento\n",
    "train_job = command(\n",
    "    code=\"./src\",\n",
    "    command=\"python train.py --learning_rate 0.01 --epochs 10\",\n",
    "    environment=\"AzureML-tensorflow-2.7-ubuntu18.04-py37-cpu@latest\",\n",
    "    compute=\"mi-cluster\",\n",
    "    display_name=\"entrenamiento-modelo\"\n",
    ")\n",
    "\n",
    "# Enviar el trabajo\n",
    "returned_job = ml_client.jobs.create_or_update(train_job)\n",
    "print(f\"Entrenamiento enviado: {returned_job.name}\")"
   ]
  },
  {
   "cell_type": "markdown",
   "id": "2012d0a6",
   "metadata": {},
   "source": [
    "## **8. Registro de Modelos**\n",
    "Los **modelos** entrenados se registran en el Workspace para su versionado y reutilización.\n",
    "\n",
    "### Ejemplo: Registrar un Modelo"
   ]
  },
  {
   "cell_type": "code",
   "execution_count": null,
   "id": "e093ef3d",
   "metadata": {},
   "outputs": [],
   "source": [
    "from azure.ai.ml.entities import Model\n",
    "\n",
    "# Registrar un modelo\n",
    "registered_model = Model(\n",
    "    path=\"azureml://datastores/my_datastore/paths/model.pkl\",\n",
    "    name=\"mi-modelo\",\n",
    "    description=\"Modelo entrenado para clasificación\"\n",
    ")\n",
    "\n",
    "ml_client.models.create_or_update(registered_model)\n",
    "print(f\"Modelo registrado: {registered_model.name}\")"
   ]
  },
  {
   "cell_type": "markdown",
   "id": "03cb6d25",
   "metadata": {},
   "source": [
    "## **9. Despliegue de Modelos**\n",
    "Los modelos registrados se pueden desplegar como servicios web RESTful utilizando **endpoints**.\n",
    "\n",
    "### Ejemplo: Desplegar un Modelo\n"
   ]
  },
  {
   "cell_type": "code",
   "execution_count": null,
   "id": "e32892d0",
   "metadata": {},
   "outputs": [],
   "source": [
    "from azure.ai.ml.entities import ManagedOnlineEndpoint, ManagedOnlineDeployment\n",
    "\n",
    "# Crear un endpoint\n",
    "endpoint = ManagedOnlineEndpoint(\n",
    "    name=\"mi-endpoint\",\n",
    "    description=\"Endpoint para predicciones en tiempo real\",\n",
    "    auth_mode=\"key\"\n",
    ")\n",
    "\n",
    "ml_client.online_endpoints.begin_create_or_update(endpoint)\n",
    "\n",
    "# Crear una implementación\n",
    "deployment = ManagedOnlineDeployment(\n",
    "    name=\"mi-deployment\",\n",
    "    endpoint_name=\"mi-endpoint\",\n",
    "    model=\"mi-modelo:1\",\n",
    "    instance_type=\"Standard_DS2_v2\",\n",
    "    instance_count=1\n",
    ")\n",
    "\n",
    "ml_client.online_deployments.begin_create_or_update(deployment)\n",
    "print(f\"Modelo desplegado en: {endpoint.name}\")"
   ]
  },
  {
   "cell_type": "markdown",
   "id": "8a3e8e78",
   "metadata": {},
   "source": [
    "## **10. Referencias**\n",
    "- [Documentación Oficial de `azure.ai.ml`](https://learn.microsoft.com/en-us/python/api/overview/azure/ai-ml-readme?view=azure-python)\n",
    "- [Azure Machine Learning Documentation](https://learn.microsoft.com/en-us/azure/machine-learning/)\n",
    "- [GitHub Repository for `azure-ai-ml`](https://github.com/Azure/azure-sdk-for-python/tree/main/sdk/ml/azure-ai-ml)\n"
   ]
  }
 ],
 "metadata": {
  "kernelspec": {
   "display_name": "Python 3",
   "language": "python",
   "name": "python3"
  },
  "language_info": {
   "codemirror_mode": {
    "name": "ipython",
    "version": 3
   },
   "file_extension": ".py",
   "mimetype": "text/x-python",
   "name": "python",
   "nbconvert_exporter": "python",
   "pygments_lexer": "ipython3",
   "version": "3.12.4"
  }
 },
 "nbformat": 4,
 "nbformat_minor": 5
}
