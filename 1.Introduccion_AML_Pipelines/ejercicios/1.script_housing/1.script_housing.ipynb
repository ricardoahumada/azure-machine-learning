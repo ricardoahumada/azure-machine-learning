{
  "cells": [
    {
      "cell_type": "markdown",
      "metadata": {},
      "source": [
        "# Ejecutar script en Azure ML"
      ]
    },
    {
      "cell_type": "markdown",
      "metadata": {},
      "source": [
        "## Conectar a workspace"
      ]
    },
    {
      "cell_type": "code",
      "execution_count": null,
      "metadata": {},
      "outputs": [],
      "source": [
        "! pip show azure-ai-ml"
      ]
    },
    {
      "cell_type": "code",
      "execution_count": null,
      "metadata": {
        "gather": {
          "logged": 1663753569264
        }
      },
      "outputs": [],
      "source": [
        "# conectar al workspace\n",
        "from azure.ai.ml import MLClient\n",
        "from azure.identity import DefaultAzureCredential\n",
        "\n",
        "ml_client = MLClient.from_config(credential=DefaultAzureCredential())\n",
        "\n",
        "print(f\"Conectado al Workspace: {ml_client.workspace_name}\")"
      ]
    },
    {
      "attachments": {},
      "cell_type": "markdown",
      "metadata": {},
      "source": [
        "## Usar el SDK de Python para entrenar un modelo"
      ]
    },
    {
      "cell_type": "code",
      "execution_count": null,
      "metadata": {},
      "outputs": [],
      "source": [
        "%%writefile ./src/house-training.py\n",
        "\n",
        "# import libraries\n",
        "import pandas as pd\n",
        "import numpy as np\n",
        "from sklearn.model_selection import train_test_split\n",
        "from sklearn.linear_model import LinearRegression, Lasso\n",
        "from sklearn.metrics import roc_auc_score\n",
        "from sklearn.metrics import roc_curve\n",
        "\n",
        "import pandas as pd\n",
        "import numpy as np\n",
        "from sklearn.model_selection import train_test_split\n",
        "from sklearn.linear_model import Lasso\n",
        "from sklearn.metrics import mean_squared_error\n",
        "from sklearn.preprocessing import StandardScaler, OneHotEncoder\n",
        "from sklearn.compose import ColumnTransformer\n",
        "from sklearn.pipeline import Pipeline\n",
        "\n",
        "# 1. Cargar los datos\n",
        "# Suponemos que el dataset está en un archivo CSV llamado 'house_prices.csv'\n",
        "data = pd.read_csv(\"./house_prices.csv\")\n",
        "\n",
        "# 2. Inspeccionar las columnas\n",
        "print(data.columns)\n",
        "\n",
        "# 3. Descartar columnas no significativas\n",
        "# Las columnas 'date', 'street', 'city', 'statezip', 'country' no son relevantes para la predicción\n",
        "columns_to_drop = ['date', 'street', 'city', 'statezip', 'country']\n",
        "data = data.drop(columns=columns_to_drop)\n",
        "\n",
        "# 4. Separar características (X) y objetivo (y)\n",
        "X = data.drop(columns=['price'])  # Todas las columnas excepto 'price'\n",
        "y = data['price']  # Variable objetivo\n",
        "\n",
        "# 5. Dividir los datos en entrenamiento y prueba\n",
        "X_train, X_test, y_train, y_test = train_test_split(X, y, test_size=0.2, random_state=42)\n",
        "\n",
        "# 6. Preprocesamiento de datos\n",
        "# Identificar columnas numéricas y categóricas\n",
        "numeric_features = X.select_dtypes(include=['int64', 'float64']).columns\n",
        "categorical_features = X.select_dtypes(include=['object']).columns\n",
        "\n",
        "# Crear un preprocesador con StandardScaler para numéricas y OneHotEncoder para categóricas\n",
        "preprocessor = ColumnTransformer(\n",
        "    transformers=[\n",
        "        ('num', StandardScaler(), numeric_features),\n",
        "        ('cat', OneHotEncoder(handle_unknown='ignore'), categorical_features)\n",
        "    ]\n",
        ")\n",
        "\n",
        "# 7. Crear un pipeline con el preprocesador y el modelo Lasso\n",
        "lasso_model = Pipeline(steps=[\n",
        "    ('preprocessor', preprocessor),\n",
        "    ('regressor', Lasso(alpha=1, random_state=42))  # alpha es el parámetro de regularización\n",
        "])\n",
        "\n",
        "# 8. Entrenar el modelo\n",
        "lasso_model.fit(X_train, y_train)\n",
        "\n",
        "# 9. Hacer predicciones\n",
        "y_pred = lasso_model.predict(X_test)\n",
        "\n",
        "# 10. Evaluar el modelo usando MSE\n",
        "mse = mean_squared_error(y_test, y_pred)\n",
        "print(f\"Error Cuadrático Medio (MSE): {mse:.2f}\")\n",
        "\n",
        "# 11. Calcular la varianza de los datos objetivo\n",
        "variance = np.var(y_test)\n",
        "print(f\"Varianza de los datos objetivo: {variance:.2f}\")\n",
        "\n",
        "# 12. Comparación entre MSE y varianza\n",
        "mse_to_variance_ratio = mse / variance\n",
        "print(f\"Relación MSE/Varianza: {mse_to_variance_ratio:.2f}\")"
      ]
    },
    {
      "attachments": {},
      "cell_type": "markdown",
      "metadata": {},
      "source": [
        "## Generar el job"
      ]
    },
    {
      "cell_type": "code",
      "execution_count": null,
      "metadata": {},
      "outputs": [],
      "source": [
        "from azure.ai.ml import command, MLClient\n",
        "from azure.ai.ml.entities import Environment\n",
        "\n",
        "# Definir un comando para el experimento\n",
        "job = command(\n",
        "    code=\"./src\",\n",
        "    command=\"python house-training.py\",\n",
        "    environment=\"azureml://registries/azureml/environments/sklearn-1.5/versions/26\",\n",
        "    compute=\"ricardoenm\",\n",
        "    display_name=\"housing-training-ric\"\n",
        ")\n",
        "\n",
        "# Enviar el experimento\n",
        "returned_job = ml_client.jobs.create_or_update(job)\n",
        "print(f\"Experimento enviado: {returned_job}\")\n",
        "\n"
      ]
    }
  ],
  "metadata": {
    "kernel_info": {
      "name": "python38-azureml"
    },
    "kernelspec": {
      "display_name": "Python 3",
      "language": "python",
      "name": "python3"
    },
    "language_info": {
      "codemirror_mode": {
        "name": "ipython",
        "version": 3
      },
      "file_extension": ".py",
      "mimetype": "text/x-python",
      "name": "python",
      "nbconvert_exporter": "python",
      "pygments_lexer": "ipython3",
      "version": "3.12.4"
    },
    "microsoft": {
      "host": {
        "AzureML": {
          "notebookHasBeenCompleted": true
        }
      }
    },
    "nteract": {
      "version": "nteract-front-end@1.0.0"
    }
  },
  "nbformat": 4,
  "nbformat_minor": 2
}
