{
 "cells": [
  {
   "cell_type": "markdown",
   "metadata": {},
   "source": [
    "# Definir componentes"
   ]
  },
  {
   "attachments": {
    "image.png": {
     "image/png": "[encoded data removed]"
    }
   },
   "cell_type": "markdown",
   "metadata": {},
   "source": [
    "![image.png](attachment:image.png)"
   ]
  },
  {
   "cell_type": "code",
   "execution_count": null,
   "metadata": {},
   "outputs": [],
   "source": [
    "pip show azure-ai-ml"
   ]
  },
  {
   "cell_type": "markdown",
   "metadata": {},
   "source": [
    "## Conectar a workspace"
   ]
  },
  {
   "cell_type": "code",
   "execution_count": null,
   "metadata": {},
   "outputs": [],
   "source": [
    "# conectar\n",
    "from azure.ai.ml import MLClient\n",
    "from azure.identity import DefaultAzureCredential\n",
    "\n",
    "ml_client = MLClient.from_config(credential=DefaultAzureCredential())\n",
    "\n",
    "print(f\"Conectado al Workspace: {ml_client.workspace_name}\")"
   ]
  },
  {
   "cell_type": "markdown",
   "metadata": {},
   "source": [
    "## Crear los directorios"
   ]
  },
  {
   "cell_type": "code",
   "execution_count": null,
   "metadata": {},
   "outputs": [],
   "source": [
    "import os\n",
    "\n",
    "# create a folder for the script files\n",
    "script_folder = './src'\n",
    "os.makedirs(script_folder, exist_ok=True)\n",
    "\n",
    "os.makedirs(f'{script_folder}/train-rf-model', exist_ok=True)\n",
    "os.makedirs(f'{script_folder}/eval-model', exist_ok=True)\n",
    "os.makedirs(f'{script_folder}/register-model', exist_ok=True)\n",
    "\n",
    "print(script_folder, 'folders created')"
   ]
  },
  {
   "cell_type": "markdown",
   "metadata": {},
   "source": [
    "## Definir componentes"
   ]
  },
  {
   "cell_type": "markdown",
   "metadata": {},
   "source": [
    "### training"
   ]
  },
  {
   "cell_type": "code",
   "execution_count": null,
   "metadata": {},
   "outputs": [],
   "source": [
    "%%writefile ./src/train-rf-model/train-rf-model.py\n",
    "\n",
    "import pandas as pd\n",
    "from sklearn.model_selection import train_test_split\n",
    "from sklearn.ensemble import RandomForestRegressor\n",
    "\n",
    "from sklearn.preprocessing import StandardScaler, OneHotEncoder\n",
    "from sklearn.compose import ColumnTransformer\n",
    "from sklearn.pipeline import Pipeline\n",
    "\n",
    "import argparse\n",
    "from pathlib import Path\n",
    "\n",
    "import mlflow\n",
    "import glob\n",
    "\n",
    "\n",
    "def main(args):\n",
    "    mlflow.autolog()\n",
    "\n",
    "    df = get_data(args.input_data)\n",
    "    model, X_test, y_test = train_model('price', df, args.n_estimators, 0.3)\n",
    "\n",
    "    mlflow.sklearn.save_model(model, args.model_output)\n",
    "\n",
    "    X_test.to_csv((Path(args.output_data) / \"housing_X_test.csv\"), index = False)\n",
    "    y_test.to_csv((Path(args.output_data) / \"housing_y_test.csv\"), index = False)\n",
    "\n",
    "    \n",
    "\n",
    "def get_data(data_path):\n",
    "\n",
    "    all_files = glob.glob(data_path + \"/*.csv\")\n",
    "    df = pd.concat((pd.read_csv(f) for f in all_files), sort=False)\n",
    "    \n",
    "    return df\n",
    "\n",
    "\n",
    "def train_model(target, data, n_estimators, test_size=0.2):\n",
    "    # 4. Separar características (X) y objetivo (y)\n",
    "    X = data.drop(columns=[target])  # Todas las columnas excepto target\n",
    "    y = data[target]  # Variable objetivo\n",
    "\n",
    "    # 5. Dividir los datos en entrenamiento y prueba\n",
    "    X_train, X_test, y_train, y_test = train_test_split(\n",
    "        X, y, test_size=test_size, random_state=42)\n",
    "\n",
    "    # 6. Preprocesamiento de datos\n",
    "    # Identificar columnas numéricas y categóricas\n",
    "    numeric_features = X.select_dtypes(include=['int64', 'float64']).columns\n",
    "    categorical_features = X.select_dtypes(include=['object']).columns\n",
    "\n",
    "    # Crear un preprocesador con StandardScaler para numéricas y OneHotEncoder para categóricas\n",
    "    preprocessor = ColumnTransformer(\n",
    "        transformers=[\n",
    "            ('num', StandardScaler(), numeric_features),\n",
    "            ('cat', OneHotEncoder(handle_unknown='ignore'), categorical_features)\n",
    "        ]\n",
    "    )\n",
    "\n",
    "    # 7. Crear un pipeline con el preprocesador y el modelo rf\n",
    "    mlflow.log_param(\"n_estimators:\", n_estimators)\n",
    "\n",
    "    rf_model = Pipeline(steps=[\n",
    "        ('preprocessor', preprocessor),\n",
    "        # n_estimators es el parámetro de regularización\n",
    "        ('regressor', RandomForestRegressor(n_estimators=n_estimators, random_state=42))\n",
    "    ])\n",
    "\n",
    "    # 8. Entrenar el modelo\n",
    "    rf_model.fit(X_train, y_train)\n",
    "\n",
    "    return rf_model, X_test, y_test\n",
    "\n",
    "\n",
    "def parse_args():\n",
    "    parser = argparse.ArgumentParser()\n",
    "    parser.add_argument(\"--input_data\", dest='input_data', type=str)\n",
    "    parser.add_argument(\"--n_estimators\", dest='n_estimators', type=int, default=0.01)\n",
    "    \n",
    "    parser.add_argument(\"--model_output\", dest='model_output',type=str)\n",
    "    parser.add_argument(\"--output_data\", dest='output_data',type=str)\n",
    "    args = parser.parse_args()\n",
    "\n",
    "    return args\n",
    "\n",
    "\n",
    "# run script\n",
    "if __name__ == \"__main__\":\n",
    "    args = parse_args()\n",
    "    print('args:', args)\n",
    "    main(args)"
   ]
  },
  {
   "cell_type": "code",
   "execution_count": null,
   "metadata": {},
   "outputs": [],
   "source": [
    "%%writefile train-rf-model.yml\n",
    "$schema: https://azuremlschemas.azureedge.net/latest/commandComponent.schema.json\n",
    "name: train_rf_model_housing\n",
    "display_name: Entrenamiento de Modelo Random Forest\n",
    "version: 2\n",
    "type: command\n",
    "inputs:\n",
    "  input_data: \n",
    "    type: uri_folder\n",
    "  n_estimators:\n",
    "    type: number\n",
    "    default: 100\n",
    "outputs:\n",
    "  model_output:\n",
    "    type: mlflow_model\n",
    "  output_data:\n",
    "    type: uri_folder\n",
    "code: ./src/train-rf-model/\n",
    "environment: azureml:AzureML-sklearn-0.24-ubuntu18.04-py37-cpu@latest\n",
    "command: >-\n",
    "  python train-rf-model.py\n",
    "  --input_data ${{inputs.input_data}}\n",
    "  --n_estimators ${{inputs.n_estimators}}\n",
    "  --model_output ${{outputs.model_output}}\n",
    "  --output_data ${{outputs.output_data}}"
   ]
  },
  {
   "cell_type": "code",
   "execution_count": null,
   "metadata": {},
   "outputs": [],
   "source": [
    "# registrar componente\n",
    "from azure.ai.ml import load_component\n",
    "\n",
    "train_rf_model = load_component(source=\"train-rf-model.yml\")\n",
    "\n",
    "reg_train_rf_model = ml_client.components.create_or_update(train_rf_model)\n",
    "reg_train_rf_model"
   ]
  },
  {
   "cell_type": "markdown",
   "metadata": {},
   "source": [
    "### evaluación evalucionada"
   ]
  },
  {
   "cell_type": "code",
   "execution_count": null,
   "metadata": {},
   "outputs": [],
   "source": [
    "%%writefile ./src/eval-model/eval-model.py\n",
    "\n",
    "import pandas as pd\n",
    "import numpy as np\n",
    "from sklearn.model_selection import train_test_split\n",
    "from sklearn.linear_model import Lasso\n",
    "\n",
    "from sklearn.model_selection import train_test_split\n",
    "from sklearn.metrics import mean_squared_error\n",
    "import json\n",
    "\n",
    "import argparse\n",
    "from pathlib import Path\n",
    "\n",
    "import mlflow\n",
    "\n",
    "\n",
    "def main(args):\n",
    "    mlflow.autolog()\n",
    "\n",
    "    model = mlflow.sklearn.load_model(args.model_input)\n",
    "    X_test, y_test = get_data(args.input_data)\n",
    "    evaluate_model(model, X_test, y_test)\n",
    "\n",
    "\n",
    "def get_data(data_path):\n",
    "    X_test = pd.read_csv((Path(data_path) / \"housing_X_test.csv\"))\n",
    "    y_test = pd.read_csv((Path(data_path) / \"housing_y_test.csv\"))\n",
    "\n",
    "    return X_test, y_test\n",
    "\n",
    "\n",
    "def evaluate_model(a_model, X_test, y_test):\n",
    "    # 9. Hacer predicciones\n",
    "    y_pred = a_model.predict(X_test)\n",
    "\n",
    "    # 10. Evaluar el modelo usando MSE\n",
    "    mse = mean_squared_error(y_test, y_pred)\n",
    "    print(f\"Error Cuadrático Medio (MSE): {mse:.2f}\")\n",
    "\n",
    "    # 11. Calcular la varianza de los datos objetivo\n",
    "    variance = np.var(y_test.values)\n",
    "    print(f\"Varianza de los datos objetivo: {variance:.2f}\")\n",
    "\n",
    "    # 12. Comparación entre MSE y varianza\n",
    "    mse_to_variance_ratio = mse / variance\n",
    "    print(f\"Relación MSE/Varianza: {mse_to_variance_ratio:.2f}\")\n",
    "\n",
    "    with mlflow.start_run():\n",
    "        mlflow.log_metric(\"mse\", mse)\n",
    "        mlflow.log_metric(\"mse2var\", mse_to_variance_ratio)\n",
    "        mlflow.sklearn.log_model(a_model, \"model\")\n",
    "\n",
    "    # Guardar las métricas en un archivo JSON\n",
    "    save_metrics(mse, mse_to_variance_ratio, args.metrics_output)\n",
    "\n",
    "\n",
    "def save_metrics(mse, mse_to_variance_ratio, output_path):\n",
    "    metrics = {\n",
    "        \"mse\": mse,\n",
    "        \"mse_to_variance_ratio\": mse_to_variance_ratio\n",
    "    }\n",
    "    \n",
    "    with open(output_path, \"w\") as f:\n",
    "        json.dump(metrics, f)\n",
    "\n",
    "\n",
    "\n",
    "def parse_args():\n",
    "    parser = argparse.ArgumentParser()\n",
    "    parser.add_argument(\"--model_input\", dest='model_input', type=str, required=True)\n",
    "    parser.add_argument(\"--input_data\", dest='input_data', type=str, required=True)\n",
    "    parser.add_argument(\"--metrics_output\", type=str, required=True)\n",
    "    args = parser.parse_args()\n",
    "\n",
    "    return args\n",
    "\n",
    "\n",
    "# run script\n",
    "if __name__ == \"__main__\":\n",
    "    args = parse_args()\n",
    "    print('args:', args)\n",
    "    main(args)"
   ]
  },
  {
   "cell_type": "code",
   "execution_count": null,
   "metadata": {},
   "outputs": [],
   "source": [
    "%%writefile eval-model.yml\n",
    "$schema: https://azuremlschemas.azureedge.net/latest/commandComponent.schema.json\n",
    "name: eval_model_metrics\n",
    "display_name: Evaluación de Modelo y exposición de Métricas\n",
    "version: 2\n",
    "type: command\n",
    "inputs:\n",
    "  input_data: \n",
    "    type: uri_folder\n",
    "  model_input:\n",
    "    type: mlflow_model\n",
    "outputs:\n",
    "  metrics_output:\n",
    "    type: uri_file\n",
    "code: ./src/eval-model/\n",
    "environment: azureml:AzureML-sklearn-0.24-ubuntu18.04-py37-cpu@latest\n",
    "command: >-\n",
    "  python eval-model.py\n",
    "  --input_data ${{inputs.input_data}}\n",
    "  --model_input ${{inputs.model_input}}\n",
    "  --metrics_output ${{outputs.metrics_output}}"
   ]
  },
  {
   "cell_type": "code",
   "execution_count": null,
   "metadata": {},
   "outputs": [],
   "source": [
    "# registrar componente\n",
    "from azure.ai.ml import load_component\n",
    "\n",
    "eval_model = load_component(source=\"eval-model.yml\")\n",
    "\n",
    "reg_eval_model = ml_client.components.create_or_update(eval_model)\n",
    "reg_eval_model"
   ]
  },
  {
   "cell_type": "markdown",
   "metadata": {},
   "source": [
    "### registro"
   ]
  },
  {
   "cell_type": "markdown",
   "metadata": {},
   "source": [
    "#### crear environment personalizado"
   ]
  },
  {
   "cell_type": "code",
   "execution_count": null,
   "metadata": {},
   "outputs": [],
   "source": [
    "%%writefile src/environment/conda-env.yml\n",
    "name: sklearn-azure-ai-env\n",
    "channels:\n",
    "  - defaults\n",
    "  - conda-forge\n",
    "dependencies:\n",
    "  - python=3.11\n",
    "  - pip\n",
    "  - scikit-learn\n",
    "  - pandas\n",
    "  - numpy\n",
    "  - matplotlib\n",
    "  - pip:\n",
    "    - azure-ai-ml\n",
    "    - azure-identity\n",
    "    - mlflow\n",
    "    - mltable\n",
    "    - jsonschema\n",
    "    - pathlib"
   ]
  },
  {
   "cell_type": "code",
   "execution_count": null,
   "metadata": {},
   "outputs": [],
   "source": [
    "# Crear entorno\n",
    "from azure.ai.ml.entities import Environment\n",
    "\n",
    "env_docker_image = Environment(\n",
    "    name=\"sklearn-azure-ai-env\",\n",
    "    image=\"mcr.microsoft.com/azureml/openmpi4.1.0-ubuntu20.04\",\n",
    "    conda_file=\"src/environment/conda-env.yml\",\n",
    "    description=\"Environment created from a Azure ML Docker image.\",\n",
    "    version=\"4\"\n",
    ")\n",
    "\n",
    "ml_client.environments.create_or_update(env_docker_image)"
   ]
  },
  {
   "cell_type": "markdown",
   "metadata": {},
   "source": [
    "#### crear componente"
   ]
  },
  {
   "cell_type": "code",
   "execution_count": null,
   "metadata": {},
   "outputs": [],
   "source": [
    "%%writefile ./src/register-model/register-model.py\n",
    "\n",
    "import pandas as pd\n",
    "import numpy as np\n",
    "import json\n",
    "\n",
    "import argparse\n",
    "from pathlib import Path\n",
    "\n",
    "import mlflow\n",
    "\n",
    "from azure.ai.ml import MLClient\n",
    "from azure.ai.ml.entities import Model\n",
    "from azure.identity import DefaultAzureCredential\n",
    "\n",
    "\n",
    "def main(args):\n",
    "    mlflow.autolog()\n",
    "\n",
    "    metrics = read_metrics(args.metrics_input)\n",
    "    register_model(args.model_input, metrics, args.model_name)\n",
    "\n",
    "\n",
    "def read_metrics(data_path):\n",
    "    # Leer las métricas desde el archivo\n",
    "    with open(data_path, \"r\") as f:\n",
    "        metrics = json.load(f)\n",
    "\n",
    "    print(f\"Métricas leídas:\", metrics)\n",
    "\n",
    "    return metrics\n",
    "\n",
    "\n",
    "def register_model(model_path, metrics, model_name):\n",
    "    # Inicializar el cliente de Azure ML\n",
    "    ml_client = MLClient.from_config(credential=DefaultAzureCredential())\n",
    "\n",
    "    mse = metrics['mse']\n",
    "    mse_to_variance_ratio = metrics['mse_to_variance_ratio']\n",
    "    threshold = 0.98\n",
    "\n",
    "    # Registrar el modelo\n",
    "    if mse_to_variance_ratio < threshold:\n",
    "        registered_model = ml_client.models.create_or_update(\n",
    "            Model(\n",
    "                path=model_path,\n",
    "                name=model_name,\n",
    "                description=f\"Modelo registrado con accuracy={mse}\"\n",
    "            )\n",
    "        )\n",
    "        print(f\"Modelo {model_name} registrado con éxito.\") \n",
    "\n",
    "    else:\n",
    "        print(f\"mse_to_variance_ratio ({mse_to_variance_ratio}) no supera el umbral ({threshold}). El modelo no será registrado ni desplegado.\")\n",
    "\n",
    "\n",
    "\n",
    "\n",
    "def parse_args():\n",
    "    parser = argparse.ArgumentParser()\n",
    "    parser.add_argument(\"--model_input\", dest='model_input', type=str, required=True)\n",
    "    parser.add_argument(\"--metrics_input\", dest='metrics_input', type=str, required=True)\n",
    "    parser.add_argument(\"--model_name\", dest='model_name', type=str, required=True)\n",
    "    args = parser.parse_args()\n",
    "\n",
    "    return args\n",
    "\n",
    "\n",
    "# run script\n",
    "if __name__ == \"__main__\":\n",
    "    args = parse_args()\n",
    "    print('args:', args)\n",
    "    main(args)"
   ]
  },
  {
   "cell_type": "code",
   "execution_count": null,
   "metadata": {},
   "outputs": [],
   "source": [
    "%%writefile register-model.yml\n",
    "$schema: https://azuremlschemas.azureedge.net/latest/commandComponent.schema.json\n",
    "name: register_conditional_model\n",
    "display_name: Registro condicional del modelo\n",
    "version: 10\n",
    "type: command\n",
    "inputs:\n",
    "  metrics_input:\n",
    "    type: uri_file\n",
    "  model_input:\n",
    "    type: mlflow_model\n",
    "  model_name:\n",
    "    type: string\n",
    "code: ./src/register-model/\n",
    "environment: azureml:sklearn-azure-ai-env:4\n",
    "command: >-\n",
    "  python register-model.py\n",
    "  --metrics_input ${{inputs.metrics_input}}\n",
    "  --model_input ${{inputs.model_input}}\n",
    "  --model_name ${{inputs.model_name}}"
   ]
  },
  {
   "cell_type": "code",
   "execution_count": null,
   "metadata": {},
   "outputs": [],
   "source": [
    "# registrar componente\n",
    "from azure.ai.ml import load_component\n",
    "\n",
    "register_model = load_component(source=\"register-model.yml\")\n",
    "\n",
    "reg_register_model = ml_client.components.create_or_update(register_model)\n",
    "reg_register_model"
   ]
  }
 ],
 "metadata": {
  "kernel_info": {
   "name": "python38-azureml"
  },
  "kernelspec": {
   "display_name": "Python 3",
   "language": "python",
   "name": "python3"
  },
  "language_info": {
   "codemirror_mode": {
    "name": "ipython",
    "version": 3
   },
   "file_extension": ".py",
   "mimetype": "text/x-python",
   "name": "python",
   "nbconvert_exporter": "python",
   "pygments_lexer": "ipython3",
   "version": "3.12.4"
  },
  "microsoft": {
   "host": {
    "AzureML": {
     "notebookHasBeenCompleted": true
    }
   }
  },
  "nteract": {
   "version": "nteract-front-end@1.0.0"
  }
 },
 "nbformat": 4,
 "nbformat_minor": 2
}
