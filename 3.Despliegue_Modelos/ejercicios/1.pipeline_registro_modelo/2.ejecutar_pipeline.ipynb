{
 "cells": [
  {
   "cell_type": "markdown",
   "metadata": {},
   "source": [
    "# Ejecutar pipelines"
   ]
  },
  {
   "cell_type": "code",
   "execution_count": null,
   "metadata": {},
   "outputs": [],
   "source": [
    "pip show azure-ai-ml"
   ]
  },
  {
   "cell_type": "markdown",
   "metadata": {},
   "source": [
    "## Conectar a workspace"
   ]
  },
  {
   "cell_type": "code",
   "execution_count": 1,
   "metadata": {},
   "outputs": [
    {
     "name": "stderr",
     "output_type": "stream",
     "text": [
      "Found the config file in: /config.json\n"
     ]
    },
    {
     "name": "stdout",
     "output_type": "stream",
     "text": [
      "Conectado al Workspace: naturgyml4\n"
     ]
    }
   ],
   "source": [
    "# conectar\n",
    "from azure.ai.ml import MLClient\n",
    "from azure.identity import DefaultAzureCredential\n",
    "\n",
    "ml_client = MLClient.from_config(credential=DefaultAzureCredential())\n",
    "\n",
    "print(f\"Conectado al Workspace: {ml_client.workspace_name}\")"
   ]
  },
  {
   "cell_type": "markdown",
   "metadata": {},
   "source": [
    "## Cargar los componentes"
   ]
  },
  {
   "cell_type": "code",
   "execution_count": 12,
   "metadata": {},
   "outputs": [],
   "source": [
    "from azure.ai.ml import load_component\n",
    "\n",
    "ing_prep_data = ml_client.components.get(name=\"ing_prep_data_housing_ric\", version=2)\n",
    "train_model_housing = ml_client.components.get(name=\"train_rf_model_housing\", version=2)\n",
    "eval_model_housing = ml_client.components.get(name=\"eval_model_metrics\", version=2)\n",
    "register_model_housing = ml_client.components.get(name=\"register_conditional_model\", version=13)"
   ]
  },
  {
   "cell_type": "markdown",
   "metadata": {},
   "source": [
    "## Build del pipeline"
   ]
  },
  {
   "cell_type": "code",
   "execution_count": 13,
   "metadata": {},
   "outputs": [],
   "source": [
    "from azure.ai.ml import Input\n",
    "from azure.ai.ml.constants import AssetTypes\n",
    "from azure.ai.ml.dsl import pipeline\n",
    "\n",
    "\n",
    "@pipeline(name=\"house_pricing_pipeline\", description=\"Pipeline to train a house pricing model\")\n",
    "def house_pricing(input_data, n_estimators):\n",
    "    clean_data = ing_prep_data(input_data=input_data)\n",
    "    train_model = train_model_housing(input_data=clean_data.outputs.output_data, n_estimators=n_estimators)\n",
    "    eval_model = eval_model_housing(input_data=train_model.outputs.output_data, model_input=train_model.outputs.model_output)\n",
    "    register_model = register_model_housing(model_input=train_model.outputs.model_output,  metrics_input=eval_model.outputs.metrics_output, model_name=\"hous_pricing_rf_model\")\n",
    "\n",
    "    return {\n",
    "        \"pipeline_job_transformed_data\": clean_data.outputs.output_data,\n",
    "        \"pipeline_job_trained_model\": train_model.outputs.model_output,\n",
    "        \"pipeline_job_output_data\": train_model.outputs.output_data,\n",
    "        \"pipeline_job_metrics_data\": eval_model.outputs.metrics_output,\n",
    "    }"
   ]
  },
  {
   "cell_type": "code",
   "execution_count": 14,
   "metadata": {},
   "outputs": [],
   "source": [
    "# definir job de pipeline\n",
    "pipeline_job = house_pricing(Input(type=AssetTypes.URI_FILE, path=\"azureml:housing_prices:2\"), n_estimators=100)\n",
    "\n",
    "# change the output mode\n",
    "pipeline_job.outputs.pipeline_job_transformed_data.mode = \"upload\"\n",
    "pipeline_job.outputs.pipeline_job_trained_model.mode = \"upload\"\n",
    "\n",
    "# set pipeline level compute\n",
    "pipeline_job.settings.default_compute = \"ricardoenm2\"\n",
    "\n",
    "# set pipeline level datastore\n",
    "pipeline_job.settings.default_datastore = \"training_data_ric\"\n",
    "pipeline_job.settings.force_rerun = False"
   ]
  },
  {
   "cell_type": "code",
   "execution_count": 15,
   "metadata": {},
   "outputs": [
    {
     "name": "stdout",
     "output_type": "stream",
     "text": [
      "display_name: house_pricing_pipeline\n",
      "description: Pipeline to train a house pricing model\n",
      "type: pipeline\n",
      "inputs:\n",
      "  input_data:\n",
      "    type: uri_file\n",
      "    path: azureml:housing_prices:2\n",
      "  n_estimators: 100\n",
      "outputs:\n",
      "  pipeline_job_transformed_data:\n",
      "    mode: upload\n",
      "    type: uri_folder\n",
      "  pipeline_job_trained_model:\n",
      "    mode: upload\n",
      "    type: mlflow_model\n",
      "  pipeline_job_output_data:\n",
      "    type: uri_folder\n",
      "  pipeline_job_metrics_data:\n",
      "    type: uri_file\n",
      "jobs:\n",
      "  clean_data:\n",
      "    type: command\n",
      "    inputs:\n",
      "      input_data:\n",
      "        path: ${{parent.inputs.input_data}}\n",
      "    outputs:\n",
      "      output_data: ${{parent.outputs.pipeline_job_transformed_data}}\n",
      "    resources:\n",
      "      instance_count: 1\n",
      "    component:\n",
      "      $schema: https://azuremlschemas.azureedge.net/latest/commandComponent.schema.json\n",
      "      name: ing_prep_data_housing_ric\n",
      "      version: '2'\n",
      "      display_name: Ingesta y Preprocesamiento de Datos Housing\n",
      "      type: command\n",
      "      inputs:\n",
      "        input_data:\n",
      "          type: uri_file\n",
      "          optional: false\n",
      "      outputs:\n",
      "        output_data:\n",
      "          type: uri_folder\n",
      "      command: python ing-prep-data.py --input_data ${{inputs.input_data}} --output_data\n",
      "        ${{outputs.output_data}}\n",
      "      environment: azureml://registries/azureml/environments/AzureML-sklearn-0.24-ubuntu18.04-py37-cpu/versions/49\n",
      "      code: azureml:/subscriptions/7decb7a4-f615-4cc3-9d7d-5de10998373f/resourceGroups/naturgy/providers/Microsoft.MachineLearningServices/workspaces/naturgyml4/codes/184ee17b-fab8-488c-aa5b-e9c9bdbe1b2a/versions/1\n",
      "      resources:\n",
      "        instance_count: 1\n",
      "      creation_context:\n",
      "        created_at: '2025-05-22T08:12:26.288224+00:00'\n",
      "        created_by: Ricardo Ahumada\n",
      "        created_by_type: User\n",
      "        last_modified_at: '2025-05-22T08:12:26.364696+00:00'\n",
      "        last_modified_by: Ricardo Ahumada\n",
      "        last_modified_by_type: User\n",
      "      id: /subscriptions/7decb7a4-f615-4cc3-9d7d-5de10998373f/resourceGroups/naturgy/providers/Microsoft.MachineLearningServices/workspaces/naturgyml4/components/ing_prep_data_housing_ric/versions/2\n",
      "      is_deterministic: true\n",
      "  train_model:\n",
      "    type: command\n",
      "    inputs:\n",
      "      input_data:\n",
      "        path: ${{parent.jobs.clean_data.outputs.output_data}}\n",
      "      n_estimators:\n",
      "        path: ${{parent.inputs.n_estimators}}\n",
      "    outputs:\n",
      "      model_output: ${{parent.outputs.pipeline_job_trained_model}}\n",
      "      output_data: ${{parent.outputs.pipeline_job_output_data}}\n",
      "    resources:\n",
      "      instance_count: 1\n",
      "    component:\n",
      "      $schema: https://azuremlschemas.azureedge.net/latest/commandComponent.schema.json\n",
      "      name: train_rf_model_housing\n",
      "      version: '2'\n",
      "      display_name: Entrenamiento de Modelo Random Forest\n",
      "      type: command\n",
      "      inputs:\n",
      "        input_data:\n",
      "          type: uri_folder\n",
      "          optional: false\n",
      "        n_estimators:\n",
      "          type: number\n",
      "          optional: false\n",
      "          default: '100.0'\n",
      "      outputs:\n",
      "        model_output:\n",
      "          type: mlflow_model\n",
      "        output_data:\n",
      "          type: uri_folder\n",
      "      command: python train-rf-model.py --input_data ${{inputs.input_data}} --n_estimators\n",
      "        ${{inputs.n_estimators}} --model_output ${{outputs.model_output}} --output_data\n",
      "        ${{outputs.output_data}}\n",
      "      environment: azureml://registries/azureml/environments/AzureML-sklearn-0.24-ubuntu18.04-py37-cpu/versions/49\n",
      "      code: azureml:/subscriptions/7decb7a4-f615-4cc3-9d7d-5de10998373f/resourceGroups/naturgy/providers/Microsoft.MachineLearningServices/workspaces/naturgyml4/codes/e795c59d-c556-4144-8785-cab46c37d586/versions/1\n",
      "      resources:\n",
      "        instance_count: 1\n",
      "      creation_context:\n",
      "        created_at: '2025-05-25T09:37:57.610708+00:00'\n",
      "        created_by: Ricardo Ahumada\n",
      "        created_by_type: User\n",
      "        last_modified_at: '2025-05-25T09:37:57.677469+00:00'\n",
      "        last_modified_by: Ricardo Ahumada\n",
      "        last_modified_by_type: User\n",
      "      id: /subscriptions/7decb7a4-f615-4cc3-9d7d-5de10998373f/resourceGroups/naturgy/providers/Microsoft.MachineLearningServices/workspaces/naturgyml4/components/train_rf_model_housing/versions/2\n",
      "      is_deterministic: true\n",
      "  eval_model:\n",
      "    type: command\n",
      "    inputs:\n",
      "      input_data:\n",
      "        path: ${{parent.jobs.train_model.outputs.output_data}}\n",
      "      model_input:\n",
      "        path: ${{parent.jobs.train_model.outputs.model_output}}\n",
      "    outputs:\n",
      "      metrics_output: ${{parent.outputs.pipeline_job_metrics_data}}\n",
      "    resources:\n",
      "      instance_count: 1\n",
      "    component:\n",
      "      $schema: https://azuremlschemas.azureedge.net/latest/commandComponent.schema.json\n",
      "      name: eval_model_metrics\n",
      "      version: '2'\n",
      "      display_name: \"Evaluaci\\xF3n de Modelo y expsoici\\xF3n de M\\xE9tricas\"\n",
      "      type: command\n",
      "      inputs:\n",
      "        input_data:\n",
      "          type: uri_folder\n",
      "          optional: false\n",
      "        model_input:\n",
      "          type: mlflow_model\n",
      "          optional: false\n",
      "      outputs:\n",
      "        metrics_output:\n",
      "          type: uri_file\n",
      "      command: python eval-model.py --input_data ${{inputs.input_data}} --model_input\n",
      "        ${{inputs.model_input}} --metrics_output ${{outputs.metrics_output}}\n",
      "      environment: azureml://registries/azureml/environments/AzureML-sklearn-0.24-ubuntu18.04-py37-cpu/versions/49\n",
      "      code: azureml:/subscriptions/7decb7a4-f615-4cc3-9d7d-5de10998373f/resourceGroups/naturgy/providers/Microsoft.MachineLearningServices/workspaces/naturgyml4/codes/758f8654-0579-4ff2-9e77-b61cab31470c/versions/1\n",
      "      resources:\n",
      "        instance_count: 1\n",
      "      creation_context:\n",
      "        created_at: '2025-05-25T10:02:25.871718+00:00'\n",
      "        created_by: Ricardo Ahumada\n",
      "        created_by_type: User\n",
      "        last_modified_at: '2025-05-25T10:24:17.717934+00:00'\n",
      "        last_modified_by: Ricardo Ahumada\n",
      "        last_modified_by_type: User\n",
      "      id: /subscriptions/7decb7a4-f615-4cc3-9d7d-5de10998373f/resourceGroups/naturgy/providers/Microsoft.MachineLearningServices/workspaces/naturgyml4/components/eval_model_metrics/versions/2\n",
      "      is_deterministic: true\n",
      "  register_model:\n",
      "    type: command\n",
      "    inputs:\n",
      "      metrics_input:\n",
      "        path: ${{parent.jobs.eval_model.outputs.metrics_output}}\n",
      "      model_input:\n",
      "        path: ${{parent.jobs.train_model.outputs.model_output}}\n",
      "      model_name: hous_pricing_rf_model\n",
      "    resources:\n",
      "      instance_count: 1\n",
      "    component:\n",
      "      $schema: https://azuremlschemas.azureedge.net/latest/commandComponent.schema.json\n",
      "      name: register_conditional_model\n",
      "      version: '13'\n",
      "      display_name: Registro condicional del modelo\n",
      "      type: command\n",
      "      inputs:\n",
      "        metrics_input:\n",
      "          type: uri_file\n",
      "          optional: false\n",
      "        model_input:\n",
      "          type: mlflow_model\n",
      "          optional: false\n",
      "        model_name:\n",
      "          type: string\n",
      "          optional: false\n",
      "      command: python register-model.py --metrics_input ${{inputs.metrics_input}}\n",
      "        --model_input ${{inputs.model_input}} --model_name ${{inputs.model_name}}\n",
      "      environment: azureml:/subscriptions/7decb7a4-f615-4cc3-9d7d-5de10998373f/resourceGroups/naturgy/providers/Microsoft.MachineLearningServices/workspaces/naturgyml4/environments/sklearn-azure-ai-env/versions/4\n",
      "      code: azureml:/subscriptions/7decb7a4-f615-4cc3-9d7d-5de10998373f/resourceGroups/naturgy/providers/Microsoft.MachineLearningServices/workspaces/naturgyml4/codes/b723ae7e-f0a9-44a0-8b6a-8a1f7a26ba9d/versions/1\n",
      "      resources:\n",
      "        instance_count: 1\n",
      "      creation_context:\n",
      "        created_at: '2025-05-27T08:26:34.762177+00:00'\n",
      "        created_by: Ricardo Ahumada\n",
      "        created_by_type: User\n",
      "        last_modified_at: '2025-05-27T08:26:34.917451+00:00'\n",
      "        last_modified_by: Ricardo Ahumada\n",
      "        last_modified_by_type: User\n",
      "      id: /subscriptions/7decb7a4-f615-4cc3-9d7d-5de10998373f/resourceGroups/naturgy/providers/Microsoft.MachineLearningServices/workspaces/naturgyml4/components/register_conditional_model/versions/13\n",
      "      is_deterministic: true\n",
      "settings:\n",
      "  default_datastore: azureml:training_data_ric\n",
      "  default_compute: azureml:ricardoenm2\n",
      "  force_rerun: false\n",
      "\n"
     ]
    }
   ],
   "source": [
    "print(pipeline_job)"
   ]
  },
  {
   "cell_type": "markdown",
   "metadata": {},
   "source": [
    "## Enviar el job de pipeline"
   ]
  },
  {
   "cell_type": "code",
   "execution_count": 16,
   "metadata": {},
   "outputs": [
    {
     "name": "stderr",
     "output_type": "stream",
     "text": [
      "pathOnCompute is not a known attribute of class <class 'azure.ai.ml._restclient.v2023_04_01_preview.models._models_py3.UriFolderJobOutput'> and will be ignored\n",
      "pathOnCompute is not a known attribute of class <class 'azure.ai.ml._restclient.v2023_04_01_preview.models._models_py3.MLFlowModelJobOutput'> and will be ignored\n",
      "pathOnCompute is not a known attribute of class <class 'azure.ai.ml._restclient.v2023_04_01_preview.models._models_py3.UriFolderJobOutput'> and will be ignored\n",
      "pathOnCompute is not a known attribute of class <class 'azure.ai.ml._restclient.v2023_04_01_preview.models._models_py3.UriFileJobOutput'> and will be ignored\n"
     ]
    },
    {
     "data": {
      "text/html": [
       "<table style=\"width:100%\"><tr><th>Experiment</th><th>Name</th><th>Type</th><th>Status</th><th>Details Page</th></tr><tr><td>pipeline_housing_rf_prices</td><td>olive_neck_f44wcnw5rs</td><td>pipeline</td><td>NotStarted</td><td><a href=\"https://ml.azure.com/runs/olive_neck_f44wcnw5rs?wsid=/subscriptions/7decb7a4-f615-4cc3-9d7d-5de10998373f/resourcegroups/naturgy/workspaces/naturgyml4&amp;tid=8b85184d-f6f0-4ace-80dd-c3bda5a6c156\" target=\"_blank\" rel=\"noopener\">Link to Azure Machine Learning studio</a></td></tr></table>"
      ],
      "text/plain": [
       "PipelineJob({'inputs': {'input_data': <azure.ai.ml.entities._job.pipeline._io.base.PipelineInput object at 0x7122844d83a0>, 'n_estimators': <azure.ai.ml.entities._job.pipeline._io.base.PipelineInput object at 0x7122844db5b0>}, 'outputs': {'pipeline_job_transformed_data': <azure.ai.ml.entities._job.pipeline._io.base.PipelineOutput object at 0x7122844d9c90>, 'pipeline_job_trained_model': <azure.ai.ml.entities._job.pipeline._io.base.PipelineOutput object at 0x7122844db7c0>, 'pipeline_job_output_data': <azure.ai.ml.entities._job.pipeline._io.base.PipelineOutput object at 0x7122844db6a0>, 'pipeline_job_metrics_data': <azure.ai.ml.entities._job.pipeline._io.base.PipelineOutput object at 0x7122844db3a0>}, 'jobs': {}, 'component': PipelineComponent({'latest_version': None, 'intellectual_property': None, 'auto_increment_version': False, 'source': 'REMOTE.WORKSPACE.JOB', 'is_anonymous': True, 'auto_delete_setting': None, 'name': 'azureml_anonymous', 'description': 'Pipeline to train a house pricing model', 'tags': {}, 'properties': {}, 'print_as_yaml': False, 'id': None, 'Resource__source_path': None, 'base_path': '/mnt/batch/tasks/shared/LS_root/mounts/clusters/ricardoenm2/code/Users/formacion/azure-machine-learning/3.Despliegue_Modelos/ejercicios/1.pipeline_registro_modelo', 'creation_context': None, 'serialize': <msrest.serialization.Serializer object at 0x7122844da7d0>, 'version': '1', 'schema': None, 'type': 'pipeline', 'display_name': 'house_pricing_pipeline', 'is_deterministic': None, 'inputs': {'input_data': {}, 'n_estimators': {}}, 'outputs': {'pipeline_job_transformed_data': {}, 'pipeline_job_trained_model': {}, 'pipeline_job_output_data': {}, 'pipeline_job_metrics_data': {}}, 'yaml_str': None, 'other_parameter': {}, 'jobs': {'clean_data': Command({'parameters': {}, 'init': False, 'name': 'clean_data', 'type': 'command', 'status': None, 'log_files': None, 'description': None, 'tags': {}, 'properties': {}, 'print_as_yaml': False, 'id': None, 'Resource__source_path': '', 'base_path': '/mnt/batch/tasks/shared/LS_root/mounts/clusters/ricardoenm2/code/Users/formacion/azure-machine-learning/3.Despliegue_Modelos/ejercicios/1.pipeline_registro_modelo', 'creation_context': None, 'serialize': <msrest.serialization.Serializer object at 0x7122844db550>, 'allowed_keys': {}, 'key_restriction': False, 'logger': <Logger attr_dict (WARNING)>, 'display_name': None, 'experiment_name': None, 'compute': None, 'services': None, 'comment': None, 'job_inputs': {'input_data': '${{parent.inputs.input_data}}'}, 'job_outputs': {'output_data': '${{parent.outputs.pipeline_job_transformed_data}}'}, 'inputs': {'input_data': <azure.ai.ml.entities._job.pipeline._io.base.NodeInput object at 0x7122844da5f0>}, 'outputs': {'output_data': <azure.ai.ml.entities._job.pipeline._io.base.NodeOutput object at 0x7122844d8130>}, 'component': 'ing_prep_data_housing_ric:2', 'referenced_control_flow_node_instance_id': None, 'kwargs': {'services': None}, 'instance_id': '0d312e1e-811b-4711-b193-fe2bed35ccb6', 'source': 'REMOTE.WORKSPACE.COMPONENT', 'validate_required_input_not_provided': True, 'limits': None, 'identity': None, 'distribution': None, 'environment_variables': {}, 'environment': None, 'resources': {'instance_count': 1}, 'queue_settings': None, 'parent_job_name': None, 'swept': False}), 'train_model': Command({'parameters': {}, 'init': False, 'name': 'train_model', 'type': 'command', 'status': None, 'log_files': None, 'description': None, 'tags': {}, 'properties': {}, 'print_as_yaml': False, 'id': None, 'Resource__source_path': '', 'base_path': '/mnt/batch/tasks/shared/LS_root/mounts/clusters/ricardoenm2/code/Users/formacion/azure-machine-learning/3.Despliegue_Modelos/ejercicios/1.pipeline_registro_modelo', 'creation_context': None, 'serialize': <msrest.serialization.Serializer object at 0x7122844daa10>, 'allowed_keys': {}, 'key_restriction': False, 'logger': <Logger attr_dict (WARNING)>, 'display_name': None, 'experiment_name': None, 'compute': None, 'services': None, 'comment': None, 'job_inputs': {'input_data': '${{parent.jobs.clean_data.outputs.output_data}}', 'n_estimators': '${{parent.inputs.n_estimators}}'}, 'job_outputs': {'model_output': '${{parent.outputs.pipeline_job_trained_model}}', 'output_data': '${{parent.outputs.pipeline_job_output_data}}'}, 'inputs': {'input_data': <azure.ai.ml.entities._job.pipeline._io.base.NodeInput object at 0x7122844da860>, 'n_estimators': <azure.ai.ml.entities._job.pipeline._io.base.NodeInput object at 0x7122844d89a0>}, 'outputs': {'model_output': <azure.ai.ml.entities._job.pipeline._io.base.NodeOutput object at 0x7122844db0d0>, 'output_data': <azure.ai.ml.entities._job.pipeline._io.base.NodeOutput object at 0x7122844d9480>}, 'component': 'train_rf_model_housing:2', 'referenced_control_flow_node_instance_id': None, 'kwargs': {'services': None}, 'instance_id': '15ed32c7-a024-4f02-b229-90ae265a51c7', 'source': 'REMOTE.WORKSPACE.COMPONENT', 'validate_required_input_not_provided': True, 'limits': None, 'identity': None, 'distribution': None, 'environment_variables': {}, 'environment': None, 'resources': {'instance_count': 1}, 'queue_settings': None, 'parent_job_name': None, 'swept': False}), 'eval_model': Command({'parameters': {}, 'init': False, 'name': 'eval_model', 'type': 'command', 'status': None, 'log_files': None, 'description': None, 'tags': {}, 'properties': {}, 'print_as_yaml': False, 'id': None, 'Resource__source_path': '', 'base_path': '/mnt/batch/tasks/shared/LS_root/mounts/clusters/ricardoenm2/code/Users/formacion/azure-machine-learning/3.Despliegue_Modelos/ejercicios/1.pipeline_registro_modelo', 'creation_context': None, 'serialize': <msrest.serialization.Serializer object at 0x7122844d91b0>, 'allowed_keys': {}, 'key_restriction': False, 'logger': <Logger attr_dict (WARNING)>, 'display_name': None, 'experiment_name': None, 'compute': None, 'services': None, 'comment': None, 'job_inputs': {'input_data': '${{parent.jobs.train_model.outputs.output_data}}', 'model_input': '${{parent.jobs.train_model.outputs.model_output}}'}, 'job_outputs': {'metrics_output': '${{parent.outputs.pipeline_job_metrics_data}}'}, 'inputs': {'input_data': <azure.ai.ml.entities._job.pipeline._io.base.NodeInput object at 0x7122844d9900>, 'model_input': <azure.ai.ml.entities._job.pipeline._io.base.NodeInput object at 0x7122844dace0>}, 'outputs': {'metrics_output': <azure.ai.ml.entities._job.pipeline._io.base.NodeOutput object at 0x7122844dab90>}, 'component': 'eval_model_metrics:2', 'referenced_control_flow_node_instance_id': None, 'kwargs': {'services': None}, 'instance_id': '2ea54f36-0259-42b5-96df-2951ec07dc52', 'source': 'REMOTE.WORKSPACE.COMPONENT', 'validate_required_input_not_provided': True, 'limits': None, 'identity': None, 'distribution': None, 'environment_variables': {}, 'environment': None, 'resources': {'instance_count': 1}, 'queue_settings': None, 'parent_job_name': None, 'swept': False}), 'register_model': Command({'parameters': {}, 'init': False, 'name': 'register_model', 'type': 'command', 'status': None, 'log_files': None, 'description': None, 'tags': {}, 'properties': {}, 'print_as_yaml': False, 'id': None, 'Resource__source_path': '', 'base_path': '/mnt/batch/tasks/shared/LS_root/mounts/clusters/ricardoenm2/code/Users/formacion/azure-machine-learning/3.Despliegue_Modelos/ejercicios/1.pipeline_registro_modelo', 'creation_context': None, 'serialize': <msrest.serialization.Serializer object at 0x7122844d82e0>, 'allowed_keys': {}, 'key_restriction': False, 'logger': <Logger attr_dict (WARNING)>, 'display_name': None, 'experiment_name': None, 'compute': None, 'services': None, 'comment': None, 'job_inputs': {'model_name': 'hous_pricing_rf_model', 'metrics_input': '${{parent.jobs.eval_model.outputs.metrics_output}}', 'model_input': '${{parent.jobs.train_model.outputs.model_output}}'}, 'job_outputs': {}, 'inputs': {'model_name': <azure.ai.ml.entities._job.pipeline._io.base.NodeInput object at 0x7122844d8070>, 'metrics_input': <azure.ai.ml.entities._job.pipeline._io.base.NodeInput object at 0x7122844d8eb0>, 'model_input': <azure.ai.ml.entities._job.pipeline._io.base.NodeInput object at 0x7122844d8850>}, 'outputs': {}, 'component': 'register_conditional_model:13', 'referenced_control_flow_node_instance_id': None, 'kwargs': {'services': None}, 'instance_id': '289cb993-a8e8-4f26-b55c-af51ca326623', 'source': 'REMOTE.WORKSPACE.COMPONENT', 'validate_required_input_not_provided': True, 'limits': None, 'identity': None, 'distribution': None, 'environment_variables': {}, 'environment': None, 'resources': {'instance_count': 1}, 'queue_settings': None, 'parent_job_name': None, 'swept': False})}, 'job_types': {'command': 4}, 'job_sources': {'REMOTE.WORKSPACE.COMPONENT': 4}, 'source_job_id': None}), 'type': 'pipeline', 'status': 'NotStarted', 'log_files': None, 'name': 'olive_neck_f44wcnw5rs', 'description': 'Pipeline to train a house pricing model', 'tags': {}, 'properties': {'mlflow.source.git.repoURL': 'git@github.com:ricardoahumada/azure-machine-learning.git', 'mlflow.source.git.branch': 'main', 'mlflow.source.git.commit': 'e5f5612dc60576297663828a7c57d3d7ab14e3b8', 'azureml.git.dirty': 'True'}, 'print_as_yaml': False, 'id': '/subscriptions/7decb7a4-f615-4cc3-9d7d-5de10998373f/resourceGroups/naturgy/providers/Microsoft.MachineLearningServices/workspaces/naturgyml4/jobs/olive_neck_f44wcnw5rs', 'Resource__source_path': '', 'base_path': '/mnt/batch/tasks/shared/LS_root/mounts/clusters/ricardoenm2/code/Users/formacion/azure-machine-learning/3.Despliegue_Modelos/ejercicios/1.pipeline_registro_modelo', 'creation_context': <azure.ai.ml.entities._system_data.SystemData object at 0x7122844d9150>, 'serialize': <msrest.serialization.Serializer object at 0x7122844db3d0>, 'display_name': 'house_pricing_pipeline', 'experiment_name': 'pipeline_housing_rf_prices', 'compute': None, 'services': {'Tracking': {'endpoint': 'azureml://northcentralus.api.azureml.ms/mlflow/v1.0/subscriptions/7decb7a4-f615-4cc3-9d7d-5de10998373f/resourceGroups/naturgy/providers/Microsoft.MachineLearningServices/workspaces/naturgyml4?', 'type': 'Tracking'}, 'Studio': {'endpoint': 'https://ml.azure.com/runs/olive_neck_f44wcnw5rs?wsid=/subscriptions/7decb7a4-f615-4cc3-9d7d-5de10998373f/resourcegroups/naturgy/workspaces/naturgyml4&tid=8b85184d-f6f0-4ace-80dd-c3bda5a6c156', 'type': 'Studio'}}, 'settings': {}, 'identity': None, 'default_code': None, 'default_environment': None})"
      ]
     },
     "execution_count": 16,
     "metadata": {},
     "output_type": "execute_result"
    }
   ],
   "source": [
    "# submit job to workspace\n",
    "pipeline_job = ml_client.jobs.create_or_update(\n",
    "    pipeline_job,\n",
    "    experiment_name=\"pipeline_housing_rf_prices\",\n",
    "    display_name=\"pipeline_housing_rf_prices\"\n",
    ")\n",
    "\n",
    "pipeline_job"
   ]
  }
 ],
 "metadata": {
  "kernel_info": {
   "name": "python38-azureml"
  },
  "kernelspec": {
   "display_name": "Python 3.10 - AzureML",
   "language": "python",
   "name": "python38-azureml"
  },
  "language_info": {
   "codemirror_mode": {
    "name": "ipython",
    "version": 3
   },
   "file_extension": ".py",
   "mimetype": "text/x-python",
   "name": "python",
   "nbconvert_exporter": "python",
   "pygments_lexer": "ipython3",
   "version": "3.10.11"
  },
  "microsoft": {
   "host": {
    "AzureML": {
     "notebookHasBeenCompleted": true
    }
   }
  },
  "nteract": {
   "version": "nteract-front-end@1.0.0"
  }
 },
 "nbformat": 4,
 "nbformat_minor": 2
}
