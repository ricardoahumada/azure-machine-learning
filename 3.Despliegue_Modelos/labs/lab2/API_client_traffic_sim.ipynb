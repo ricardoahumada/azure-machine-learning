{
 "cells": [
  {
   "cell_type": "markdown",
   "id": "d4779ff3",
   "metadata": {},
   "source": [
    "# Consumir endpoint"
   ]
  },
  {
   "cell_type": "code",
   "execution_count": 1,
   "id": "3f2c4fb6",
   "metadata": {},
   "outputs": [],
   "source": [
    "import requests\n",
    "import json\n",
    "import threading\n",
    "import time\n",
    "\n",
    "# Configuración del endpoint\n",
    "endpoint_url = \"https://<your-endpoint-name>.<region>.inference.ml.azure.com/score\"\n",
    "api_key = \"<your-api-key>\"\n",
    "\n",
    "# Datos de entrada\n",
    "input_data = {\n",
    "    \"data\": [\n",
    "        [6, 148, 72, 35, 0, 33.6, 0.627, 50],\n",
    "        [1, 85, 66, 29, 0, 26.6, 0.351, 31]\n",
    "    ]\n",
    "}\n"
   ]
  },
  {
   "cell_type": "code",
   "execution_count": 2,
   "id": "645230ff",
   "metadata": {},
   "outputs": [],
   "source": [
    "\n",
    "# Función para enviar una solicitud\n",
    "def send_request():\n",
    "    headers = {\n",
    "        \"Content-Type\": \"application/json\",\n",
    "        \"Authorization\": f\"Bearer {api_key}\",\n",
    "        \"azureml-model-deployment\": \"blue\"\n",
    "    }\n",
    "    response = requests.post(endpoint_url, headers=headers, data=json.dumps(input_data))\n",
    "    if response.status_code == 200:\n",
    "        print(\"Predicción recibida:\", response.json())\n",
    "    else:\n",
    "        print(f\"Error: {response.status_code}, Detalles: {response.text}\")"
   ]
  },
  {
   "cell_type": "code",
   "execution_count": 3,
   "id": "cbf1d1e3",
   "metadata": {},
   "outputs": [],
   "source": [
    "# Función para simular tráfico\n",
    "def simulate_traffic(num_requests, concurrency):\n",
    "    threads = []\n",
    "    for _ in range(num_requests):\n",
    "        thread = threading.Thread(target=send_request)\n",
    "        threads.append(thread)\n",
    "    \n",
    "    # Iniciar todos los hilos\n",
    "    start_time = time.time()\n",
    "    for thread in threads:\n",
    "        thread.start()\n",
    "    \n",
    "    # Esperar a que todos los hilos terminen\n",
    "    for thread in threads:\n",
    "        thread.join()\n",
    "    \n",
    "    end_time = time.time()\n",
    "    print(f\"Tiempo total: {end_time - start_time:.2f} segundos\")\n"
   ]
  },
  {
   "cell_type": "code",
   "execution_count": null,
   "id": "806774a8",
   "metadata": {},
   "outputs": [],
   "source": [
    "\n",
    "# Simular tráfico\n",
    "num_requests = 100  # Número de solicitudes\n",
    "concurrency = 10    # Número de solicitudes concurrentes\n",
    "simulate_traffic(num_requests, concurrency)"
   ]
  }
 ],
 "metadata": {
  "kernelspec": {
   "display_name": "Python 3",
   "language": "python",
   "name": "python3"
  },
  "language_info": {
   "codemirror_mode": {
    "name": "ipython",
    "version": 3
   },
   "file_extension": ".py",
   "mimetype": "text/x-python",
   "name": "python",
   "nbconvert_exporter": "python",
   "pygments_lexer": "ipython3",
   "version": "3.12.4"
  }
 },
 "nbformat": 4,
 "nbformat_minor": 5
}
