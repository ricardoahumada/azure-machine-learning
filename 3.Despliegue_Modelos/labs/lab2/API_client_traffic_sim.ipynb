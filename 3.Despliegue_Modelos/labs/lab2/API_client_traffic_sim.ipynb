{
 "cells": [
  {
   "cell_type": "markdown",
   "id": "d4779ff3",
   "metadata": {},
   "source": [
    "# Consumir endpoint"
   ]
  },
  {
   "cell_type": "code",
   "execution_count": null,
   "id": "3f2c4fb6",
   "metadata": {},
   "outputs": [],
   "source": [
    "import requests\n",
    "import json\n",
    "import threading\n",
    "import time\n",
    "\n",
    "# Configuración del endpoint\n",
    "endpoint_url = \"https://my-diabetes-endpoint-ric.northcentralus.inference.ml.azure.com/score\"  # Reemplaza con la URL de tu endpoint\n",
    "api_key = \"CP83sIBWopwRuIqhNp6HqsDDjuKU5SWozlXrHWpOwSeDKgztOQn1JQQJ99BEAAAAAAAAAAAAINFRAZML4672\"  # Reemplaza con tu API Key\n",
    "\n",
    "# Datos de entrada\n",
    "input_data = {\n",
    "    \"input_data\": {\n",
    "        \"columns\": [\n",
    "            \"Pregnancies\",\n",
    "            \"PlasmaGlucose\",\n",
    "            \"DiastolicBloodPressure\",\n",
    "            \"TricepsThickness\",\n",
    "            \"SerumInsulin\",\n",
    "            \"BMI\",\n",
    "            \"DiabetesPedigree\",\n",
    "            \"Age\"\n",
    "        ],\n",
    "        \"index\": [1],\n",
    "        \"data\": [\n",
    "            [\n",
    "                0, 148, 58, 11, 179, 39.19207553, 0.160829008, 45\n",
    "            ]\n",
    "        ]\n",
    "    }\n",
    "}\n"
   ]
  },
  {
   "cell_type": "code",
   "execution_count": null,
   "id": "645230ff",
   "metadata": {},
   "outputs": [],
   "source": [
    "\n",
    "# Función para enviar una solicitud\n",
    "def send_request():\n",
    "    headers = {\n",
    "        \"Content-Type\": \"application/json\",\n",
    "        \"Authorization\": f\"Bearer {api_key}\",\n",
    "        \"azureml-model-deployment\": \"blue\"\n",
    "    }\n",
    "    response = requests.post(endpoint_url, headers=headers, data=json.dumps(input_data))\n",
    "    if response.status_code == 200:\n",
    "        print(\"Predicción recibida:\", response.json())\n",
    "    else:\n",
    "        print(f\"Error: {response.status_code}, Detalles: {response.text}\")"
   ]
  },
  {
   "cell_type": "code",
   "execution_count": null,
   "id": "cbf1d1e3",
   "metadata": {},
   "outputs": [],
   "source": [
    "# Función para simular tráfico\n",
    "def simulate_traffic(num_requests, concurrency):\n",
    "    threads = []\n",
    "    for _ in range(num_requests):\n",
    "        thread = threading.Thread(target=send_request)\n",
    "        threads.append(thread)\n",
    "    \n",
    "    # Iniciar todos los hilos\n",
    "    start_time = time.time()\n",
    "    for thread in threads:\n",
    "        thread.start()\n",
    "    \n",
    "    # Esperar a que todos los hilos terminen\n",
    "    for thread in threads:\n",
    "        thread.join()\n",
    "    \n",
    "    end_time = time.time()\n",
    "    print(f\"Tiempo total: {end_time - start_time:.2f} segundos\")\n"
   ]
  },
  {
   "cell_type": "code",
   "execution_count": null,
   "id": "806774a8",
   "metadata": {},
   "outputs": [],
   "source": [
    "\n",
    "# Simular tráfico\n",
    "num_requests = 1000  # Número de solicitudes\n",
    "concurrency = 10    # Número de solicitudes concurrentes\n",
    "simulate_traffic(num_requests, concurrency)"
   ]
  }
 ],
 "metadata": {
  "kernelspec": {
   "display_name": "Python 3.10 - AzureML",
   "language": "python",
   "name": "python38-azureml"
  },
  "language_info": {
   "codemirror_mode": {
    "name": "ipython",
    "version": 3
   },
   "file_extension": ".py",
   "mimetype": "text/x-python",
   "name": "python",
   "nbconvert_exporter": "python",
   "pygments_lexer": "ipython3",
   "version": "3.10.11"
  }
 },
 "nbformat": 4,
 "nbformat_minor": 5
}
