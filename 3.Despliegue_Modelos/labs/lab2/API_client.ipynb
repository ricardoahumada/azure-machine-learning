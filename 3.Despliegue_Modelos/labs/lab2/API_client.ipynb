{
 "cells": [
  {
   "cell_type": "markdown",
   "id": "d4779ff3",
   "metadata": {},
   "source": [
    "# Consumir endpoint"
   ]
  },
  {
   "cell_type": "code",
   "execution_count": null,
   "id": "3f2c4fb6",
   "metadata": {},
   "outputs": [
    {
     "name": "stdout",
     "output_type": "stream",
     "text": [
      "Datos de entrada: {'input_data': {'columns': ['Pregnancies', 'PlasmaGlucose', 'DiastolicBloodPressure', 'TricepsThickness', 'SerumInsulin', 'BMI', 'DiabetesPedigree', 'Age'], 'index': [1], 'data': [[0, 148, 58, 11, 179, 39.19207553, 0.160829008, 45]]}}\n",
      "<Response [200]>\n",
      "Predicciones: [1]\n"
     ]
    }
   ],
   "source": [
    "import json\n",
    "import requests\n",
    "import json\n",
    "\n",
    "data = {\n",
    "    \"input_data\": {\n",
    "        \"columns\": [\n",
    "            \"Pregnancies\",\n",
    "            \"PlasmaGlucose\",\n",
    "            \"DiastolicBloodPressure\",\n",
    "            \"TricepsThickness\",\n",
    "            \"SerumInsulin\",\n",
    "            \"BMI\",\n",
    "            \"DiabetesPedigree\",\n",
    "            \"Age\"\n",
    "        ],\n",
    "        \"index\": [1],\n",
    "        \"data\": [\n",
    "            [\n",
    "                0, 148, 58, 11, 179, 39.19207553, 0.160829008, 45\n",
    "            ]\n",
    "        ]\n",
    "    }\n",
    "}\n",
    "\n",
    "print(\"Datos de entrada:\", data)\n",
    "\n",
    "body = str.encode(json.dumps(data))\n",
    "\n",
    "url = '<endpoint_url>'  # Reemplazar con la URL del endpoint de Azure Machine Learning\n",
    "# Reemplazar con la clave primaria/secundaria, AmlToken o Microsoft Entra ID Token del endpoint\n",
    "api_key = '<token>'\n",
    "if not api_key:\n",
    "    raise Exception(\"A key should be provided to invoke the endpoint\")\n",
    "\n",
    "\n",
    "headers = {'Content-Type': 'application/json',\n",
    "           'Accept': 'application/json', 'Authorization': ('Bearer ' + api_key)}\n",
    "\n",
    "response = requests.post(url, headers=headers, data=json.dumps(data))\n",
    "predictions = response.json()\n",
    "\n",
    "print(response)\n",
    "\n",
    "if response.status_code == 200:\n",
    "    print(\"Predicciones:\", predictions)\n",
    "else:\n",
    "    print(f\"Error: {response.status_code}, Mensaje: {response.text}\")"
   ]
  }
 ],
 "metadata": {
  "kernelspec": {
   "display_name": "Python 3",
   "language": "python",
   "name": "python3"
  },
  "language_info": {
   "codemirror_mode": {
    "name": "ipython",
    "version": 3
   },
   "file_extension": ".py",
   "mimetype": "text/x-python",
   "name": "python",
   "nbconvert_exporter": "python",
   "pygments_lexer": "ipython3",
   "version": "3.12.4"
  }
 },
 "nbformat": 4,
 "nbformat_minor": 5
}
