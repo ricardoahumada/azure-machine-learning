{
 "cells": [
  {
   "cell_type": "markdown",
   "id": "e5b67308",
   "metadata": {},
   "source": [
    "# Integración Azure ML - Power BI"
   ]
  },
  {
   "cell_type": "markdown",
   "id": "acdcb16c",
   "metadata": {},
   "source": [
    "## **Escenario**\n",
    "Tienes un modelo desplegado en Azure ML que predice si un paciente es diabético o no (`Diabetic`) basándose en los siguientes datos:\n",
    "- `PatientID`\n",
    "- `Pregnancies`\n",
    "- `PlasmaGlucose`\n",
    "- `DiastolicBloodPressure`\n",
    "- `TricepsThickness`\n",
    "- `SerumInsulin`\n",
    "- `BMI`\n",
    "- `DiabetesPedigree`\n",
    "- `Age`\n",
    "\n",
    "El objetivo es usar Power BI para:\n",
    "1. Cargar los datos de los pacientes.\n",
    "2. Invocar el endpoint del modelo de Azure ML para obtener las predicciones.\n",
    "3. Visualizar los resultados en un informe de Power BI.\n",
    "\n"
   ]
  },
  {
   "cell_type": "markdown",
   "id": "9b17928a",
   "metadata": {},
   "source": [
    "## **Configuración en Power BI**\n",
    "\n",
    "### 1. Cargar los Datos en Power BI\n",
    "1. Abre Power BI Desktop.\n",
    "2. Ve a **Home > Get Data > Text/CSV** y selecciona el archivo `patients_data.csv`.\n",
    "3. Carga los datos en Power BI.\n",
    "\n",
    "### 2. Crear una Función Personalizada para Invocar el Endpoint\n",
    "1. En Power Query Editor, ve a **Home > Advanced Editor**.\n",
    "2. Crea una función personalizada llamada `InvokeAzureMLEndpoint` para enviar los datos al modelo y obtener las predicciones.\n",
    "\n",
    "#### Código de la Función:\n"
   ]
  },
  {
   "cell_type": "markdown",
   "id": "8f16c421",
   "metadata": {},
   "source": [
    "```powerquery\n",
    "let\n",
    "    InvokeAzureMLEndpoint = (data as list) =>\n",
    "    let\n",
    "        // URL del endpoint\n",
    "        endpointUrl = \"<endpoint_url>\",\n",
    "        \n",
    "        // Encabezados HTTP\n",
    "        headers = [\n",
    "            #\"Content-Type\" = \"application/json\",\n",
    "            #\"Authorization\" = \"Bearer <token>\"\n",
    "        ],\n",
    "        \n",
    "        // Construir el JSON\n",
    "        Columns = {\n",
    "            \"Pregnancies\",\n",
    "            \"PlasmaGlucose\",\n",
    "            \"DiastolicBloodPressure\",\n",
    "            \"TricepsThickness\",\n",
    "            \"SerumInsulin\",\n",
    "            \"BMI\",\n",
    "            \"DiabetesPedigree\",\n",
    "            \"Age\"\n",
    "        },\n",
    "        Index = {1},\n",
    "        Data = {\n",
    "            data\n",
    "        },\n",
    "        InputData = [\n",
    "            columns = Columns,\n",
    "            index = Index,\n",
    "            data = Data\n",
    "        ],\n",
    "        JsonBody = [\n",
    "            input_data = InputData\n",
    "        ],\n",
    "\n",
    "        // Convertir el JSON a texto\n",
    "        requestBody = Json.FromValue(JsonBody),\n",
    "\n",
    "        //requestBody = Json.FromValue([data = data]),\n",
    "        \n",
    "        \n",
    "        // Realizar la solicitud HTTP\n",
    "        response = Web.Contents(endpointUrl, [\n",
    "            Headers = headers,\n",
    "            Content = requestBody\n",
    "        ]),\n",
    "        \n",
    "        // Parsear la respuesta JSON\n",
    "        jsonResponse = Json.Document(response),\n",
    "        Valor = List.First(jsonResponse),\n",
    "        predictions = if Valor = 1 then \"Diabetic\" else \"Non-Diabetic\"\n",
    "    in\n",
    "        predictions\n",
    "in\n",
    "    InvokeAzureMLEndpoint\n",
    "```\n"
   ]
  },
  {
   "cell_type": "markdown",
   "id": "58fa5ee1",
   "metadata": {},
   "source": [
    "\n",
    "Reemplaza `<your-endpoint-url>` y `<your-api-key>` con los valores correspondientes de tu endpoint.\n",
    "\n"
   ]
  },
  {
   "cell_type": "markdown",
   "id": "087acf3c",
   "metadata": {},
   "source": [
    "### 3. Invocar el Endpoint para Cada Fila\n",
    "1. En Power Query Editor, selecciona la tabla con los datos de los pacientes.\n",
    "2. Agrega una nueva columna personalizada:\n",
    "   - Ve a **Add Column > Custom Column**.\n",
    "   - Usa la función `InvokeAzureMLEndpoint` para enviar los datos de cada fila al modelo.\n",
    "\n",
    "#### Código para la Nueva Columna:\n"
   ]
  },
  {
   "cell_type": "markdown",
   "id": "3ed01fd4",
   "metadata": {},
   "source": [
    "```powerquery\n",
    "InvokeAzureMLEndpoint({\n",
    "    [Pregnancies],\n",
    "    [PlasmaGlucose],\n",
    "    [DiastolicBloodPressure],\n",
    "    [TricepsThickness],\n",
    "    [SerumInsulin],\n",
    "    [BMI],\n",
    "    [DiabetesPedigree],\n",
    "    [Age]\n",
    "})\n",
    "```\n"
   ]
  },
  {
   "cell_type": "markdown",
   "id": "56e57ba8",
   "metadata": {},
   "source": [
    "\n",
    "Esto agregará una columna con las predicciones (`Diabetic` o `Non-Diabetic`) para cada paciente.\n",
    "\n"
   ]
  },
  {
   "cell_type": "markdown",
   "id": "8e25bd46",
   "metadata": {},
   "source": [
    "### 4. Cargar los Datos en Power BI\n",
    "1. Cierra Power Query Editor y carga los datos en Power BI.\n",
    "2. Ahora tendrás una tabla con las predicciones del modelo.\n",
    "\n"
   ]
  },
  {
   "cell_type": "markdown",
   "id": "800899a6",
   "metadata": {},
   "source": [
    "## **Visualización en Power BI**\n",
    "\n",
    "### Crear un Informe\n",
    "1. Arrastra la columna `PatientID` al lienzo.\n",
    "2. Arrastra la columna de predicciones (`CustomColumn`) al lienzo.\n",
    "3. Usa un gráfico de barras o un gráfico circular para visualizar la distribución de pacientes diabéticos y no diabéticos.\n",
    "\n",
    "### Filtrar por Resultados\n",
    "1. Agrega un filtro para mostrar solo los pacientes diabéticos o no diabéticos.\n",
    "2. Usa slicers para explorar los datos según otras columnas, como `Age` o `BMI`.\n",
    "\n"
   ]
  },
  {
   "cell_type": "markdown",
   "id": "caa257c4",
   "metadata": {},
   "source": [
    "## **Automatización**\n",
    "\n",
    "Para automatizar el proceso de actualización de las predicciones, puedes configurar un flujo de trabajo en Power BI Service:\n",
    "\n",
    "1. Publica el informe en Power BI Service.\n",
    "2. Configura un **scheduled refresh** para actualizar los datos automáticamente.\n",
    "3. Asegúrate de que el endpoint de Azure ML esté disponible y funcione correctamente.\n",
    "\n"
   ]
  }
 ],
 "metadata": {
  "language_info": {
   "name": "python"
  }
 },
 "nbformat": 4,
 "nbformat_minor": 5
}
