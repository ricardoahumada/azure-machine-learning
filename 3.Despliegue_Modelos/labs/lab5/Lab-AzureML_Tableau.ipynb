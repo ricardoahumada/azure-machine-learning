{
 "cells": [
  {
   "cell_type": "markdown",
   "id": "e5b67308",
   "metadata": {},
   "source": [
    "# Integración Azure ML - Tableau"
   ]
  },
  {
   "cell_type": "markdown",
   "id": "6598afd8",
   "metadata": {},
   "source": [
    "## **Escenario**\n",
    "Tienes un modelo desplegado en Azure ML que predice si un paciente es diabético o no (`Diabetic`) basándose en los siguientes datos:\n",
    "- `PatientID`\n",
    "- `Pregnancies`\n",
    "- `PlasmaGlucose`\n",
    "- `DiastolicBloodPressure`\n",
    "- `TricepsThickness`\n",
    "- `SerumInsulin`\n",
    "- `BMI`\n",
    "- `DiabetesPedigree`\n",
    "- `Age`\n",
    "\n",
    "El objetivo es usar Tableau para:\n",
    "1. Cargar los datos de los pacientes.\n",
    "2. Invocar el endpoint del modelo de Azure ML para obtener las predicciones.\n",
    "3. Visualizar los resultados en un dashboard de Tableau.\n",
    "\n"
   ]
  },
  {
   "cell_type": "markdown",
   "id": "353f092e",
   "metadata": {},
   "source": [
    "## **Configuración en Tableau**\n",
    "\n",
    "### 1. Cargar los Datos en Tableau\n",
    "1. Abre Tableau Desktop.\n",
    "2. Ve a **Connect > Text File** y selecciona el archivo `patients_data.csv`.\n",
    "3. Arrastra los datos a la hoja de trabajo para cargarlos.\n",
    "\n"
   ]
  },
  {
   "cell_type": "markdown",
   "id": "fff12b2d",
   "metadata": {},
   "source": [
    "### 2. Crear una Conexión REST API\n",
    "Para invocar el endpoint de Azure ML desde Tableau, puedes usar el conector **Web Data Connector (WDC)** o **TabPy** (Python Integration). Aquí usaremos **TabPy** porque es más flexible para este caso.\n",
    "\n",
    "#### Instalar y Configurar TabPy\n",
    "1. Descarga e instala **TabPy** desde [aquí](https://github.com/tableau/TabPy).\n",
    "2. Inicia el servidor TabPy ejecutando el siguiente comando en tu terminal:\n",
    "   ```bash\n",
    "   tabpy\n",
    "   ```\n",
    "   Por defecto, TabPy escucha en `http://localhost:9004`.\n",
    "\n",
    "3. Verifica que TabPy está funcionando correctamente accediendo a `http://localhost:9004` en tu navegador.\n",
    "\n"
   ]
  },
  {
   "cell_type": "markdown",
   "id": "306c58cb",
   "metadata": {},
   "source": [
    "### 3. Escribir un Script Python para Invocar el Endpoint\n",
    "Crea un script Python que envíe los datos al endpoint de Azure ML y devuelva las predicciones."
   ]
  },
  {
   "cell_type": "code",
   "execution_count": null,
   "id": "2a5c2986",
   "metadata": {},
   "outputs": [],
   "source": [
    "%%writefile azure_ml_predict.py\n",
    "\n",
    "import requests\n",
    "import json\n",
    "\n",
    "def predict_diabetes(data):\n",
    "    # URL del endpoint\n",
    "    endpoint_url = \"https://<your-endpoint-url>.azurewebsites.net/score\"\n",
    "    \n",
    "    # Encabezados HTTP\n",
    "    headers = {\n",
    "        \"Content-Type\": \"application/json\",\n",
    "        \"Authorization\": \"Bearer <your-api-key>\"\n",
    "    }\n",
    "    \n",
    "    # Construir el cuerpo de la solicitud\n",
    "    payload = {\"data\": data}\n",
    "    \n",
    "    # Realizar la solicitud HTTP\n",
    "    response = requests.post(endpoint_url, headers=headers, json=payload)\n",
    "    \n",
    "    # Parsear la respuesta JSON\n",
    "    predictions = response.json().get(\"predictions\", [])\n",
    "    return predictions"
   ]
  },
  {
   "cell_type": "markdown",
   "id": "47571395",
   "metadata": {},
   "source": [
    "### 4. Integrar el Script con Tableau\n",
    "1. En Tableau, ve a **Help > Settings and Performance > Manage External Service Connection**.\n",
    "2. Configura la conexión a TabPy:\n",
    "   - Servidor: `localhost`\n",
    "   - Puerto: `9004`\n",
    "\n",
    "3. Usa el script Python en Tableau:\n",
    "   - Ve a **Analysis > Create Calculated Field**.\n",
    "   - Crea un campo calculado llamado `Prediction` con el siguiente código:"
   ]
  },
  {
   "cell_type": "code",
   "execution_count": null,
   "id": "f25ccfb0",
   "metadata": {},
   "outputs": [],
   "source": [
    "# Código del Campo Calculado:\n",
    "SCRIPT_STR(\n",
    "    \"import azure_ml_predict; return azure_ml_predict.predict_diabetes([_arg1, _arg2, _arg3, _arg4, _arg5, _arg6, _arg7, _arg8])\",\n",
    "    ATTR([Pregnancies]),\n",
    "    ATTR([PlasmaGlucose]),\n",
    "    ATTR([DiastolicBloodPressure]),\n",
    "    ATTR([TricepsThickness]),\n",
    "    ATTR([SerumInsulin]),\n",
    "    ATTR([BMI]),\n",
    "    ATTR([DiabetesPedigree]),\n",
    "    ATTR([Age])\n",
    ")"
   ]
  },
  {
   "cell_type": "markdown",
   "id": "36921691",
   "metadata": {},
   "source": [
    "Esto enviará los datos de cada fila al modelo y devolverá las predicciones."
   ]
  },
  {
   "cell_type": "markdown",
   "id": "15f4d2af",
   "metadata": {},
   "source": [
    "### 5. Cargar las Predicciones en Tableau\n",
    "1. Una vez que el campo calculado esté listo, arrástralo al lienzo para ver las predicciones.\n",
    "2. Ahora tendrás una columna con las predicciones (`Diabetic` o `Non-Diabetic`) para cada paciente.\n",
    "\n"
   ]
  },
  {
   "cell_type": "markdown",
   "id": "62a5e9a6",
   "metadata": {},
   "source": [
    "## **Visualización en Tableau**\n",
    "\n",
    "### 1. Crear un Dashboard\n",
    "1. Arrastra la columna `PatientID` al lienzo.\n",
    "2. Arrastra la columna de predicciones (`Prediction`) al lienzo.\n",
    "3. Usa gráficos de barras o circulares para visualizar la distribución de pacientes diabéticos y no diabéticos.\n",
    "\n",
    "### 2. Filtrar por Resultados\n",
    "1. Agrega un filtro para mostrar solo los pacientes diabéticos o no diabéticos.\n",
    "2. Usa controles interactivos para explorar los datos según otras columnas, como `Age` o `BMI`.\n",
    "\n"
   ]
  },
  {
   "cell_type": "markdown",
   "id": "4b3291bc",
   "metadata": {},
   "source": [
    "## **Automatización**\n",
    "\n",
    "Para automatizar el proceso de actualización de las predicciones, puedes configurar un flujo de trabajo en Tableau Server:\n",
    "\n",
    "1. Publica el dashboard en Tableau Server.\n",
    "2. Configura un **scheduled refresh** para actualizar los datos automáticamente.\n",
    "3. Asegúrate de que el endpoint de Azure ML esté disponible y funcione correctamente.\n",
    "\n"
   ]
  }
 ],
 "metadata": {
  "kernelspec": {
   "display_name": "Python 3",
   "language": "python",
   "name": "python3"
  },
  "language_info": {
   "codemirror_mode": {
    "name": "ipython",
    "version": 3
   },
   "file_extension": ".py",
   "mimetype": "text/x-python",
   "name": "python",
   "nbconvert_exporter": "python",
   "pygments_lexer": "ipython3",
   "version": "3.12.4"
  }
 },
 "nbformat": 4,
 "nbformat_minor": 5
}
