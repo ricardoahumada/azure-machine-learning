{
 "cells": [
  {
   "cell_type": "markdown",
   "id": "399c0781",
   "metadata": {},
   "source": [
    "# Script Power BI Python"
   ]
  },
  {
   "cell_type": "code",
   "execution_count": null,
   "id": "ed50f9b2",
   "metadata": {},
   "outputs": [],
   "source": [
    "import pandas as pd\n",
    "dataset=pd.read_csv('./patients_data.csv')\n",
    "dataset"
   ]
  },
  {
   "cell_type": "code",
   "execution_count": null,
   "id": "e0628491",
   "metadata": {},
   "outputs": [],
   "source": [
    "# 'dataset' contiene los datos de entrada para este script\n",
    "import requests\n",
    "import json\n",
    "import threading\n",
    "import time\n",
    "\n",
    "# Configuración del endpoint\n",
    "endpoint_url = \"<endpoint_url>\"  # Reemplaza con la URL de tu endpoint\n",
    "api_key = \"<token>\"  # Reemplaza con tu API Key\n",
    "\n",
    "\n",
    "# Función para enviar una solicitud\n",
    "def send_request(row):\n",
    "\n",
    "    print(\"row:\", row)\n",
    "\n",
    "    # Datos de entrada\n",
    "    input_data = {\n",
    "        \"input_data\": {\n",
    "            \"columns\": [\n",
    "                \"Pregnancies\",\n",
    "                \"PlasmaGlucose\",\n",
    "                \"DiastolicBloodPressure\",\n",
    "                \"TricepsThickness\",\n",
    "                \"SerumInsulin\",\n",
    "                \"BMI\",\n",
    "                \"DiabetesPedigree\",\n",
    "                \"Age\"\n",
    "            ],\n",
    "            \"index\": [1],\n",
    "            \"data\": [row[1:]]\n",
    "        }\n",
    "    }\n",
    "\n",
    "    print(\"Enviando solicitud:\", input_data)\n",
    "\n",
    "    headers = {\n",
    "        \"Content-Type\": \"application/json\",\n",
    "        \"Authorization\": f\"Bearer {api_key}\",\n",
    "    }\n",
    "    response = requests.post(endpoint_url, headers=headers, data=json.dumps(input_data))\n",
    "    if response.status_code == 200:\n",
    "        print(\"Predicción recibida:\", response.json())\n",
    "        return response.json()[0]\n",
    "    else:\n",
    "        print(f\"Error: {response.status_code}, Detalles: {response.text}\")\n",
    "        return response.text\n",
    "    \n",
    "\n",
    "# Cargar el dataset\n",
    "new_col=[]\n",
    "for index, row in dataset.iterrows():\n",
    "    new_col.append(send_request(row.tolist()))\n",
    "\n",
    "dataset[\"new\"]=new_col\n",
    "\n",
    "dataset"
   ]
  }
 ],
 "metadata": {
  "kernelspec": {
   "display_name": "Python 3",
   "language": "python",
   "name": "python3"
  },
  "language_info": {
   "codemirror_mode": {
    "name": "ipython",
    "version": 3
   },
   "file_extension": ".py",
   "mimetype": "text/x-python",
   "name": "python",
   "nbconvert_exporter": "python",
   "pygments_lexer": "ipython3",
   "version": "3.12.4"
  }
 },
 "nbformat": 4,
 "nbformat_minor": 5
}
