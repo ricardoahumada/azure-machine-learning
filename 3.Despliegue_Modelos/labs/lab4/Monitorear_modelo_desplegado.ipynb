{
  "cells": [
    {
      "attachments": {},
      "cell_type": "markdown",
      "metadata": {},
      "source": [
        "# Monitorear modelo desplegado"
      ]
    },
    {
      "cell_type": "code",
      "execution_count": null,
      "metadata": {
        "gather": {
          "logged": 1667393334445
        }
      },
      "outputs": [],
      "source": [
        "! pip show azure-ai-ml"
      ]
    },
    {
      "cell_type": "markdown",
      "metadata": {},
      "source": [
        "## Conectar a workspace"
      ]
    },
    {
      "cell_type": "code",
      "execution_count": null,
      "metadata": {},
      "outputs": [],
      "source": [
        "# conectar\n",
        "from azure.ai.ml import MLClient\n",
        "from azure.identity import DefaultAzureCredential\n",
        "\n",
        "ml_client = MLClient.from_config(credential=DefaultAzureCredential())\n",
        "\n",
        "print(f\"Conectado al Workspace: {ml_client.workspace_name}\")"
      ]
    },
    {
      "cell_type": "markdown",
      "metadata": {},
      "source": [
        "## Obtener datos de test"
      ]
    },
    {
      "cell_type": "code",
      "execution_count": null,
      "metadata": {},
      "outputs": [],
      "source": [
        "import pandas as pd\n",
        "\n",
        "data_asset = ml_client.data.get(\"<diabetes-data>\", version=\"1\")\n",
        "df = pd.read_csv(data_asset.path)\n",
        "\n",
        "x = df.drop(columns=[\"Diabetic\"])\n",
        "y = df[\"Diabetic\"]\n",
        "\n",
        "# convertir a JSON\n",
        "x_real = x[:6]\n",
        "y_real = y[:6]\n"
      ]
    },
    {
      "cell_type": "markdown",
      "metadata": {},
      "source": [
        "## Obtener predicción del deploymnent"
      ]
    },
    {
      "cell_type": "code",
      "execution_count": null,
      "metadata": {},
      "outputs": [],
      "source": [
        "# Guardar como json\n",
        "import json\n",
        "\n",
        "data = {\n",
        "  \"input_data\": {\n",
        "    \"columns\": x_real.columns.tolist(),\n",
        "    \"index\": [x_real.index.tolist()],\n",
        "    \"data\": x_real.values.tolist()\n",
        "  }\n",
        "}\n",
        "\n",
        "\n",
        "print(data)\n",
        "\n",
        "\n",
        "with open('sample-data.json', 'w') as fp:\n",
        "    json.dump(data, fp)"
      ]
    },
    {
      "cell_type": "code",
      "execution_count": null,
      "metadata": {},
      "outputs": [],
      "source": [
        "\n",
        "# Invocar endpoint\n",
        "y_pred_str = ml_client.online_endpoints.invoke(\n",
        "    endpoint_name='<endpoint-name>',\n",
        "    deployment_name=\"blue\",\n",
        "    request_file=\"sample-data.json\",\n",
        "    \n",
        ")\n",
        "\n",
        "# converir a lista\n",
        "import ast\n",
        "y_pred = ast.literal_eval(y_pred_str)\n",
        "\n",
        "print(y_pred)"
      ]
    },
    {
      "cell_type": "markdown",
      "metadata": {},
      "source": [
        "## Monitoreo del Rendimiento del Modelo"
      ]
    },
    {
      "cell_type": "code",
      "execution_count": null,
      "metadata": {},
      "outputs": [],
      "source": [
        "from sklearn.metrics import accuracy_score, precision_score\n",
        "import mlflow\n",
        "\n",
        "# Simular datos reales\n",
        "y_true = y_real.values.tolist()\n",
        "\n",
        "# Calcular métricas\n",
        "accuracy = accuracy_score(y_true, y_pred)\n",
        "precision = precision_score(y_true, y_pred)\n",
        "\n",
        "# Registrar métricas en Azure ML\n",
        "with mlflow.start_run():\n",
        "    mlflow.log_metric(\"accuracy\", accuracy)\n",
        "    mlflow.log_metric(\"precision\", precision)"
      ]
    },
    {
      "cell_type": "markdown",
      "metadata": {},
      "source": [
        "## Detección de Deriva de Datos"
      ]
    },
    {
      "cell_type": "code",
      "execution_count": null,
      "metadata": {},
      "outputs": [],
      "source": [
        "from azure.ai.ml.entities import MonitorDefinition, MonitoringTarget, AlertNotification\n",
        "from azure.ai.ml import MLClient\n",
        "from azure.identity import DefaultAzureCredential\n",
        "\n",
        "# Configurar cliente de Azure ML\n",
        "ml_client = MLClient.from_config(credential=DefaultAzureCredential())\n",
        "\n",
        "# Definir el objetivo de monitoreo\n",
        "monitoring_target = MonitoringTarget(\n",
        "    ml_task=\"classification\",\n",
        "    endpoint_deployment_id=\"azureml:credit-default:main\"\n",
        ")\n",
        "\n",
        "# Crear alertas\n",
        "alert_notification = AlertNotification(emails=[\"admin@example.com\"])\n",
        "\n",
        "# Definir el monitor\n",
        "monitor_definition = MonitorDefinition(\n",
        "    compute=\"cpu-cluster\",\n",
        "    monitoring_target=monitoring_target,\n",
        "    alert_notification=alert_notification\n",
        ")\n",
        "\n",
        "# Crear el monitor\n",
        "model_monitor = ml_client.model_monitors.create_or_update(monitor_definition)"
      ]
    },
    {
      "cell_type": "markdown",
      "metadata": {},
      "source": [
        "## Configuración de alertas"
      ]
    },
    {
      "cell_type": "code",
      "execution_count": null,
      "metadata": {},
      "outputs": [],
      "source": [
        "from azure.ai.ml.entities import AlertNotification\n",
        "\n",
        "# Configurar alertas por correo electrónico\n",
        "alert_notification = AlertNotification(emails=[\"admin@example.com\"])\n",
        "monitor_definition.alert_notification = alert_notification"
      ]
    },
    {
      "cell_type": "markdown",
      "metadata": {},
      "source": [
        "## Pipeline de retraining"
      ]
    },
    {
      "cell_type": "code",
      "execution_count": null,
      "metadata": {},
      "outputs": [],
      "source": [
        "\n",
        "from azure.ai.ml import command, Input\n",
        "from azure.ai.ml import MLClient\n",
        "from azure.identity import DefaultAzureCredential\n",
        "\n",
        "# Configurar cliente de Azure ML\n",
        "ml_client = MLClient.from_config(credential=DefaultAzureCredential())\n",
        "\n",
        "# Definir el job de reentrenamiento\n",
        "retrain_job = command(\n",
        "    code=\"./src\",\n",
        "    command=\"python train.py --training_data ${{inputs.training_data}}\",\n",
        "    inputs={\n",
        "        \"training_data\": Input(type=\"uri_folder\", path=\"azureml://datastores/my_datastore/paths/new_training_data.csv\"),\n",
        "    },\n",
        "    environment=\"AzureML-sklearn-0.24-ubuntu18.04-py37-cpu@latest\",\n",
        "    compute=\"my-cluster\",\n",
        ")\n",
        "\n",
        "# Enviar el job de reentrenamiento\n",
        "returned_job = ml_client.jobs.create_or_update(retrain_job)\n",
        "print(f\"Job de reentrenamiento enviado: {returned_job.name}\")"
      ]
    }
  ],
  "metadata": {
    "kernel_info": {
      "name": "python38-azureml"
    },
    "kernelspec": {
      "display_name": "Python 3",
      "language": "python",
      "name": "python3"
    },
    "language_info": {
      "codemirror_mode": {
        "name": "ipython",
        "version": 3
      },
      "file_extension": ".py",
      "mimetype": "text/x-python",
      "name": "python",
      "nbconvert_exporter": "python",
      "pygments_lexer": "ipython3",
      "version": "3.12.4"
    },
    "microsoft": {
      "host": {
        "AzureML": {
          "notebookHasBeenCompleted": true
        }
      }
    },
    "nteract": {
      "version": "nteract-front-end@1.0.0"
    }
  },
  "nbformat": 4,
  "nbformat_minor": 2
}
