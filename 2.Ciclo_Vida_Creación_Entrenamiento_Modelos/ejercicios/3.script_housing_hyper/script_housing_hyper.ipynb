{
  "cells": [
    {
      "cell_type": "markdown",
      "metadata": {},
      "source": [
        "# Ejecutar script en Azure ML"
      ]
    },
    {
      "cell_type": "markdown",
      "metadata": {},
      "source": [
        "## Conectar a workspace"
      ]
    },
    {
      "cell_type": "code",
      "execution_count": null,
      "metadata": {},
      "outputs": [],
      "source": [
        "! pip show azure-ai-ml"
      ]
    },
    {
      "cell_type": "code",
      "execution_count": 1,
      "metadata": {
        "gather": {
          "logged": 1663753569264
        }
      },
      "outputs": [
        {
          "name": "stderr",
          "output_type": "stream",
          "text": [
            "Found the config file in: D:\\Shared\\MyTrainingRepos\\azure-machine-learning\\2.Ciclo_Vida_Creación_Entrenamiento_Modelos\\ejercicios\\config.json\n"
          ]
        },
        {
          "name": "stdout",
          "output_type": "stream",
          "text": [
            "Conectado al Workspace: naturgyml4\n"
          ]
        }
      ],
      "source": [
        "# conectar al workspace\n",
        "from azure.ai.ml import MLClient\n",
        "from azure.identity import DefaultAzureCredential\n",
        "\n",
        "ml_client = MLClient.from_config(credential=DefaultAzureCredential())\n",
        "\n",
        "print(f\"Conectado al Workspace: {ml_client.workspace_name}\")"
      ]
    },
    {
      "attachments": {},
      "cell_type": "markdown",
      "metadata": {},
      "source": [
        "## Usar el SDK de Python para entrenar un modelo"
      ]
    },
    {
      "cell_type": "code",
      "execution_count": null,
      "metadata": {},
      "outputs": [],
      "source": [
        "%%writefile ./src/house-training.py\n",
        "\n",
        "# import libraries\n",
        "import pandas as pd\n",
        "import numpy as np\n",
        "from sklearn.model_selection import train_test_split\n",
        "from sklearn.linear_model import LinearRegression, Lasso\n",
        "from sklearn.metrics import roc_auc_score\n",
        "from sklearn.metrics import roc_curve\n",
        "\n",
        "import pandas as pd\n",
        "import numpy as np\n",
        "from sklearn.model_selection import train_test_split\n",
        "from sklearn.linear_model import Lasso\n",
        "from sklearn.metrics import mean_squared_error\n",
        "from sklearn.preprocessing import StandardScaler, OneHotEncoder\n",
        "from sklearn.compose import ColumnTransformer\n",
        "from sklearn.pipeline import Pipeline\n",
        "\n",
        "import argparse\n",
        "from pathlib import Path\n",
        "\n",
        "import mlflow\n",
        "\n",
        "\n",
        "def main(args):\n",
        "    df = read_data(args.input_data)\n",
        "    df2 = preprocess_data(df)\n",
        "    model, X_test, y_test = train_model('price', df2, 0.3)\n",
        "    evaluate_model(model, X_test, y_test)\n",
        "\n",
        "\n",
        "def read_data(uri):\n",
        "    # 1. Cargar los datos\n",
        "    data = pd.read_csv(uri)\n",
        "    # 2. Inspeccionar las columnas\n",
        "    print(data.columns)\n",
        "\n",
        "    return data\n",
        "\n",
        "def preprocess_data(data):\n",
        "    # 3. Descartar columnas no significativas\n",
        "    # Las columnas 'date', 'street', 'city', 'statezip', 'country' no son relevantes para la predicción\n",
        "    columns_to_drop = ['date', 'street', 'city', 'statezip', 'country']\n",
        "    data = data.drop(columns=columns_to_drop)\n",
        "\n",
        "    return data\n",
        "\n",
        "\n",
        "def train_model(target, data, test_size=0.2):\n",
        "    # 4. Separar características (X) y objetivo (y)\n",
        "    X = data.drop(columns=[target])  # Todas las columnas excepto target\n",
        "    y = data[target]  # Variable objetivo\n",
        "\n",
        "    # 5. Dividir los datos en entrenamiento y prueba\n",
        "    X_train, X_test, y_train, y_test = train_test_split(\n",
        "        X, y, test_size=test_size, random_state=42)\n",
        "\n",
        "    # 6. Preprocesamiento de datos\n",
        "    # Identificar columnas numéricas y categóricas\n",
        "    numeric_features = X.select_dtypes(include=['int64', 'float64']).columns\n",
        "    categorical_features = X.select_dtypes(include=['object']).columns\n",
        "\n",
        "    # Crear un preprocesador con StandardScaler para numéricas y OneHotEncoder para categóricas\n",
        "    preprocessor = ColumnTransformer(\n",
        "        transformers=[\n",
        "            ('num', StandardScaler(), numeric_features),\n",
        "            ('cat', OneHotEncoder(handle_unknown='ignore'), categorical_features)\n",
        "        ]\n",
        "    )\n",
        "\n",
        "    # 7. Crear un pipeline con el preprocesador y el modelo Lasso\n",
        "    lasso_model = Pipeline(steps=[\n",
        "        ('preprocessor', preprocessor),\n",
        "        # alpha es el parámetro de regularización\n",
        "        ('regressor', Lasso(alpha=args.alpha, random_state=42))\n",
        "    ])\n",
        "\n",
        "    # 8. Entrenar el modelo\n",
        "    lasso_model.fit(X_train, y_train)\n",
        "\n",
        "    return lasso_model, X_test, y_test\n",
        "\n",
        "\n",
        "def evaluate_model(lasso_model, X_test, y_test):\n",
        "    # 9. Hacer predicciones\n",
        "    y_pred = lasso_model.predict(X_test)\n",
        "\n",
        "    # 10. Evaluar el modelo usando MSE\n",
        "    mse = mean_squared_error(y_test, y_pred)\n",
        "    print(f\"Error Cuadrático Medio (MSE): {mse:.2f}\")\n",
        "\n",
        "    # 11. Calcular la varianza de los datos objetivo\n",
        "    variance = np.var(y_test)\n",
        "    print(f\"Varianza de los datos objetivo: {variance:.2f}\")\n",
        "\n",
        "    # 12. Comparación entre MSE y varianza\n",
        "    mse_to_variance_ratio = mse / variance\n",
        "    print(f\"Relación MSE/Varianza: {mse_to_variance_ratio:.2f}\")\n",
        "\n",
        "    with mlflow.start_run():\n",
        "        mlflow.log_metric(\"mse\", mse)\n",
        "        mlflow.log_param(\"alpha\", args.alpha)\n",
        "        mlflow.sklearn.log_model(lasso_model, \"model\")\n",
        "\n",
        "\n",
        "def parse_args():\n",
        "    parser = argparse.ArgumentParser()\n",
        "    parser.add_argument(\"--input_data\", dest='input_data', type=str)\n",
        "    parser.add_argument(\"--alpha\", dest='alpha', type=float, default=0.01)\n",
        "    args = parser.parse_args()\n",
        "\n",
        "    return args\n",
        "\n",
        "\n",
        "# run script\n",
        "if __name__ == \"__main__\":\n",
        "    args = parse_args()\n",
        "    main(args)"
      ]
    },
    {
      "attachments": {},
      "cell_type": "markdown",
      "metadata": {},
      "source": [
        "## Generar el job"
      ]
    },
    {
      "cell_type": "code",
      "execution_count": 9,
      "metadata": {},
      "outputs": [],
      "source": [
        "from azure.ai.ml import command, MLClient\n",
        "from azure.ai.ml.entities import Environment\n",
        "from azure.ai.ml import Input\n",
        "from azure.ai.ml.constants import AssetTypes, InputOutputModes\n",
        "\n",
        "# configure input and output\n",
        "my_job_inputs = {\n",
        "    \"local_data\": Input(type=AssetTypes.URI_FILE, path=\"azureml:housing_prices:2\"),\n",
        "    \"alpha\": 0.1\n",
        "}\n",
        "\n",
        "\n",
        "# Definir un comando para el experimento\n",
        "job = command(\n",
        "    code=\"./src\",\n",
        "    command=\"python house-training.py --input_data ${{inputs.local_data}} --alpha ${{inputs.alpha}}\",\n",
        "    inputs=my_job_inputs,\n",
        "    environment=\"AzureML-sklearn-0.24-ubuntu18.04-py37-cpu@latest\",\n",
        "    compute=\"ricardoenm2\",\n",
        "    display_name=\"housing-training-hyper-ric\",\n",
        "    experiment_name=\"housing-training-hyper-ric\"\n",
        ")"
      ]
    },
    {
      "cell_type": "code",
      "execution_count": null,
      "metadata": {},
      "outputs": [],
      "source": [
        "\n",
        "# Enviar el experimento\n",
        "returned_job = ml_client.jobs.create_or_update(job)\n",
        "print(f\"Experimento enviado: {returned_job}\")"
      ]
    },
    {
      "cell_type": "markdown",
      "metadata": {},
      "source": [
        "## Definir el espacio de búsqueda"
      ]
    },
    {
      "cell_type": "code",
      "execution_count": 13,
      "metadata": {},
      "outputs": [],
      "source": [
        "from azure.ai.ml.sweep import LogUniform, Choice, RandomSamplingAlgorithm\n",
        "\n",
        "command_job_for_sweep = job(\n",
        "    alpha=LogUniform(min_value=-6.90775527898, max_value=4.61) # exp(Uniform(min_value, max_value)) \n",
        "    # alpha=Choice(values=[0.001, 0.1, 1, 10, 100])\n",
        ")"
      ]
    },
    {
      "cell_type": "markdown",
      "metadata": {},
      "source": [
        "## Configurar y enviar el trabajo de barrido"
      ]
    },
    {
      "cell_type": "code",
      "execution_count": 15,
      "metadata": {},
      "outputs": [],
      "source": [
        "# Aplicar el parámetro de barrido para obtener el Sweep_Job\n",
        "from azure.ai.ml.sweep import BanditPolicy\n",
        "\n",
        "sweep_job = command_job_for_sweep.sweep(\n",
        "    compute=\"ricardoenm2\",\n",
        "    # sampling_algorithm=\"grid\",\n",
        "    sampling_algorithm='random',\n",
        "    primary_metric=\"mse\",\n",
        "    goal=\"Minimize\",\n",
        ")\n",
        "\n",
        "sweep_job.experiment_name=\"sweep_housing_ric\"\n",
        "\n",
        "sweep_job.early_termination=BanditPolicy(\n",
        "        slack_amount=0.2,\n",
        "        delay_evaluation=2,\n",
        "        evaluation_interval=1\n",
        ")\n",
        "    \n",
        "sweep_job.set_limits(max_total_trials=1, max_concurrent_trials=2, timeout=7200)"
      ]
    },
    {
      "cell_type": "markdown",
      "metadata": {},
      "source": [
        "Enviar el job de barrido."
      ]
    },
    {
      "cell_type": "code",
      "execution_count": 16,
      "metadata": {},
      "outputs": [
        {
          "name": "stdout",
          "output_type": "stream",
          "text": [
            "Monitor your job at https://ml.azure.com/runs/modest_nerve_s37kvyysnr?wsid=/subscriptions/7decb7a4-f615-4cc3-9d7d-5de10998373f/resourcegroups/naturgy/workspaces/naturgyml4&tid=8b85184d-f6f0-4ace-80dd-c3bda5a6c156\n"
          ]
        }
      ],
      "source": [
        "returned_sweep_job = ml_client.create_or_update(sweep_job)\n",
        "aml_url = returned_sweep_job.studio_url\n",
        "print(\"Monitor your job at\", aml_url)"
      ]
    }
  ],
  "metadata": {
    "kernel_info": {
      "name": "python38-azureml"
    },
    "kernelspec": {
      "display_name": "Python 3",
      "language": "python",
      "name": "python3"
    },
    "language_info": {
      "codemirror_mode": {
        "name": "ipython",
        "version": 3
      },
      "file_extension": ".py",
      "mimetype": "text/x-python",
      "name": "python",
      "nbconvert_exporter": "python",
      "pygments_lexer": "ipython3",
      "version": "3.12.4"
    },
    "microsoft": {
      "host": {
        "AzureML": {
          "notebookHasBeenCompleted": true
        }
      }
    },
    "nteract": {
      "version": "nteract-front-end@1.0.0"
    }
  },
  "nbformat": 4,
  "nbformat_minor": 2
}
