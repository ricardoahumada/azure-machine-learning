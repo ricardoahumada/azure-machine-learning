{
 "cells": [
  {
   "cell_type": "markdown",
   "metadata": {},
   "source": [
    "# Definir componentes"
   ]
  },
  {
   "attachments": {
    "image-3.png": {
     "image/png": "[encoded data removed]"
    }
   },
   "cell_type": "markdown",
   "metadata": {},
   "source": [
    "![image-3.png](attachment:image-3.png)"
   ]
  },
  {
   "cell_type": "code",
   "execution_count": null,
   "metadata": {},
   "outputs": [],
   "source": [
    "pip show azure-ai-ml"
   ]
  },
  {
   "cell_type": "markdown",
   "metadata": {},
   "source": [
    "## Conectar a workspace"
   ]
  },
  {
   "cell_type": "code",
   "execution_count": null,
   "metadata": {},
   "outputs": [],
   "source": [
    "# conectar\n",
    "from azure.ai.ml import MLClient\n",
    "from azure.identity import DefaultAzureCredential\n",
    "\n",
    "ml_client = MLClient.from_config(credential=DefaultAzureCredential())\n",
    "\n",
    "print(f\"Conectado al Workspace: {ml_client.workspace_name}\")"
   ]
  },
  {
   "cell_type": "markdown",
   "metadata": {},
   "source": [
    "## Crear los directorios"
   ]
  },
  {
   "cell_type": "code",
   "execution_count": null,
   "metadata": {},
   "outputs": [],
   "source": [
    "import os\n",
    "\n",
    "# create a folder for the script files\n",
    "script_folder = './src'\n",
    "os.makedirs(script_folder, exist_ok=True)\n",
    "\n",
    "os.makedirs(f'{script_folder}/ing-prep-data', exist_ok=True)\n",
    "os.makedirs(f'{script_folder}/train-model', exist_ok=True)\n",
    "os.makedirs(f'{script_folder}/eval-model', exist_ok=True)\n",
    "\n",
    "print(script_folder, 'folders created')"
   ]
  },
  {
   "cell_type": "markdown",
   "metadata": {},
   "source": [
    "## Definir componentes\n",
    "\n",
    "### Ingesta"
   ]
  },
  {
   "cell_type": "code",
   "execution_count": null,
   "metadata": {},
   "outputs": [],
   "source": [
    "%%writefile ./src/ing-prep-data/ing-prep-data.py\n",
    "\n",
    "import pandas as pd\n",
    "import argparse\n",
    "from pathlib import Path\n",
    "\n",
    "def main(args):\n",
    "    df = read_data(args.input_data)\n",
    "    df2 = preprocess_data(df)\n",
    "    output_df = df2.to_csv((Path(args.output_data) / \"housing_prep.csv\"), index = False)\n",
    "\n",
    "\n",
    "def read_data(uri):\n",
    "    # 1. Cargar los datos\n",
    "    data = pd.read_csv(uri)\n",
    "    # 2. Inspeccionar las columnas\n",
    "    print(data.columns)\n",
    "\n",
    "    return data\n",
    "\n",
    "\n",
    "def preprocess_data(data):\n",
    "    # 3. Descartar columnas no significativas\n",
    "    # Las columnas 'date', 'street', 'city', 'statezip', 'country' no son relevantes para la predicción\n",
    "    columns_to_drop = ['date', 'street', 'city', 'statezip', 'country']\n",
    "    data = data.drop(columns=columns_to_drop)\n",
    "\n",
    "    return data\n",
    "\n",
    "\n",
    "def parse_args():\n",
    "    parser = argparse.ArgumentParser()\n",
    "    parser.add_argument(\"--input_data\", dest='input_data', type=str)\n",
    "    parser.add_argument(\"--output_data\", dest='output_data',type=str)\n",
    "    args = parser.parse_args()\n",
    "\n",
    "    return args\n",
    "\n",
    "\n",
    "# run script\n",
    "if __name__ == \"__main__\":\n",
    "    args = parse_args()\n",
    "    main(args)"
   ]
  },
  {
   "cell_type": "code",
   "execution_count": null,
   "metadata": {},
   "outputs": [],
   "source": [
    "%%writefile ing-prep-data.yml\n",
    "$schema: https://azuremlschemas.azureedge.net/latest/commandComponent.schema.json\n",
    "name: ing_prep_data_housing_ric\n",
    "display_name: Ingesta y Preprocesamiento de Datos Housing\n",
    "version: 2\n",
    "type: command\n",
    "inputs:\n",
    "  input_data: \n",
    "    type: uri_file\n",
    "outputs:\n",
    "  output_data:\n",
    "    type: uri_folder\n",
    "code: ./src/ing-prep-data\n",
    "environment: azureml:AzureML-sklearn-0.24-ubuntu18.04-py37-cpu@latest\n",
    "command: >-\n",
    "  python ing-prep-data.py\n",
    "  --input_data ${{inputs.input_data}}\n",
    "  --output_data ${{outputs.output_data}}"
   ]
  },
  {
   "cell_type": "code",
   "execution_count": null,
   "metadata": {},
   "outputs": [],
   "source": [
    "# registrar componente\n",
    "from azure.ai.ml import load_component\n",
    "\n",
    "ing_prep_data = load_component(source=\"ing-prep-data.yml\")\n",
    "\n",
    "reg_ing_prep_data = ml_client.components.create_or_update(ing_prep_data)\n",
    "reg_ing_prep_data"
   ]
  },
  {
   "cell_type": "markdown",
   "metadata": {},
   "source": [
    "### training"
   ]
  },
  {
   "cell_type": "code",
   "execution_count": null,
   "metadata": {},
   "outputs": [],
   "source": [
    "%%writefile ./src/train-model/train-model.py\n",
    "\n",
    "import pandas as pd\n",
    "from sklearn.model_selection import train_test_split\n",
    "from sklearn.linear_model import Lasso\n",
    "\n",
    "from sklearn.model_selection import train_test_split\n",
    "from sklearn.linear_model import Lasso\n",
    "from sklearn.preprocessing import StandardScaler, OneHotEncoder\n",
    "from sklearn.compose import ColumnTransformer\n",
    "from sklearn.pipeline import Pipeline\n",
    "\n",
    "import argparse\n",
    "from pathlib import Path\n",
    "\n",
    "import mlflow\n",
    "import glob\n",
    "\n",
    "\n",
    "def main(args):\n",
    "    mlflow.autolog()\n",
    "\n",
    "    df = get_data(args.input_data)\n",
    "    model, X_test, y_test = train_model('price', df, args.alpha, 0.3)\n",
    "\n",
    "    mlflow.sklearn.save_model(model, args.model_output)\n",
    "\n",
    "    X_test.to_csv((Path(args.output_data) / \"housing_X_test.csv\"), index = False)\n",
    "    y_test.to_csv((Path(args.output_data) / \"housing_y_test.csv\"), index = False)\n",
    "\n",
    "    \n",
    "\n",
    "def get_data(data_path):\n",
    "\n",
    "    all_files = glob.glob(data_path + \"/*.csv\")\n",
    "    df = pd.concat((pd.read_csv(f) for f in all_files), sort=False)\n",
    "    \n",
    "    return df\n",
    "\n",
    "\n",
    "def train_model(target, data, alpha, test_size=0.2):\n",
    "    # 4. Separar características (X) y objetivo (y)\n",
    "    X = data.drop(columns=[target])  # Todas las columnas excepto target\n",
    "    y = data[target]  # Variable objetivo\n",
    "\n",
    "    # 5. Dividir los datos en entrenamiento y prueba\n",
    "    X_train, X_test, y_train, y_test = train_test_split(\n",
    "        X, y, test_size=test_size, random_state=42)\n",
    "\n",
    "    # 6. Preprocesamiento de datos\n",
    "    # Identificar columnas numéricas y categóricas\n",
    "    numeric_features = X.select_dtypes(include=['int64', 'float64']).columns\n",
    "    categorical_features = X.select_dtypes(include=['object']).columns\n",
    "\n",
    "    # Crear un preprocesador con StandardScaler para numéricas y OneHotEncoder para categóricas\n",
    "    preprocessor = ColumnTransformer(\n",
    "        transformers=[\n",
    "            ('num', StandardScaler(), numeric_features),\n",
    "            ('cat', OneHotEncoder(handle_unknown='ignore'), categorical_features)\n",
    "        ]\n",
    "    )\n",
    "\n",
    "    # 7. Crear un pipeline con el preprocesador y el modelo Lasso\n",
    "    mlflow.log_param(\"alpha:\", alpha)\n",
    "\n",
    "    lasso_model = Pipeline(steps=[\n",
    "        ('preprocessor', preprocessor),\n",
    "        # alpha es el parámetro de regularización\n",
    "        ('regressor', Lasso(alpha=alpha, random_state=42))\n",
    "    ])\n",
    "\n",
    "    # 8. Entrenar el modelo\n",
    "    lasso_model.fit(X_train, y_train)\n",
    "\n",
    "    return lasso_model, X_test, y_test\n",
    "\n",
    "\n",
    "def parse_args():\n",
    "    parser = argparse.ArgumentParser()\n",
    "    parser.add_argument(\"--input_data\", dest='input_data', type=str)\n",
    "    parser.add_argument(\"--alpha\", dest='alpha', type=float, default=0.01)\n",
    "    \n",
    "    parser.add_argument(\"--model_output\", dest='model_output',type=str)\n",
    "    parser.add_argument(\"--output_data\", dest='output_data',type=str)\n",
    "    args = parser.parse_args()\n",
    "\n",
    "    return args\n",
    "\n",
    "\n",
    "# run script\n",
    "if __name__ == \"__main__\":\n",
    "    args = parse_args()\n",
    "    print('args:', args)\n",
    "    main(args)"
   ]
  },
  {
   "cell_type": "code",
   "execution_count": null,
   "metadata": {},
   "outputs": [],
   "source": [
    "%%writefile train-model.yml\n",
    "$schema: https://azuremlschemas.azureedge.net/latest/commandComponent.schema.json\n",
    "name: train_model_housing_ric\n",
    "display_name: Entrenamiento de Modelo Lasso\n",
    "version: 2\n",
    "type: command\n",
    "inputs:\n",
    "  input_data: \n",
    "    type: uri_folder\n",
    "  alpha:\n",
    "    type: number\n",
    "    default: 0.01\n",
    "outputs:\n",
    "  model_output:\n",
    "    type: mlflow_model\n",
    "  output_data:\n",
    "    type: uri_folder\n",
    "code: ./src/train-model/\n",
    "environment: azureml:AzureML-sklearn-0.24-ubuntu18.04-py37-cpu@latest\n",
    "command: >-\n",
    "  python train-model.py\n",
    "  --input_data ${{inputs.input_data}}\n",
    "  --alpha ${{inputs.alpha}}\n",
    "  --model_output ${{outputs.model_output}}\n",
    "  --output_data ${{outputs.output_data}}"
   ]
  },
  {
   "cell_type": "code",
   "execution_count": null,
   "metadata": {},
   "outputs": [],
   "source": [
    "# registrar componente\n",
    "from azure.ai.ml import load_component\n",
    "\n",
    "train_model = load_component(source=\"train-model.yml\")\n",
    "\n",
    "reg_train_model = ml_client.components.create_or_update(train_model)\n",
    "reg_train_model"
   ]
  },
  {
   "cell_type": "markdown",
   "metadata": {},
   "source": [
    "### evaluación"
   ]
  },
  {
   "cell_type": "code",
   "execution_count": null,
   "metadata": {},
   "outputs": [],
   "source": [
    "%%writefile ./src/eval-model/eval-model.py\n",
    "\n",
    "import pandas as pd\n",
    "import numpy as np\n",
    "from sklearn.model_selection import train_test_split\n",
    "from sklearn.linear_model import Lasso\n",
    "\n",
    "from sklearn.model_selection import train_test_split\n",
    "from sklearn.metrics import mean_squared_error\n",
    "\n",
    "import argparse\n",
    "from pathlib import Path\n",
    "\n",
    "import mlflow\n",
    "\n",
    "\n",
    "def main(args):\n",
    "    mlflow.autolog()\n",
    "\n",
    "    model = mlflow.sklearn.load_model(args.model_input)\n",
    "    X_test, y_test = get_data(args.input_data)\n",
    "    evaluate_model(model, X_test, y_test)\n",
    "\n",
    "\n",
    "def get_data(data_path):\n",
    "    X_test = pd.read_csv((Path(data_path) / \"housing_X_test.csv\"))\n",
    "    y_test = pd.read_csv((Path(data_path) / \"housing_y_test.csv\"))\n",
    "\n",
    "    return X_test, y_test\n",
    "\n",
    "\n",
    "def evaluate_model(lasso_model, X_test, y_test):\n",
    "    # 9. Hacer predicciones\n",
    "    y_pred = lasso_model.predict(X_test)\n",
    "\n",
    "    # 10. Evaluar el modelo usando MSE\n",
    "    mse = mean_squared_error(y_test, y_pred)\n",
    "    print(f\"Error Cuadrático Medio (MSE): {mse:.2f}\")\n",
    "\n",
    "    # 11. Calcular la varianza de los datos objetivo\n",
    "    variance = np.var(y_test.values)\n",
    "    print(f\"Varianza de los datos objetivo: {variance:.2f}\")\n",
    "\n",
    "    # 12. Comparación entre MSE y varianza\n",
    "    mse_to_variance_ratio = mse / variance\n",
    "    print(f\"Relación MSE/Varianza: {mse_to_variance_ratio:.2f}\")\n",
    "\n",
    "    with mlflow.start_run():\n",
    "        mlflow.log_metric(\"mse\", mse)\n",
    "        mlflow.log_metric(\"mse2var\", mse_to_variance_ratio)\n",
    "        mlflow.sklearn.log_model(lasso_model, \"model\")\n",
    "\n",
    "\n",
    "def parse_args():\n",
    "    parser = argparse.ArgumentParser()\n",
    "    parser.add_argument(\"--model_input\", dest='model_input', type=str)\n",
    "    parser.add_argument(\"--input_data\", dest='input_data', type=str)\n",
    "    args = parser.parse_args()\n",
    "\n",
    "    return args\n",
    "\n",
    "\n",
    "# run script\n",
    "if __name__ == \"__main__\":\n",
    "    args = parse_args()\n",
    "    print('args:', args)\n",
    "    main(args)"
   ]
  },
  {
   "cell_type": "code",
   "execution_count": null,
   "metadata": {},
   "outputs": [],
   "source": [
    "%%writefile eval-model.yml\n",
    "$schema: https://azuremlschemas.azureedge.net/latest/commandComponent.schema.json\n",
    "name: eval_model_housing_ric\n",
    "display_name: Evaluación de Modelo Lasso\n",
    "version: 10\n",
    "type: command\n",
    "inputs:\n",
    "  input_data: \n",
    "    type: uri_folder\n",
    "  model_input:\n",
    "    type: mlflow_model\n",
    "code: ./src/eval-model/\n",
    "environment: azureml:AzureML-sklearn-0.24-ubuntu18.04-py37-cpu@latest\n",
    "command: >-\n",
    "  python eval-model.py\n",
    "  --input_data ${{inputs.input_data}}\n",
    "  --model_input ${{inputs.model_input}}"
   ]
  },
  {
   "cell_type": "code",
   "execution_count": null,
   "metadata": {},
   "outputs": [],
   "source": [
    "# registrar componente\n",
    "from azure.ai.ml import load_component\n",
    "\n",
    "eval_model = load_component(source=\"eval-model.yml\")\n",
    "\n",
    "reg_eval_model = ml_client.components.create_or_update(eval_model)\n",
    "reg_eval_model"
   ]
  }
 ],
 "metadata": {
  "kernel_info": {
   "name": "python38-azureml"
  },
  "kernelspec": {
   "display_name": "Python 3.10 - AzureML",
   "language": "python",
   "name": "python38-azureml"
  },
  "language_info": {
   "codemirror_mode": {
    "name": "ipython",
    "version": 3
   },
   "file_extension": ".py",
   "mimetype": "text/x-python",
   "name": "python",
   "nbconvert_exporter": "python",
   "pygments_lexer": "ipython3",
   "version": "3.10.11"
  },
  "microsoft": {
   "host": {
    "AzureML": {
     "notebookHasBeenCompleted": true
    }
   }
  },
  "nteract": {
   "version": "nteract-front-end@1.0.0"
  }
 },
 "nbformat": 4,
 "nbformat_minor": 2
}
