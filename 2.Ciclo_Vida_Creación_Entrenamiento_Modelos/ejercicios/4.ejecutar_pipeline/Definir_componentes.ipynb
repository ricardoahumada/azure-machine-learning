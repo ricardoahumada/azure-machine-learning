{
 "cells": [
  {
   "cell_type": "markdown",
   "metadata": {},
   "source": [
    "# Definir componentes"
   ]
  },
  {
   "cell_type": "code",
   "execution_count": null,
   "metadata": {},
   "outputs": [],
   "source": [
    "pip show azure-ai-ml"
   ]
  },
  {
   "cell_type": "markdown",
   "metadata": {},
   "source": [
    "## Conectar a workspace"
   ]
  },
  {
   "cell_type": "code",
   "execution_count": null,
   "metadata": {},
   "outputs": [],
   "source": [
    "# conectar\n",
    "from azure.ai.ml import MLClient\n",
    "from azure.identity import DefaultAzureCredential\n",
    "\n",
    "ml_client = MLClient.from_config(credential=DefaultAzureCredential())\n",
    "\n",
    "print(f\"Conectado al Workspace: {ml_client.workspace_name}\")\n"
   ]
  },
  {
   "cell_type": "markdown",
   "metadata": {},
   "source": [
    "## Crear los scripts"
   ]
  },
  {
   "cell_type": "code",
   "execution_count": 26,
   "metadata": {},
   "outputs": [
    {
     "name": "stdout",
     "output_type": "stream",
     "text": [
      "/home/azureuser/cloudfiles/code/Users/formacion/azure-machine-learning/2.Ciclo_Vida_Creación_Entrenamiento_Modelos/ejercicios/4.ejecutar_pipeline folders created\n"
     ]
    }
   ],
   "source": [
    "import os\n",
    "\n",
    "# create a folder for the script files\n",
    "script_folder = '/home/azureuser/cloudfiles/code/Users/formacion/azure-machine-learning/2.Ciclo_Vida_Creación_Entrenamiento_Modelos/ejercicios/4.ejecutar_pipeline'\n",
    "os.makedirs(script_folder, exist_ok=True)\n",
    "\n",
    "os.makedirs(f'{script_folder}/ing-prep-data', exist_ok=True)\n",
    "\n",
    "print(script_folder, 'folders created')"
   ]
  },
  {
   "cell_type": "code",
   "execution_count": 27,
   "metadata": {},
   "outputs": [
    {
     "name": "stdout",
     "output_type": "stream",
     "text": [
      "Overwriting /home/azureuser/cloudfiles/code/Users/formacion/azure-machine-learning/2.Ciclo_Vida_Creación_Entrenamiento_Modelos/ejercicios/4.ejecutar_pipeline/ing-prep-data/ing-prep-data.py\n"
     ]
    }
   ],
   "source": [
    "%%writefile $script_folder/ing-prep-data/ing-prep-data.py\n",
    "\n",
    "# import libraries\n",
    "import pandas as pd\n",
    "import numpy as np\n",
    "from sklearn.model_selection import train_test_split\n",
    "from sklearn.linear_model import LinearRegression, Lasso\n",
    "from sklearn.metrics import roc_auc_score\n",
    "from sklearn.metrics import roc_curve\n",
    "\n",
    "import pandas as pd\n",
    "import numpy as np\n",
    "from sklearn.model_selection import train_test_split\n",
    "from sklearn.linear_model import Lasso\n",
    "from sklearn.metrics import mean_squared_error\n",
    "from sklearn.preprocessing import StandardScaler, OneHotEncoder\n",
    "from sklearn.compose import ColumnTransformer\n",
    "from sklearn.pipeline import Pipeline\n",
    "\n",
    "import argparse\n",
    "from pathlib import Path\n",
    "\n",
    "import mlflow\n",
    "\n",
    "\n",
    "def main(args):\n",
    "    df = read_data(args.input_data)\n",
    "    df2 = preprocess_data(df)\n",
    "    \n",
    "    output_df = df2.to_csv((Path(args.output_data) / \"housing_prep.csv\"), index = False)\n",
    "\n",
    "\n",
    "\n",
    "def read_data(uri):\n",
    "    # 1. Cargar los datos\n",
    "    data = pd.read_csv(uri)\n",
    "    # 2. Inspeccionar las columnas\n",
    "    print(data.columns)\n",
    "\n",
    "    return data\n",
    "\n",
    "def preprocess_data(data):\n",
    "    # 3. Descartar columnas no significativas\n",
    "    # Las columnas 'date', 'street', 'city', 'statezip', 'country' no son relevantes para la predicción\n",
    "    columns_to_drop = ['date', 'street', 'city', 'statezip', 'country']\n",
    "    data = data.drop(columns=columns_to_drop)\n",
    "\n",
    "    return data\n",
    "\n",
    "\n",
    "def parse_args():\n",
    "    parser = argparse.ArgumentParser()\n",
    "    parser.add_argument(\"--input_data\", dest='input_data', type=str)\n",
    "    args = parser.parse_args()\n",
    "\n",
    "    return args\n",
    "\n",
    "\n",
    "# run script\n",
    "if __name__ == \"__main__\":\n",
    "    args = parse_args()\n",
    "    main(args)"
   ]
  },
  {
   "cell_type": "code",
   "execution_count": 28,
   "metadata": {},
   "outputs": [
    {
     "name": "stdout",
     "output_type": "stream",
     "text": [
      "Overwriting /home/azureuser/cloudfiles/code/Users/formacion/azure-machine-learning/2.Ciclo_Vida_Creación_Entrenamiento_Modelos/ejercicios/4.ejecutar_pipeline/ing-prep-data_ric.yml\n"
     ]
    }
   ],
   "source": [
    "%%writefile /home/azureuser/cloudfiles/code/Users/formacion/azure-machine-learning/2.Ciclo_Vida_Creación_Entrenamiento_Modelos/ejercicios/4.ejecutar_pipeline/ing-prep-data_ric.yml\n",
    "$schema: https://azuremlschemas.azureedge.net/latest/commandComponent.schema.json\n",
    "name: ing_prep_data_ric\n",
    "display_name: Ingerir y preprocesar datos housing Ric\n",
    "version: 1\n",
    "type: command\n",
    "inputs:\n",
    "  input_data: \n",
    "    type: uri_file\n",
    "outputs:\n",
    "  output_data:\n",
    "    type: uri_folder\n",
    "code: /home/azureuser/cloudfiles/code/Users/formacion/azure-machine-learning/2.Ciclo_Vida_Creación_Entrenamiento_Modelos/ejercicios/4.ejecutar_pipeline/ing-prep-data\n",
    "environment: azureml:AzureML-sklearn-0.24-ubuntu18.04-py37-cpu@latest\n",
    "command: >-\n",
    "  python ing-prep-data.py \n",
    "  --input_data ${{inputs.input_data}}\n",
    "  --output_data ${{outputs.output_data}}"
   ]
  },
  {
   "cell_type": "code",
   "execution_count": 29,
   "metadata": {},
   "outputs": [
    {
     "data": {
      "text/plain": [
       "CommandComponent({'latest_version': None, 'intellectual_property': None, 'auto_increment_version': False, 'source': 'YAML.COMPONENT', 'is_anonymous': False, 'auto_delete_setting': None, 'name': 'ing_prep_data_ric', 'description': None, 'tags': {}, 'properties': {}, 'print_as_yaml': False, 'id': None, 'Resource__source_path': '/home/azureuser/cloudfiles/code/Users/formacion/azure-machine-learning/2.Ciclo_Vida_Creación_Entrenamiento_Modelos/ejercicios/4.ejecutar_pipeline/ing-prep-data_ric.yml', 'base_path': PosixPath('/home/azureuser/cloudfiles/code/Users/formacion/azure-machine-learning/2.Ciclo_Vida_Creación_Entrenamiento_Modelos/ejercicios/4.ejecutar_pipeline'), 'creation_context': None, 'serialize': <msrest.serialization.Serializer object at 0x74ed0abc5ae0>, 'command': 'python ing-prep-data.py  --input_data ${{inputs.input_data}} --output_data ${{outputs.output_data}}', 'code': '/home/azureuser/cloudfiles/code/Users/formacion/azure-machine-learning/2.Ciclo_Vida_Creación_Entrenamiento_Modelos/ejercicios/4.ejecutar_pipeline/ing-prep-data', 'environment_variables': None, 'environment': 'AzureML-sklearn-0.24-ubuntu18.04-py37-cpu@latest', 'distribution': None, 'resources': None, 'queue_settings': None, 'version': '1', 'schema': 'https://azuremlschemas.azureedge.net/latest/commandComponent.schema.json', 'type': 'command', 'display_name': 'Ingerir y preprocesar datos housing Ric', 'is_deterministic': True, 'inputs': {'input_data': {'type': 'uri_file'}}, 'outputs': {'output_data': {'type': 'uri_folder'}}, 'yaml_str': None, 'other_parameter': {}, 'additional_includes': []})"
      ]
     },
     "execution_count": 29,
     "metadata": {},
     "output_type": "execute_result"
    }
   ],
   "source": [
    "# Cargar compoente\n",
    "from azure.ai.ml import load_component\n",
    "\n",
    "ing_prep_data_ric_comp = load_component(source='/home/azureuser/cloudfiles/code/Users/formacion/azure-machine-learning/2.Ciclo_Vida_Creación_Entrenamiento_Modelos/ejercicios/4.ejecutar_pipeline/ing-prep-data_ric.yml')\n",
    "ing_prep_data_ric_comp"
   ]
  },
  {
   "cell_type": "code",
   "execution_count": null,
   "metadata": {},
   "outputs": [],
   "source": [
    "# registrar componente\n",
    "# prep_data_comp_reg=ml_client.components.create_or_update(ing_prep_data_ric_comp)"
   ]
  },
  {
   "cell_type": "markdown",
   "metadata": {},
   "source": [
    "## Build del pipeline"
   ]
  },
  {
   "cell_type": "code",
   "execution_count": 30,
   "metadata": {},
   "outputs": [],
   "source": [
    "from azure.ai.ml import Input\n",
    "from azure.ai.ml.constants import AssetTypes\n",
    "from azure.ai.ml.dsl import pipeline\n",
    "\n",
    "@pipeline(display_name='housing_ric', experiment_name='housing_ric')\n",
    "def housing_pipeline(pipeline_job_input):\n",
    "    ing_prep_data = ing_prep_data_ric_comp(input_data=pipeline_job_input)\n",
    "\n",
    "    return {\n",
    "        \"pipeline_job_prepared_data\": ing_prep_data.outputs.output_data,\n",
    "    }\n",
    "\n",
    "\n",
    "pipeline_job = housing_pipeline(Input(type=AssetTypes.URI_FILE, path=\"azureml:housing_prices:2\"))"
   ]
  },
  {
   "cell_type": "code",
   "execution_count": 31,
   "metadata": {},
   "outputs": [
    {
     "name": "stdout",
     "output_type": "stream",
     "text": [
      "display_name: housing_ric\n",
      "type: pipeline\n",
      "inputs:\n",
      "  pipeline_job_input:\n",
      "    type: uri_file\n",
      "    path: azureml:housing_prices:2\n",
      "outputs:\n",
      "  pipeline_job_prepared_data:\n",
      "    mode: upload\n",
      "    type: uri_folder\n",
      "jobs:\n",
      "  ing_prep_data:\n",
      "    type: command\n",
      "    inputs:\n",
      "      input_data:\n",
      "        path: ${{parent.inputs.pipeline_job_input}}\n",
      "    outputs:\n",
      "      output_data: ${{parent.outputs.pipeline_job_prepared_data}}\n",
      "    component:\n",
      "      $schema: https://azuremlschemas.azureedge.net/latest/commandComponent.schema.json\n",
      "      name: ing_prep_data_ric\n",
      "      version: '1'\n",
      "      display_name: Ingerir y preprocesar datos housing Ric\n",
      "      type: command\n",
      "      inputs:\n",
      "        input_data:\n",
      "          type: uri_file\n",
      "      outputs:\n",
      "        output_data:\n",
      "          type: uri_folder\n",
      "      command: python ing-prep-data.py  --input_data ${{inputs.input_data}} --output_data\n",
      "        ${{outputs.output_data}}\n",
      "      environment: azureml:AzureML-sklearn-0.24-ubuntu18.04-py37-cpu@latest\n",
      "      code: \"/mnt/batch/tasks/shared/LS_root/mounts/clusters/ricardoenm2/code/Users/formacion/azure-machine-learning/2.Ciclo_Vida_Creaci\\xF3\\\n",
      "        n_Entrenamiento_Modelos/ejercicios/4.ejecutar_pipeline/ing-prep-data\"\n",
      "      is_deterministic: true\n",
      "experiment_name: housing_ric\n",
      "settings:\n",
      "  default_datastore: azureml:training_data_ric_2\n",
      "  default_compute: azureml:ricardoenm2\n",
      "\n"
     ]
    }
   ],
   "source": [
    "# Cambiar el modo de salida\n",
    "pipeline_job.outputs.pipeline_job_prepared_data.mode = \"upload\"\n",
    "\n",
    "# Establecer el proceso\n",
    "pipeline_job.settings.default_compute = \"ricardoenm2\"\n",
    "\n",
    "# Establecer un almacén de datos\n",
    "pipeline_job.settings.default_datastore = \"training_data_ric_2\"\n",
    "\n",
    "# Mostrar el job de para revisar los cambios\n",
    "print(pipeline_job)"
   ]
  },
  {
   "cell_type": "code",
   "execution_count": 32,
   "metadata": {},
   "outputs": [
    {
     "name": "stderr",
     "output_type": "stream",
     "text": [
      "\u001b[32mUploading ing-prep-data (0.0 MBs): 100%|██████████| 1535/1535 [00:00<00:00, 88183.22it/s]\n",
      "\u001b[39m\n",
      "\n",
      "pathOnCompute is not a known attribute of class <class 'azure.ai.ml._restclient.v2023_04_01_preview.models._models_py3.UriFolderJobOutput'> and will be ignored\n"
     ]
    },
    {
     "data": {
      "text/html": [
       "<table style=\"width:100%\"><tr><th>Experiment</th><th>Name</th><th>Type</th><th>Status</th><th>Details Page</th></tr><tr><td>housing_ric</td><td>lime_heart_s08k3ptzl0</td><td>pipeline</td><td>NotStarted</td><td><a href=\"https://ml.azure.com/runs/lime_heart_s08k3ptzl0?wsid=/subscriptions/7decb7a4-f615-4cc3-9d7d-5de10998373f/resourcegroups/naturgy/workspaces/naturgyml4&amp;tid=8b85184d-f6f0-4ace-80dd-c3bda5a6c156\" target=\"_blank\" rel=\"noopener\">Link to Azure Machine Learning studio</a></td></tr></table>"
      ],
      "text/plain": [
       "PipelineJob({'inputs': {'pipeline_job_input': <azure.ai.ml.entities._job.pipeline._io.base.PipelineInput object at 0x74ed08d8b2b0>}, 'outputs': {'pipeline_job_prepared_data': <azure.ai.ml.entities._job.pipeline._io.base.PipelineOutput object at 0x74ed08d8b610>}, 'jobs': {}, 'component': PipelineComponent({'latest_version': None, 'intellectual_property': None, 'auto_increment_version': False, 'source': 'REMOTE.WORKSPACE.JOB', 'is_anonymous': True, 'auto_delete_setting': None, 'name': 'azureml_anonymous', 'description': None, 'tags': {}, 'properties': {}, 'print_as_yaml': False, 'id': None, 'Resource__source_path': None, 'base_path': '/mnt/batch/tasks/shared/LS_root/mounts/clusters/ricardoenm2/code', 'creation_context': None, 'serialize': <msrest.serialization.Serializer object at 0x74ed08d8ada0>, 'version': '1', 'schema': None, 'type': 'pipeline', 'display_name': 'housing_ric', 'is_deterministic': None, 'inputs': {'pipeline_job_input': {}}, 'outputs': {'pipeline_job_prepared_data': {}}, 'yaml_str': None, 'other_parameter': {}, 'jobs': {'ing_prep_data': Command({'parameters': {}, 'init': False, 'name': 'ing_prep_data', 'type': 'command', 'status': None, 'log_files': None, 'description': None, 'tags': {}, 'properties': {}, 'print_as_yaml': False, 'id': None, 'Resource__source_path': '', 'base_path': '/mnt/batch/tasks/shared/LS_root/mounts/clusters/ricardoenm2/code', 'creation_context': None, 'serialize': <msrest.serialization.Serializer object at 0x74ed08d8af20>, 'allowed_keys': {}, 'key_restriction': False, 'logger': <Logger attr_dict (WARNING)>, 'display_name': None, 'experiment_name': None, 'compute': None, 'services': None, 'comment': None, 'job_inputs': {'input_data': '${{parent.inputs.pipeline_job_input}}'}, 'job_outputs': {'output_data': '${{parent.outputs.pipeline_job_prepared_data}}'}, 'inputs': {'input_data': <azure.ai.ml.entities._job.pipeline._io.base.NodeInput object at 0x74ed08d8afe0>}, 'outputs': {'output_data': <azure.ai.ml.entities._job.pipeline._io.base.NodeOutput object at 0x74ed08d8af50>}, 'component': 'azureml_anonymous:546aff14-1d07-4fb0-8aaa-d9188813906b', 'referenced_control_flow_node_instance_id': None, 'kwargs': {'services': None}, 'instance_id': '33cc2213-3d0e-455e-bc70-da56ac8f34e5', 'source': 'YAML.COMPONENT', 'validate_required_input_not_provided': True, 'limits': None, 'identity': None, 'distribution': None, 'environment_variables': {}, 'environment': None, 'resources': None, 'queue_settings': None, 'parent_job_name': None, 'swept': False})}, 'job_types': {'command': 1}, 'job_sources': {'YAML.COMPONENT': 1}, 'source_job_id': None}), 'type': 'pipeline', 'status': 'NotStarted', 'log_files': None, 'name': 'lime_heart_s08k3ptzl0', 'description': None, 'tags': {}, 'properties': {}, 'print_as_yaml': False, 'id': '/subscriptions/7decb7a4-f615-4cc3-9d7d-5de10998373f/resourceGroups/naturgy/providers/Microsoft.MachineLearningServices/workspaces/naturgyml4/jobs/lime_heart_s08k3ptzl0', 'Resource__source_path': '', 'base_path': '/mnt/batch/tasks/shared/LS_root/mounts/clusters/ricardoenm2/code', 'creation_context': <azure.ai.ml.entities._system_data.SystemData object at 0x74ed08d8b490>, 'serialize': <msrest.serialization.Serializer object at 0x74ed08d8b6a0>, 'display_name': 'housing_ric', 'experiment_name': 'housing_ric', 'compute': None, 'services': {'Tracking': {'endpoint': 'azureml://northcentralus.api.azureml.ms/mlflow/v1.0/subscriptions/7decb7a4-f615-4cc3-9d7d-5de10998373f/resourceGroups/naturgy/providers/Microsoft.MachineLearningServices/workspaces/naturgyml4?', 'type': 'Tracking'}, 'Studio': {'endpoint': 'https://ml.azure.com/runs/lime_heart_s08k3ptzl0?wsid=/subscriptions/7decb7a4-f615-4cc3-9d7d-5de10998373f/resourcegroups/naturgy/workspaces/naturgyml4&tid=8b85184d-f6f0-4ace-80dd-c3bda5a6c156', 'type': 'Studio'}}, 'settings': {}, 'identity': None, 'default_code': None, 'default_environment': None})"
      ]
     },
     "execution_count": 32,
     "metadata": {},
     "output_type": "execute_result"
    }
   ],
   "source": [
    "# submit job to workspace\n",
    "pipeline_job = ml_client.jobs.create_or_update(\n",
    "    pipeline_job, experiment_name=\"housing_ric\"\n",
    ")\n",
    "pipeline_job"
   ]
  }
 ],
 "metadata": {
  "kernel_info": {
   "name": "python38-azureml"
  },
  "kernelspec": {
   "display_name": "Python 3.10 - SDK v2",
   "language": "python",
   "name": "python310-sdkv2"
  },
  "language_info": {
   "codemirror_mode": {
    "name": "ipython",
    "version": 3
   },
   "file_extension": ".py",
   "mimetype": "text/x-python",
   "name": "python",
   "nbconvert_exporter": "python",
   "pygments_lexer": "ipython3",
   "version": "3.10.16"
  },
  "microsoft": {
   "host": {
    "AzureML": {
     "notebookHasBeenCompleted": true
    }
   }
  },
  "nteract": {
   "version": "nteract-front-end@1.0.0"
  }
 },
 "nbformat": 4,
 "nbformat_minor": 2
}
