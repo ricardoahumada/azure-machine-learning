{
 "cells": [
  {
   "cell_type": "markdown",
   "metadata": {},
   "source": [
    "# Ejecutar pipelines"
   ]
  },
  {
   "cell_type": "code",
   "execution_count": null,
   "metadata": {},
   "outputs": [],
   "source": [
    "pip show azure-ai-ml"
   ]
  },
  {
   "cell_type": "markdown",
   "metadata": {},
   "source": [
    "## Conectar a workspace"
   ]
  },
  {
   "cell_type": "code",
   "execution_count": null,
   "metadata": {},
   "outputs": [],
   "source": [
    "# conectar\n",
    "from azure.ai.ml import MLClient\n",
    "from azure.identity import DefaultAzureCredential\n",
    "\n",
    "ml_client = MLClient.from_config(credential=DefaultAzureCredential())\n",
    "\n",
    "print(f\"Conectado al Workspace: {ml_client.workspace_name}\")"
   ]
  },
  {
   "cell_type": "markdown",
   "metadata": {},
   "source": [
    "## Cargar los componentes"
   ]
  },
  {
   "cell_type": "code",
   "execution_count": null,
   "metadata": {},
   "outputs": [],
   "source": [
    "from azure.ai.ml import load_component\n",
    "\n",
    "ing_prep_data = ml_client.components.get(name=\"ing_prep_data_housing_ric\", version=3)\n",
    "train_model_housing = ml_client.components.get(name=\"train_model_housing_ric\", version=1)\n",
    "eval_model_housing = ml_client.components.get(name=\"eval_model_housing_ric\", version=8)"
   ]
  },
  {
   "cell_type": "markdown",
   "metadata": {},
   "source": [
    "## Build del pipeline"
   ]
  },
  {
   "cell_type": "code",
   "execution_count": 41,
   "metadata": {},
   "outputs": [],
   "source": [
    "from azure.ai.ml import Input\n",
    "from azure.ai.ml.constants import AssetTypes\n",
    "from azure.ai.ml.dsl import pipeline\n",
    "\n",
    "\n",
    "@pipeline(name=\"house_pricing_pipeline\", description=\"Pipeline to train a house pricing model\")\n",
    "def house_pricing(input_data):\n",
    "    clean_data = ing_prep_data(input_data=input_data)\n",
    "    train_model = train_model_housing(input_data=clean_data.outputs.output_data, alpha=0.5)\n",
    "    eval_model = eval_model_housing(input_data=train_model.outputs.output_data, model_input=train_model.outputs.model_output)\n",
    "\n",
    "    return {\n",
    "        \"pipeline_job_transformed_data\": clean_data.outputs.output_data,\n",
    "        \"pipeline_job_trained_model\": train_model.outputs.model_output,\n",
    "        \"pipeline_job_output_data\": train_model.outputs.output_data,\n",
    "    }"
   ]
  },
  {
   "cell_type": "code",
   "execution_count": 42,
   "metadata": {},
   "outputs": [],
   "source": [
    "# definir job de pipeline\n",
    "pipeline_job = house_pricing(Input(type=AssetTypes.URI_FILE, path=\"azureml:housing_prices:2\"))\n",
    "\n",
    "# change the output mode\n",
    "pipeline_job.outputs.pipeline_job_transformed_data.mode = \"upload\"\n",
    "pipeline_job.outputs.pipeline_job_trained_model.mode = \"upload\"\n",
    "\n",
    "# set pipeline level compute\n",
    "pipeline_job.settings.default_compute = \"ricardoenm2\"\n",
    "\n",
    "# set pipeline level datastore\n",
    "pipeline_job.settings.default_datastore = \"training_data_ric\"\n",
    "pipeline_job.settings.force_rerun = True"
   ]
  },
  {
   "cell_type": "code",
   "execution_count": 43,
   "metadata": {},
   "outputs": [
    {
     "name": "stdout",
     "output_type": "stream",
     "text": [
      "display_name: house_pricing_pipeline\n",
      "description: Pipeline to train a house pricing model\n",
      "type: pipeline\n",
      "inputs:\n",
      "  input_data:\n",
      "    type: uri_file\n",
      "    path: azureml:housing_prices:2\n",
      "outputs:\n",
      "  pipeline_job_transformed_data:\n",
      "    mode: upload\n",
      "    type: uri_folder\n",
      "  pipeline_job_trained_model:\n",
      "    mode: upload\n",
      "    type: mlflow_model\n",
      "  pipeline_job_output_data:\n",
      "    type: uri_folder\n",
      "jobs:\n",
      "  clean_data:\n",
      "    type: command\n",
      "    inputs:\n",
      "      input_data:\n",
      "        path: ${{parent.inputs.input_data}}\n",
      "    outputs:\n",
      "      output_data: ${{parent.outputs.pipeline_job_transformed_data}}\n",
      "    resources:\n",
      "      instance_count: 1\n",
      "    component:\n",
      "      $schema: https://azuremlschemas.azureedge.net/latest/commandComponent.schema.json\n",
      "      name: ing_prep_data_housing_ric\n",
      "      version: '3'\n",
      "      display_name: Ingesta y Preprocesamiento de Datos Housing\n",
      "      type: command\n",
      "      inputs:\n",
      "        input_data:\n",
      "          type: uri_file\n",
      "          optional: false\n",
      "      outputs:\n",
      "        output_data:\n",
      "          type: uri_folder\n",
      "      command: python ing-prep-data.py --input_data ${{inputs.input_data}} --output_data\n",
      "        ${{outputs.output_data}}\n",
      "      environment: azureml://registries/azureml/environments/AzureML-sklearn-0.24-ubuntu18.04-py37-cpu/versions/49\n",
      "      code: azureml:/subscriptions/7decb7a4-f615-4cc3-9d7d-5de10998373f/resourceGroups/naturgy/providers/Microsoft.MachineLearningServices/workspaces/naturgyml4/codes/5e2325d5-6945-4c6e-90a7-7170007cf97c/versions/1\n",
      "      resources:\n",
      "        instance_count: 1\n",
      "      creation_context:\n",
      "        created_at: '2025-05-21T14:32:17.300759+00:00'\n",
      "        created_by: Ricardo Ahumada\n",
      "        created_by_type: User\n",
      "        last_modified_at: '2025-05-21T14:32:17.390728+00:00'\n",
      "        last_modified_by: Ricardo Ahumada\n",
      "        last_modified_by_type: User\n",
      "      id: /subscriptions/7decb7a4-f615-4cc3-9d7d-5de10998373f/resourceGroups/naturgy/providers/Microsoft.MachineLearningServices/workspaces/naturgyml4/components/ing_prep_data_housing_ric/versions/3\n",
      "      is_deterministic: true\n",
      "  train_model:\n",
      "    type: command\n",
      "    inputs:\n",
      "      input_data:\n",
      "        path: ${{parent.jobs.clean_data.outputs.output_data}}\n",
      "      alpha: 0.5\n",
      "    outputs:\n",
      "      model_output: ${{parent.outputs.pipeline_job_trained_model}}\n",
      "      output_data: ${{parent.outputs.pipeline_job_output_data}}\n",
      "    resources:\n",
      "      instance_count: 1\n",
      "    component:\n",
      "      $schema: https://azuremlschemas.azureedge.net/latest/commandComponent.schema.json\n",
      "      name: train_model_housing_ric\n",
      "      version: '1'\n",
      "      display_name: Entrenamiento de Modelo Lasso\n",
      "      type: command\n",
      "      inputs:\n",
      "        input_data:\n",
      "          type: uri_folder\n",
      "          optional: false\n",
      "        alpha:\n",
      "          type: number\n",
      "          optional: false\n",
      "          default: '0.01'\n",
      "      outputs:\n",
      "        model_output:\n",
      "          type: mlflow_model\n",
      "        output_data:\n",
      "          type: uri_folder\n",
      "      command: python train-model.py --input_data ${{inputs.input_data}} --alpha ${{inputs.alpha}}\n",
      "        --model_output ${{outputs.model_output}} --output_data ${{outputs.output_data}}\n",
      "      environment: azureml://registries/azureml/environments/AzureML-sklearn-0.24-ubuntu18.04-py37-cpu/versions/49\n",
      "      code: azureml:/subscriptions/7decb7a4-f615-4cc3-9d7d-5de10998373f/resourceGroups/naturgy/providers/Microsoft.MachineLearningServices/workspaces/naturgyml4/codes/bcf4eae4-bdc3-497d-8899-47557a0475d1/versions/1\n",
      "      resources:\n",
      "        instance_count: 1\n",
      "      creation_context:\n",
      "        created_at: '2025-05-21T14:44:02.204826+00:00'\n",
      "        created_by: Ricardo Ahumada\n",
      "        created_by_type: User\n",
      "        last_modified_at: '2025-05-21T14:44:02.309100+00:00'\n",
      "        last_modified_by: Ricardo Ahumada\n",
      "        last_modified_by_type: User\n",
      "      id: /subscriptions/7decb7a4-f615-4cc3-9d7d-5de10998373f/resourceGroups/naturgy/providers/Microsoft.MachineLearningServices/workspaces/naturgyml4/components/train_model_housing_ric/versions/1\n",
      "      is_deterministic: true\n",
      "  eval_model:\n",
      "    type: command\n",
      "    inputs:\n",
      "      input_data:\n",
      "        path: ${{parent.jobs.train_model.outputs.output_data}}\n",
      "      model_input:\n",
      "        path: ${{parent.jobs.train_model.outputs.model_output}}\n",
      "    resources:\n",
      "      instance_count: 1\n",
      "    component:\n",
      "      $schema: https://azuremlschemas.azureedge.net/latest/commandComponent.schema.json\n",
      "      name: eval_model_housing_ric\n",
      "      version: '7'\n",
      "      display_name: \"Evaluaci\\xF3n de Modelo Lasso\"\n",
      "      type: command\n",
      "      inputs:\n",
      "        input_data:\n",
      "          type: uri_folder\n",
      "          optional: false\n",
      "        model_input:\n",
      "          type: mlflow_model\n",
      "          optional: false\n",
      "      command: python eval-model.py --input_data ${{inputs.input_data}} --model_input\n",
      "        ${{inputs.model_input}}\n",
      "      environment: azureml://registries/azureml/environments/AzureML-sklearn-0.24-ubuntu18.04-py37-cpu/versions/49\n",
      "      code: azureml:/subscriptions/7decb7a4-f615-4cc3-9d7d-5de10998373f/resourceGroups/naturgy/providers/Microsoft.MachineLearningServices/workspaces/naturgyml4/codes/36eac662-91ca-4390-8a34-ec2b1480a416/versions/1\n",
      "      resources:\n",
      "        instance_count: 1\n",
      "      creation_context:\n",
      "        created_at: '2025-05-21T15:23:38.047745+00:00'\n",
      "        created_by: Ricardo Ahumada\n",
      "        created_by_type: User\n",
      "        last_modified_at: '2025-05-21T15:23:38.151298+00:00'\n",
      "        last_modified_by: Ricardo Ahumada\n",
      "        last_modified_by_type: User\n",
      "      id: /subscriptions/7decb7a4-f615-4cc3-9d7d-5de10998373f/resourceGroups/naturgy/providers/Microsoft.MachineLearningServices/workspaces/naturgyml4/components/eval_model_housing_ric/versions/7\n",
      "      is_deterministic: true\n",
      "settings:\n",
      "  default_datastore: azureml:training_data_ric\n",
      "  default_compute: azureml:ricardoenm2\n",
      "  force_rerun: true\n",
      "\n"
     ]
    }
   ],
   "source": [
    "print(pipeline_job)"
   ]
  },
  {
   "cell_type": "markdown",
   "metadata": {},
   "source": [
    "## Enviar el job de pipeline"
   ]
  },
  {
   "cell_type": "code",
   "execution_count": 44,
   "metadata": {},
   "outputs": [
    {
     "name": "stderr",
     "output_type": "stream",
     "text": [
      "pathOnCompute is not a known attribute of class <class 'azure.ai.ml._restclient.v2023_04_01_preview.models._models_py3.UriFolderJobOutput'> and will be ignored\n",
      "pathOnCompute is not a known attribute of class <class 'azure.ai.ml._restclient.v2023_04_01_preview.models._models_py3.MLFlowModelJobOutput'> and will be ignored\n",
      "pathOnCompute is not a known attribute of class <class 'azure.ai.ml._restclient.v2023_04_01_preview.models._models_py3.UriFolderJobOutput'> and will be ignored\n"
     ]
    },
    {
     "data": {
      "text/html": [
       "<table style=\"width:100%\"><tr><th>Experiment</th><th>Name</th><th>Type</th><th>Status</th><th>Details Page</th></tr><tr><td>pipeline_housing_prices_ric</td><td>sad_seal_2py46lqvk0</td><td>pipeline</td><td>NotStarted</td><td><a href=\"https://ml.azure.com/runs/sad_seal_2py46lqvk0?wsid=/subscriptions/7decb7a4-f615-4cc3-9d7d-5de10998373f/resourcegroups/naturgy/workspaces/naturgyml4&amp;tid=8b85184d-f6f0-4ace-80dd-c3bda5a6c156\" target=\"_blank\" rel=\"noopener\">Link to Azure Machine Learning studio</a></td></tr></table>"
      ],
      "text/plain": [
       "PipelineJob({'inputs': {'input_data': <azure.ai.ml.entities._job.pipeline._io.base.PipelineInput object at 0x0000022712357E60>}, 'outputs': {'pipeline_job_transformed_data': <azure.ai.ml.entities._job.pipeline._io.base.PipelineOutput object at 0x0000022712357980>, 'pipeline_job_trained_model': <azure.ai.ml.entities._job.pipeline._io.base.PipelineOutput object at 0x0000022712357AD0>, 'pipeline_job_output_data': <azure.ai.ml.entities._job.pipeline._io.base.PipelineOutput object at 0x0000022712357680>}, 'jobs': {}, 'component': PipelineComponent({'latest_version': None, 'intellectual_property': None, 'auto_increment_version': False, 'source': 'REMOTE.WORKSPACE.JOB', 'is_anonymous': True, 'auto_delete_setting': None, 'name': 'azureml_anonymous', 'description': 'Pipeline to train a house pricing model', 'tags': {}, 'properties': {}, 'print_as_yaml': False, 'id': None, 'Resource__source_path': None, 'base_path': 'd:\\\\Shared\\\\MyTrainingRepos\\\\azure-machine-learning\\\\2.Ciclo_Vida_Creación_Entrenamiento_Modelos\\\\ejercicios\\\\4.ejecutar_pipeline', 'creation_context': None, 'serialize': <msrest.serialization.Serializer object at 0x0000022712356C60>, 'version': '1', 'schema': None, 'type': 'pipeline', 'display_name': 'house_pricing_pipeline', 'is_deterministic': None, 'inputs': {'input_data': {}}, 'outputs': {'pipeline_job_transformed_data': {}, 'pipeline_job_trained_model': {}, 'pipeline_job_output_data': {}}, 'yaml_str': None, 'other_parameter': {}, 'jobs': {'clean_data': Command({'parameters': {}, 'init': False, 'name': 'clean_data', 'type': 'command', 'status': None, 'log_files': None, 'description': None, 'tags': {}, 'properties': {}, 'print_as_yaml': False, 'id': None, 'Resource__source_path': '', 'base_path': 'd:\\\\Shared\\\\MyTrainingRepos\\\\azure-machine-learning\\\\2.Ciclo_Vida_Creación_Entrenamiento_Modelos\\\\ejercicios\\\\4.ejecutar_pipeline', 'creation_context': None, 'serialize': <msrest.serialization.Serializer object at 0x000002271203B6E0>, 'allowed_keys': {}, 'key_restriction': False, 'logger': <Logger attr_dict (WARNING)>, 'display_name': None, 'experiment_name': None, 'compute': None, 'services': None, 'comment': None, 'job_inputs': {'input_data': '${{parent.inputs.input_data}}'}, 'job_outputs': {'output_data': '${{parent.outputs.pipeline_job_transformed_data}}'}, 'inputs': {'input_data': <azure.ai.ml.entities._job.pipeline._io.base.NodeInput object at 0x0000022712039EB0>}, 'outputs': {'output_data': <azure.ai.ml.entities._job.pipeline._io.base.NodeOutput object at 0x000002270E3CC080>}, 'component': 'ing_prep_data_housing_ric:3', 'referenced_control_flow_node_instance_id': None, 'kwargs': {'services': None}, 'instance_id': '2ce1798b-3c01-4f13-b054-8ee67c057190', 'source': 'REMOTE.WORKSPACE.COMPONENT', 'validate_required_input_not_provided': True, 'limits': None, 'identity': None, 'distribution': None, 'environment_variables': {}, 'environment': None, 'resources': {'instance_count': 1}, 'queue_settings': None, 'parent_job_name': None, 'swept': False}), 'train_model': Command({'parameters': {}, 'init': False, 'name': 'train_model', 'type': 'command', 'status': None, 'log_files': None, 'description': None, 'tags': {}, 'properties': {}, 'print_as_yaml': False, 'id': None, 'Resource__source_path': '', 'base_path': 'd:\\\\Shared\\\\MyTrainingRepos\\\\azure-machine-learning\\\\2.Ciclo_Vida_Creación_Entrenamiento_Modelos\\\\ejercicios\\\\4.ejecutar_pipeline', 'creation_context': None, 'serialize': <msrest.serialization.Serializer object at 0x0000022712357A40>, 'allowed_keys': {}, 'key_restriction': False, 'logger': <Logger attr_dict (WARNING)>, 'display_name': None, 'experiment_name': None, 'compute': None, 'services': None, 'comment': None, 'job_inputs': {'alpha': '0.5', 'input_data': '${{parent.jobs.clean_data.outputs.output_data}}'}, 'job_outputs': {'model_output': '${{parent.outputs.pipeline_job_trained_model}}', 'output_data': '${{parent.outputs.pipeline_job_output_data}}'}, 'inputs': {'alpha': <azure.ai.ml.entities._job.pipeline._io.base.NodeInput object at 0x0000022712357E90>, 'input_data': <azure.ai.ml.entities._job.pipeline._io.base.NodeInput object at 0x0000022712357920>}, 'outputs': {'model_output': <azure.ai.ml.entities._job.pipeline._io.base.NodeOutput object at 0x0000022712357A10>, 'output_data': <azure.ai.ml.entities._job.pipeline._io.base.NodeOutput object at 0x0000022712357C80>}, 'component': 'train_model_housing_ric:1', 'referenced_control_flow_node_instance_id': None, 'kwargs': {'services': None}, 'instance_id': '9ed3ead5-66c9-4be4-b5a2-312bef6d9699', 'source': 'REMOTE.WORKSPACE.COMPONENT', 'validate_required_input_not_provided': True, 'limits': None, 'identity': None, 'distribution': None, 'environment_variables': {}, 'environment': None, 'resources': {'instance_count': 1}, 'queue_settings': None, 'parent_job_name': None, 'swept': False}), 'eval_model': Command({'parameters': {}, 'init': False, 'name': 'eval_model', 'type': 'command', 'status': None, 'log_files': None, 'description': None, 'tags': {}, 'properties': {}, 'print_as_yaml': False, 'id': None, 'Resource__source_path': '', 'base_path': 'd:\\\\Shared\\\\MyTrainingRepos\\\\azure-machine-learning\\\\2.Ciclo_Vida_Creación_Entrenamiento_Modelos\\\\ejercicios\\\\4.ejecutar_pipeline', 'creation_context': None, 'serialize': <msrest.serialization.Serializer object at 0x0000022712356D50>, 'allowed_keys': {}, 'key_restriction': False, 'logger': <Logger attr_dict (WARNING)>, 'display_name': None, 'experiment_name': None, 'compute': None, 'services': None, 'comment': None, 'job_inputs': {'input_data': '${{parent.jobs.train_model.outputs.output_data}}', 'model_input': '${{parent.jobs.train_model.outputs.model_output}}'}, 'job_outputs': {}, 'inputs': {'input_data': <azure.ai.ml.entities._job.pipeline._io.base.NodeInput object at 0x0000022712356BD0>, 'model_input': <azure.ai.ml.entities._job.pipeline._io.base.NodeInput object at 0x00000227123574D0>}, 'outputs': {}, 'component': 'eval_model_housing_ric:7', 'referenced_control_flow_node_instance_id': None, 'kwargs': {'services': None}, 'instance_id': '39130934-93c3-4a9e-9956-7527514473a7', 'source': 'REMOTE.WORKSPACE.COMPONENT', 'validate_required_input_not_provided': True, 'limits': None, 'identity': None, 'distribution': None, 'environment_variables': {}, 'environment': None, 'resources': {'instance_count': 1}, 'queue_settings': None, 'parent_job_name': None, 'swept': False})}, 'job_types': {'command': 3}, 'job_sources': {'REMOTE.WORKSPACE.COMPONENT': 3}, 'source_job_id': None}), 'type': 'pipeline', 'status': 'NotStarted', 'log_files': None, 'name': 'sad_seal_2py46lqvk0', 'description': 'Pipeline to train a house pricing model', 'tags': {}, 'properties': {'mlflow.source.git.repoURL': 'git@github.com:ricardoahumada/azure-machine-learning.git', 'mlflow.source.git.branch': 'main', 'mlflow.source.git.commit': '78fe6da9af6efd3c7a67418d5fe574d23c055558', 'azureml.git.dirty': 'True'}, 'print_as_yaml': False, 'id': '/subscriptions/7decb7a4-f615-4cc3-9d7d-5de10998373f/resourceGroups/naturgy/providers/Microsoft.MachineLearningServices/workspaces/naturgyml4/jobs/sad_seal_2py46lqvk0', 'Resource__source_path': '', 'base_path': 'd:\\\\Shared\\\\MyTrainingRepos\\\\azure-machine-learning\\\\2.Ciclo_Vida_Creación_Entrenamiento_Modelos\\\\ejercicios\\\\4.ejecutar_pipeline', 'creation_context': <azure.ai.ml.entities._system_data.SystemData object at 0x0000022712355280>, 'serialize': <msrest.serialization.Serializer object at 0x0000022712357B00>, 'display_name': 'house_pricing_pipeline', 'experiment_name': 'pipeline_housing_prices_ric', 'compute': None, 'services': {'Tracking': {'endpoint': 'azureml://northcentralus.api.azureml.ms/mlflow/v1.0/subscriptions/7decb7a4-f615-4cc3-9d7d-5de10998373f/resourceGroups/naturgy/providers/Microsoft.MachineLearningServices/workspaces/naturgyml4?', 'type': 'Tracking'}, 'Studio': {'endpoint': 'https://ml.azure.com/runs/sad_seal_2py46lqvk0?wsid=/subscriptions/7decb7a4-f615-4cc3-9d7d-5de10998373f/resourcegroups/naturgy/workspaces/naturgyml4&tid=8b85184d-f6f0-4ace-80dd-c3bda5a6c156', 'type': 'Studio'}}, 'settings': {}, 'identity': None, 'default_code': None, 'default_environment': None})"
      ]
     },
     "execution_count": 44,
     "metadata": {},
     "output_type": "execute_result"
    }
   ],
   "source": [
    "# submit job to workspace\n",
    "pipeline_job = ml_client.jobs.create_or_update(\n",
    "    pipeline_job,\n",
    "    experiment_name=\"pipeline_housing_prices_ric\",\n",
    "    display_name=\"housing_prices_pipeline_job_ric\"\n",
    ")\n",
    "\n",
    "pipeline_job"
   ]
  }
 ],
 "metadata": {
  "kernel_info": {
   "name": "python38-azureml"
  },
  "kernelspec": {
   "display_name": "Python 3",
   "language": "python",
   "name": "python3"
  },
  "language_info": {
   "codemirror_mode": {
    "name": "ipython",
    "version": 3
   },
   "file_extension": ".py",
   "mimetype": "text/x-python",
   "name": "python",
   "nbconvert_exporter": "python",
   "pygments_lexer": "ipython3",
   "version": "3.12.4"
  },
  "microsoft": {
   "host": {
    "AzureML": {
     "notebookHasBeenCompleted": true
    }
   }
  },
  "nteract": {
   "version": "nteract-front-end@1.0.0"
  }
 },
 "nbformat": 4,
 "nbformat_minor": 2
}
